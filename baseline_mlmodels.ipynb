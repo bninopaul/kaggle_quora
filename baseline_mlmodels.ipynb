{
 "cells": [
  {
   "cell_type": "code",
   "execution_count": 1,
   "metadata": {},
   "outputs": [],
   "source": [
    "#______Standard Packages___________#\n",
    "import pandas as pd\n",
    "import numpy as np \n",
    "import matplotlib.pyplot as plt \n",
    "import seaborn as sns\n",
    "import os\n",
    "import pickle\n",
    "%matplotlib inline\n",
    "import multiprocessing as mp\n",
    "from scipy.sparse import csr_matrix\n",
    "\n",
    "#_________NLP specfic Packages_____________#\n",
    "\n",
    "import requests #lets us leverage HTML code\n",
    "from bs4 import BeautifulSoup #Web Scraper\n",
    "import spacy\n",
    "import nltk\n",
    "from nltk.tokenize.toktok import ToktokTokenizer\n",
    "import re\n",
    "import unicodedata\n",
    "from keras.preprocessing.text import Tokenizer\n",
    "\n",
    "\n",
    "from sklearn.ensemble import RandomForestClassifier\n",
    "from sklearn.metrics import f1_score"
   ]
  },
  {
   "cell_type": "markdown",
   "metadata": {},
   "source": [
    "### Load the Files"
   ]
  },
  {
   "cell_type": "code",
   "execution_count": 2,
   "metadata": {},
   "outputs": [],
   "source": [
    "#train data\n",
    "base_path = \"/home/nbatanay/.kaggle/quora-insincere-questions-classification/\"\n",
    "train_csv = pd.read_csv(base_path+\"train.csv\")\n",
    "\n",
    "\n",
    "#test data\n",
    "test_csv = pd.read_csv(base_path+\"test.csv\")"
   ]
  },
  {
   "cell_type": "code",
   "execution_count": 3,
   "metadata": {},
   "outputs": [
    {
     "name": "stdout",
     "output_type": "stream",
     "text": [
      "(1306122, 3)\n"
     ]
    },
    {
     "data": {
      "text/html": [
       "<div>\n",
       "<style scoped>\n",
       "    .dataframe tbody tr th:only-of-type {\n",
       "        vertical-align: middle;\n",
       "    }\n",
       "\n",
       "    .dataframe tbody tr th {\n",
       "        vertical-align: top;\n",
       "    }\n",
       "\n",
       "    .dataframe thead th {\n",
       "        text-align: right;\n",
       "    }\n",
       "</style>\n",
       "<table border=\"1\" class=\"dataframe\">\n",
       "  <thead>\n",
       "    <tr style=\"text-align: right;\">\n",
       "      <th></th>\n",
       "      <th>qid</th>\n",
       "      <th>question_text</th>\n",
       "      <th>target</th>\n",
       "    </tr>\n",
       "  </thead>\n",
       "  <tbody>\n",
       "    <tr>\n",
       "      <th>0</th>\n",
       "      <td>00002165364db923c7e6</td>\n",
       "      <td>How did Quebec nationalists see their province...</td>\n",
       "      <td>0</td>\n",
       "    </tr>\n",
       "    <tr>\n",
       "      <th>1</th>\n",
       "      <td>000032939017120e6e44</td>\n",
       "      <td>Do you have an adopted dog, how would you enco...</td>\n",
       "      <td>0</td>\n",
       "    </tr>\n",
       "    <tr>\n",
       "      <th>2</th>\n",
       "      <td>0000412ca6e4628ce2cf</td>\n",
       "      <td>Why does velocity affect time? Does velocity a...</td>\n",
       "      <td>0</td>\n",
       "    </tr>\n",
       "    <tr>\n",
       "      <th>3</th>\n",
       "      <td>000042bf85aa498cd78e</td>\n",
       "      <td>How did Otto von Guericke used the Magdeburg h...</td>\n",
       "      <td>0</td>\n",
       "    </tr>\n",
       "    <tr>\n",
       "      <th>4</th>\n",
       "      <td>0000455dfa3e01eae3af</td>\n",
       "      <td>Can I convert montra helicon D to a mountain b...</td>\n",
       "      <td>0</td>\n",
       "    </tr>\n",
       "  </tbody>\n",
       "</table>\n",
       "</div>"
      ],
      "text/plain": [
       "                    qid                                      question_text  \\\n",
       "0  00002165364db923c7e6  How did Quebec nationalists see their province...   \n",
       "1  000032939017120e6e44  Do you have an adopted dog, how would you enco...   \n",
       "2  0000412ca6e4628ce2cf  Why does velocity affect time? Does velocity a...   \n",
       "3  000042bf85aa498cd78e  How did Otto von Guericke used the Magdeburg h...   \n",
       "4  0000455dfa3e01eae3af  Can I convert montra helicon D to a mountain b...   \n",
       "\n",
       "   target  \n",
       "0       0  \n",
       "1       0  \n",
       "2       0  \n",
       "3       0  \n",
       "4       0  "
      ]
     },
     "execution_count": 3,
     "metadata": {},
     "output_type": "execute_result"
    }
   ],
   "source": [
    "print(train_csv.shape)\n",
    "train_csv.head()"
   ]
  },
  {
   "cell_type": "code",
   "execution_count": 4,
   "metadata": {},
   "outputs": [
    {
     "name": "stdout",
     "output_type": "stream",
     "text": [
      "(56370, 2)\n"
     ]
    },
    {
     "data": {
      "text/html": [
       "<div>\n",
       "<style scoped>\n",
       "    .dataframe tbody tr th:only-of-type {\n",
       "        vertical-align: middle;\n",
       "    }\n",
       "\n",
       "    .dataframe tbody tr th {\n",
       "        vertical-align: top;\n",
       "    }\n",
       "\n",
       "    .dataframe thead th {\n",
       "        text-align: right;\n",
       "    }\n",
       "</style>\n",
       "<table border=\"1\" class=\"dataframe\">\n",
       "  <thead>\n",
       "    <tr style=\"text-align: right;\">\n",
       "      <th></th>\n",
       "      <th>qid</th>\n",
       "      <th>question_text</th>\n",
       "    </tr>\n",
       "  </thead>\n",
       "  <tbody>\n",
       "    <tr>\n",
       "      <th>0</th>\n",
       "      <td>00014894849d00ba98a9</td>\n",
       "      <td>My voice range is A2-C5. My chest voice goes u...</td>\n",
       "    </tr>\n",
       "    <tr>\n",
       "      <th>1</th>\n",
       "      <td>000156468431f09b3cae</td>\n",
       "      <td>How much does a tutor earn in Bangalore?</td>\n",
       "    </tr>\n",
       "    <tr>\n",
       "      <th>2</th>\n",
       "      <td>000227734433360e1aae</td>\n",
       "      <td>What are the best made pocket knives under $20...</td>\n",
       "    </tr>\n",
       "    <tr>\n",
       "      <th>3</th>\n",
       "      <td>0005e06fbe3045bd2a92</td>\n",
       "      <td>Why would they add a hypothetical scenario tha...</td>\n",
       "    </tr>\n",
       "    <tr>\n",
       "      <th>4</th>\n",
       "      <td>00068a0f7f41f50fc399</td>\n",
       "      <td>What is the dresscode for Techmahindra freshers?</td>\n",
       "    </tr>\n",
       "  </tbody>\n",
       "</table>\n",
       "</div>"
      ],
      "text/plain": [
       "                    qid                                      question_text\n",
       "0  00014894849d00ba98a9  My voice range is A2-C5. My chest voice goes u...\n",
       "1  000156468431f09b3cae           How much does a tutor earn in Bangalore?\n",
       "2  000227734433360e1aae  What are the best made pocket knives under $20...\n",
       "3  0005e06fbe3045bd2a92  Why would they add a hypothetical scenario tha...\n",
       "4  00068a0f7f41f50fc399   What is the dresscode for Techmahindra freshers?"
      ]
     },
     "execution_count": 4,
     "metadata": {},
     "output_type": "execute_result"
    }
   ],
   "source": [
    "print(test_csv.shape)\n",
    "test_csv.head()"
   ]
  },
  {
   "cell_type": "markdown",
   "metadata": {},
   "source": [
    "### Data Exploration "
   ]
  },
  {
   "cell_type": "code",
   "execution_count": 5,
   "metadata": {},
   "outputs": [
    {
     "data": {
      "text/html": [
       "<div>\n",
       "<style scoped>\n",
       "    .dataframe tbody tr th:only-of-type {\n",
       "        vertical-align: middle;\n",
       "    }\n",
       "\n",
       "    .dataframe tbody tr th {\n",
       "        vertical-align: top;\n",
       "    }\n",
       "\n",
       "    .dataframe thead th {\n",
       "        text-align: right;\n",
       "    }\n",
       "</style>\n",
       "<table border=\"1\" class=\"dataframe\">\n",
       "  <thead>\n",
       "    <tr style=\"text-align: right;\">\n",
       "      <th></th>\n",
       "      <th>counts</th>\n",
       "      <th>percentage</th>\n",
       "    </tr>\n",
       "  </thead>\n",
       "  <tbody>\n",
       "    <tr>\n",
       "      <th>0</th>\n",
       "      <td>1225312</td>\n",
       "      <td>0.93813</td>\n",
       "    </tr>\n",
       "    <tr>\n",
       "      <th>1</th>\n",
       "      <td>80810</td>\n",
       "      <td>0.06187</td>\n",
       "    </tr>\n",
       "  </tbody>\n",
       "</table>\n",
       "</div>"
      ],
      "text/plain": [
       "    counts  percentage\n",
       "0  1225312     0.93813\n",
       "1    80810     0.06187"
      ]
     },
     "execution_count": 5,
     "metadata": {},
     "output_type": "execute_result"
    }
   ],
   "source": [
    "#distribution of data\n",
    "pd.concat([  \n",
    "    train_csv[\"target\"].value_counts().rename(\"counts\"),\n",
    "    train_csv[\"target\"].value_counts(normalize=True).rename(\"percentage\")], axis=1)"
   ]
  },
  {
   "cell_type": "code",
   "execution_count": 6,
   "metadata": {},
   "outputs": [
    {
     "name": "stdout",
     "output_type": "stream",
     "text": [
      "Do you feel pleasure by castrating a high school age boy and listening to his loud screams?\n",
      "Is a 6.5 inch length and a 3-inch girth penis size good enough to please a woman during sex?\n",
      "Shouldn't Trump have to recuse himself from the presidency until it is proven the Russians didn't put him in the presidency?\n",
      "With all honesty do white men find in awkward or disturbing to see a black male dating a white woman?\n",
      "Im a loyal and handsome black man who is educated, respectful and peaceful? Why do I only attract hoes and psycho females? Is it because I'm a good guy who catches feelings too quickly? Do good black women exist?\n",
      "Why do Arabs envy but Hate turkic people at the same time?\n",
      "Why do religious people think their beliefs are more important than scientifically proven facts?\n",
      "Can anything be done to stop Donny's expensive little parade, or does being President trump everything in this regard?\n",
      "What do people do with AR-15 guns other than commit mass shootings?\n",
      "Is there a such thing as a 'good' person who's of European descent, especially West European descent?\n"
     ]
    }
   ],
   "source": [
    "#examples of insincere questions\n",
    "insincere = train_csv[train_csv[\"target\"]==1]\n",
    "for q in insincere.iloc[np.random.randint(0, len(insincere), size=10)][\"question_text\"]:\n",
    "    print(q)"
   ]
  },
  {
   "cell_type": "code",
   "execution_count": 7,
   "metadata": {},
   "outputs": [
    {
     "name": "stdout",
     "output_type": "stream",
     "text": [
      "What are good hotels for short-term business travelers in Popayan, Colombia?\n",
      "Why does Google play movies crash several times in Android?\n",
      "Why is it so hard to get an unbiased opinion regarding politics?\n",
      "How is pre-ordering considered bad?\n",
      "What have your kids taught you about yourself?\n",
      "Which episode did murat gets arrested because of emre?\n",
      "I want to leave my job because my immediate seniors are targeting me and I hate the people at work and I hate the work I do. Should I quit?\n",
      "Which Organic Chemistry book should I use to crack AIIMS?\n",
      "What’s Tupac real name?\n",
      "What credentials does an alternative health therapist require?\n"
     ]
    }
   ],
   "source": [
    "#example of neutral questions\n",
    "sincere = train_csv[train_csv[\"target\"]==0]\n",
    "for q in sincere.iloc[np.random.randint(0, len(insincere), size=10)][\"question_text\"]:\n",
    "    print(q)"
   ]
  },
  {
   "cell_type": "code",
   "execution_count": 8,
   "metadata": {},
   "outputs": [
    {
     "data": {
      "text/plain": [
       "count    1.306122e+06\n",
       "mean     1.280350e+01\n",
       "std      7.052138e+00\n",
       "min      1.000000e+00\n",
       "25%      8.000000e+00\n",
       "50%      1.100000e+01\n",
       "75%      1.500000e+01\n",
       "max      1.220000e+02\n",
       "dtype: float64"
      ]
     },
     "execution_count": 8,
     "metadata": {},
     "output_type": "execute_result"
    },
    {
     "data": {
      "image/png": "[encoded data removed]",
      "text/plain": [
       "<matplotlib.figure.Figure at 0x7feed6d2eeb8>"
      ]
     },
     "metadata": {},
     "output_type": "display_data"
    }
   ],
   "source": [
    "#how long a question is, on average?\n",
    "sentence_length = \\\n",
    "train_csv[\"question_text\"].apply(lambda x: x.split(\" \"))\\\n",
    "                          .apply(lambda x: len(x))\\\n",
    "                          .values\n",
    "\n",
    "_ = plt.hist(sentence_length, bins=20)\n",
    "plt.xlabel(\"length of question(Number of words)\")\n",
    "plt.ylabel(\"Counts\")\n",
    "\n",
    "pd.Series(sentence_length).describe()"
   ]
  },
  {
   "cell_type": "code",
   "execution_count": 9,
   "metadata": {},
   "outputs": [],
   "source": [
    "#load the contractions \n",
    "contractions_map = pd.read_pickle(\"../nlp_training/CONTRACTION_MAP.pickle\")\n",
    "\n",
    "#load the stopwords\n",
    "stopword_list = nltk.corpus.stopwords.words('english')\n",
    "stopword_list.remove('no')\n",
    "stopword_list.remove('not')\n",
    "\n",
    "#load the spacy model\n",
    "spacy_mod = spacy.load('en_core_web_md', parse=True, tag=True, entity=True)\n",
    "\n",
    "#tokenizer \n",
    "tokenizer = ToktokTokenizer()\n",
    "\n",
    "def remove_accented_chars(text):\n",
    "    \"\"\"\n",
    "    Removes the accented characters and replaces them \n",
    "    with ascii values counterparts.\n",
    "    INPUT:\n",
    "        text: <str>\n",
    "    \"\"\"\n",
    "    text = unicodedata.normalize('NFKD', text)\\\n",
    "                      .encode('ascii', 'ignore')\\\n",
    "                      .decode('utf-8', 'ignore')\n",
    "    return text\n",
    "\n",
    "def strip_html_tags(text):\n",
    "    \"\"\"\n",
    "    Removes the html tags.\n",
    "    INPUT:\n",
    "        text: <str>\n",
    "    \"\"\"\n",
    "    soup = BeautifulSoup(text, \"html.parser\")\n",
    "    stripped_text = soup.get_text()\n",
    "    return stripped_text\n",
    "\n",
    "def expand_contractions(text, contraction_mapping=contractions_map):\n",
    "    \"\"\"\n",
    "    Expands common phrase contractions.\n",
    "    INPUT:\n",
    "        text: <str> text to look for contractions and expand them\n",
    "        contractions_map: <dict> containing the keys as the contractions \n",
    "                                and values the expanded versions \n",
    "    \"\"\"\n",
    "    \n",
    "    contractions_pattern = re.compile('({})'.format('|'.join(contraction_mapping.keys())), \n",
    "                                      flags=re.IGNORECASE|re.DOTALL)\n",
    "    def expand_match(contraction):\n",
    "        match = contraction.group(0)\n",
    "        first_char = match[0]\n",
    "        expanded_contraction = contraction_mapping.get(match)\\\n",
    "                                if contraction_mapping.get(match)\\\n",
    "                                else contraction_mapping.get(match.lower())                       \n",
    "        expanded_contraction = first_char+expanded_contraction[1:]\n",
    "        return expanded_contraction\n",
    "        \n",
    "    expanded_text = contractions_pattern.sub(expand_match, text)\n",
    "    expanded_text = re.sub(\"'\", \"\", expanded_text)\n",
    "    return expanded_text\n",
    "\n",
    "def remove_special_characters(text, remove_digits=False):\n",
    "    \"\"\"\n",
    "    Removes the special characters from the text\n",
    "    INPUT:\n",
    "        text: <str> text to remove special characters\n",
    "        remove_digit: <bool> option to remove the number digits \n",
    "                            in the text\n",
    "    \"\"\"\n",
    "    pattern = r'[^a-zA-z0-9\\s]' if not remove_digits else r'[^a-zA-z\\s]'\n",
    "    text = re.sub(pattern, '', text)\n",
    "    return text\n",
    "\n",
    "def remove_stopwords(text, stopword_list, tokenizer, is_lower_case=False):\n",
    "    \"\"\"\n",
    "    Removes the stopwords from the text \n",
    "    given a list of stopwords.\n",
    "    INPUT:\n",
    "        text: <str> text to remove the stopwords\n",
    "        stopword_list: <list> containing the stopwords\n",
    "        tokenizer: <python object> with tokenize() method that transforms\n",
    "                        text to a list/iterable of tokens/words.\n",
    "    \"\"\"\n",
    "    tokens = tokenizer.tokenize(text)\n",
    "    tokens = [token.strip() for token in tokens]\n",
    "    if is_lower_case:\n",
    "        filtered_tokens = [token for token in tokens if token not in stopword_list]\n",
    "    else:\n",
    "        filtered_tokens = [token for token in tokens if token.lower() not in stopword_list]\n",
    "    filtered_text = ' '.join(filtered_tokens)    \n",
    "    return filtered_text\n",
    "\n",
    "\n",
    "def lemmatize_text(text, nlp_mod=spacy_mod):\n",
    "    \"\"\"\n",
    "    Transform the words/tokens to its root word.\n",
    "    INPUT:\n",
    "        text: <str> text to lemmatize\n",
    "        spacy_model: <spacy object>\n",
    "        \n",
    "    \"\"\"\n",
    "    text = nlp_mod(text)\n",
    "    text = ' '.join([word.lemma_ if (word.ent_iob_ == \"O\" and word.lemma_ != \"-PRON-\")\n",
    "                     else word.text for word in text])\n",
    "    return text\n",
    "\n",
    "\n",
    "def text_preproc(text, html_stripping=True, contraction_expansion=True,\n",
    "                 accented_char_removal=True, text_lower_case=False, \n",
    "                 text_lemmatization=True, special_char_removal=True, \n",
    "                 stopword_removal=True, remove_digits=True,\n",
    "                 stopword_list=stopword_list, tokenizer=tokenizer):\n",
    "    \n",
    "    \"\"\"\n",
    "    Preprocess the text data.\n",
    "    \"\"\"\n",
    "    \n",
    "    # strip HTML\n",
    "    if html_stripping:\n",
    "        text = strip_html_tags(text)\n",
    "    # remove accented characters\n",
    "    if accented_char_removal:\n",
    "        text = remove_accented_chars(text)\n",
    "    # expand contractions    \n",
    "    if contraction_expansion:\n",
    "        text = expand_contractions(text)\n",
    "    # lowercase the text    \n",
    "    if text_lower_case:\n",
    "        text = text.lower() #Standard text lower method\n",
    "    # remove extra newlines\n",
    "    text = re.sub(r'[\\r|\\n|\\r\\n]+', ' ', text)\n",
    "    # lemmatize text\n",
    "    if text_lemmatization:\n",
    "        text = lemmatize_text(text)\n",
    "    # remove special characters and\\or digits    \n",
    "    if special_char_removal:\n",
    "        # insert spaces between special characters to isolate them    \n",
    "        special_char_pattern = re.compile(r'([{.(-)!}])')\n",
    "        text = special_char_pattern.sub(\" \\\\1 \", text)\n",
    "        text = remove_special_characters(text, remove_digits=remove_digits)  \n",
    "    # remove extra whitespace\n",
    "    text = re.sub(' +', ' ', text)\n",
    "    # remove stopwords\n",
    "    if stopword_removal:\n",
    "        text = remove_stopwords(text, stopword_list, tokenizer, is_lower_case=text_lower_case)\n",
    "    \n",
    "    return tokenizer.tokenize(text)"
   ]
  },
  {
   "cell_type": "code",
   "execution_count": 10,
   "metadata": {},
   "outputs": [
    {
     "data": {
      "text/plain": [
       "(['US',\n",
       "  'stop',\n",
       "  'support',\n",
       "  'Kosovo',\n",
       "  'terrorist',\n",
       "  'Albanians',\n",
       "  'actually',\n",
       "  'ISIS'],\n",
       " 'When will the US stop supporting Kosovo terrorists (Albanians), who are actually the same as ISIS?',\n",
       " 1)"
      ]
     },
     "execution_count": 10,
     "metadata": {},
     "output_type": "execute_result"
    }
   ],
   "source": [
    "#show an example of preprocessing\n",
    "ind = 617\n",
    "(text_preproc(train_csv[\"question_text\"].iloc[ind], text_lower_case=False), \n",
    " train_csv[\"question_text\"].iloc[ind],\n",
    " train_csv[\"target\"].iloc[ind])"
   ]
  },
  {
   "cell_type": "code",
   "execution_count": 11,
   "metadata": {},
   "outputs": [
    {
     "name": "stdout",
     "output_type": "stream",
     "text": [
      "CPU times: user 10.7 s, sys: 5.39 s, total: 16 s\n",
      "Wall time: 19min 53s\n"
     ]
    }
   ],
   "source": [
    "%%time\n",
    "pool = mp.Pool(processes=mp.cpu_count()-3)\n",
    "pool_res = pd.Series(pool.map(text_preproc, train_csv[\"question_text\"].values))\n",
    "pool.close()"
   ]
  },
  {
   "cell_type": "code",
   "execution_count": 12,
   "metadata": {},
   "outputs": [
    {
     "data": {
      "text/html": [
       "<div>\n",
       "<style scoped>\n",
       "    .dataframe tbody tr th:only-of-type {\n",
       "        vertical-align: middle;\n",
       "    }\n",
       "\n",
       "    .dataframe tbody tr th {\n",
       "        vertical-align: top;\n",
       "    }\n",
       "\n",
       "    .dataframe thead th {\n",
       "        text-align: right;\n",
       "    }\n",
       "</style>\n",
       "<table border=\"1\" class=\"dataframe\">\n",
       "  <thead>\n",
       "    <tr style=\"text-align: right;\">\n",
       "      <th></th>\n",
       "      <th>qid</th>\n",
       "      <th>question_text</th>\n",
       "      <th>target</th>\n",
       "      <th>preproc</th>\n",
       "    </tr>\n",
       "  </thead>\n",
       "  <tbody>\n",
       "    <tr>\n",
       "      <th>0</th>\n",
       "      <td>00002165364db923c7e6</td>\n",
       "      <td>How did Quebec nationalists see their province...</td>\n",
       "      <td>0</td>\n",
       "      <td>[Quebec, nationalist, see, province, nation]</td>\n",
       "    </tr>\n",
       "    <tr>\n",
       "      <th>1</th>\n",
       "      <td>000032939017120e6e44</td>\n",
       "      <td>Do you have an adopted dog, how would you enco...</td>\n",
       "      <td>0</td>\n",
       "      <td>[adopt, dog, would, encourage, people, adopt, ...</td>\n",
       "    </tr>\n",
       "    <tr>\n",
       "      <th>2</th>\n",
       "      <td>0000412ca6e4628ce2cf</td>\n",
       "      <td>Why does velocity affect time? Does velocity a...</td>\n",
       "      <td>0</td>\n",
       "      <td>[velocity, affect, time, velocity, affect, spa...</td>\n",
       "    </tr>\n",
       "    <tr>\n",
       "      <th>3</th>\n",
       "      <td>000042bf85aa498cd78e</td>\n",
       "      <td>How did Otto von Guericke used the Magdeburg h...</td>\n",
       "      <td>0</td>\n",
       "      <td>[Otto, von, Guericke, use, Magdeburg, hemisphere]</td>\n",
       "    </tr>\n",
       "    <tr>\n",
       "      <th>4</th>\n",
       "      <td>0000455dfa3e01eae3af</td>\n",
       "      <td>Can I convert montra helicon D to a mountain b...</td>\n",
       "      <td>0</td>\n",
       "      <td>[convert, montra, helicon, mountain, bike, cha...</td>\n",
       "    </tr>\n",
       "  </tbody>\n",
       "</table>\n",
       "</div>"
      ],
      "text/plain": [
       "                    qid                                      question_text  \\\n",
       "0  00002165364db923c7e6  How did Quebec nationalists see their province...   \n",
       "1  000032939017120e6e44  Do you have an adopted dog, how would you enco...   \n",
       "2  0000412ca6e4628ce2cf  Why does velocity affect time? Does velocity a...   \n",
       "3  000042bf85aa498cd78e  How did Otto von Guericke used the Magdeburg h...   \n",
       "4  0000455dfa3e01eae3af  Can I convert montra helicon D to a mountain b...   \n",
       "\n",
       "   target                                            preproc  \n",
       "0       0       [Quebec, nationalist, see, province, nation]  \n",
       "1       0  [adopt, dog, would, encourage, people, adopt, ...  \n",
       "2       0  [velocity, affect, time, velocity, affect, spa...  \n",
       "3       0  [Otto, von, Guericke, use, Magdeburg, hemisphere]  \n",
       "4       0  [convert, montra, helicon, mountain, bike, cha...  "
      ]
     },
     "execution_count": 12,
     "metadata": {},
     "output_type": "execute_result"
    }
   ],
   "source": [
    "train_csv[\"preproc\"] = pool_res\n",
    "train_csv.head()"
   ]
  },
  {
   "cell_type": "code",
   "execution_count": 13,
   "metadata": {},
   "outputs": [
    {
     "name": "stdout",
     "output_type": "stream",
     "text": [
      "(200105,)\n"
     ]
    },
    {
     "data": {
      "text/plain": [
       "good       109656\n",
       "not         86963\n",
       "get         75385\n",
       "would       59279\n",
       "like        45538\n",
       "make        43599\n",
       "people      43594\n",
       "use         43399\n",
       "one         33346\n",
       "India       28822\n",
       "way         26751\n",
       "time        26136\n",
       "work        26078\n",
       "take        25827\n",
       "know        25345\n",
       "think       25302\n",
       "go          24700\n",
       "life        22328\n",
       "someone     21817\n",
       "much        21483\n",
       "dtype: int64"
      ]
     },
     "execution_count": 13,
     "metadata": {},
     "output_type": "execute_result"
    }
   ],
   "source": [
    "#for each sincere and insincere questions, let's look at the top 20 most occurring words\n",
    "\n",
    "#sincere questions\n",
    "sincere_vocab = pd.value_counts(np.concatenate(train_csv[train_csv[\"target\"]==0][\"preproc\"].values))\n",
    "print(sincere_vocab.shape)\n",
    "sincere_vocab.head(20)"
   ]
  },
  {
   "cell_type": "code",
   "execution_count": 14,
   "metadata": {},
   "outputs": [
    {
     "name": "stdout",
     "output_type": "stream",
     "text": [
      "(34839,)\n"
     ]
    },
    {
     "data": {
      "text/plain": [
       "not        17781\n",
       "people     13012\n",
       "woman       7037\n",
       "like        6151\n",
       "man         5433\n",
       "Trump       4903\n",
       "would       4481\n",
       "get         4405\n",
       "think       4328\n",
       "white       3960\n",
       "many        3572\n",
       "Muslims     3565\n",
       "make        3473\n",
       "girl        3441\n",
       "country     3364\n",
       "black       3325\n",
       "Quora       3312\n",
       "India       3215\n",
       "Indian      3121\n",
       "want        3019\n",
       "dtype: int64"
      ]
     },
     "execution_count": 14,
     "metadata": {},
     "output_type": "execute_result"
    }
   ],
   "source": [
    "#insincere questions\n",
    "insincere_vocab = pd.value_counts(np.concatenate(train_csv[train_csv[\"target\"]==1][\"preproc\"].values))\n",
    "print(insincere_vocab.shape)\n",
    "insincere_vocab.head(20)"
   ]
  },
  {
   "cell_type": "code",
   "execution_count": 15,
   "metadata": {},
   "outputs": [
    {
     "data": {
      "text/plain": [
       "207092"
      ]
     },
     "execution_count": 15,
     "metadata": {},
     "output_type": "execute_result"
    }
   ],
   "source": [
    "#unique words all in all\n",
    "len(np.unique(np.append(sincere_vocab.index, insincere_vocab.index)))"
   ]
  },
  {
   "cell_type": "code",
   "execution_count": 38,
   "metadata": {},
   "outputs": [],
   "source": [
    "#let's assign numeric codes per word \n",
    "num_words = 1000 #let's consider only the top 1000 words \n",
    "keras_tokenizer = Tokenizer(num_words=num_words)\n",
    "\n",
    "keras_tokenizer.fit_on_texts(train_csv[\"preproc\"].values)\n",
    "train_csv[\"num_codes\"] = keras_tokenizer.texts_to_sequences(train_csv[\"preproc\"].values)"
   ]
  },
  {
   "cell_type": "code",
   "execution_count": 39,
   "metadata": {},
   "outputs": [
    {
     "data": {
      "text/html": [
       "<div>\n",
       "<style scoped>\n",
       "    .dataframe tbody tr th:only-of-type {\n",
       "        vertical-align: middle;\n",
       "    }\n",
       "\n",
       "    .dataframe tbody tr th {\n",
       "        vertical-align: top;\n",
       "    }\n",
       "\n",
       "    .dataframe thead th {\n",
       "        text-align: right;\n",
       "    }\n",
       "</style>\n",
       "<table border=\"1\" class=\"dataframe\">\n",
       "  <thead>\n",
       "    <tr style=\"text-align: right;\">\n",
       "      <th></th>\n",
       "      <th>qid</th>\n",
       "      <th>question_text</th>\n",
       "      <th>target</th>\n",
       "      <th>preproc</th>\n",
       "      <th>num_codes</th>\n",
       "    </tr>\n",
       "  </thead>\n",
       "  <tbody>\n",
       "    <tr>\n",
       "      <th>0</th>\n",
       "      <td>00002165364db923c7e6</td>\n",
       "      <td>How did Quebec nationalists see their province...</td>\n",
       "      <td>0</td>\n",
       "      <td>[Quebec, nationalist, see, province, nation]</td>\n",
       "      <td>[49, 659]</td>\n",
       "    </tr>\n",
       "    <tr>\n",
       "      <th>1</th>\n",
       "      <td>000032939017120e6e44</td>\n",
       "      <td>Do you have an adopted dog, how would you enco...</td>\n",
       "      <td>0</td>\n",
       "      <td>[adopt, dog, would, encourage, people, adopt, ...</td>\n",
       "      <td>[220, 4, 5, 2]</td>\n",
       "    </tr>\n",
       "    <tr>\n",
       "      <th>2</th>\n",
       "      <td>0000412ca6e4628ce2cf</td>\n",
       "      <td>Why does velocity affect time? Does velocity a...</td>\n",
       "      <td>0</td>\n",
       "      <td>[velocity, affect, time, velocity, affect, spa...</td>\n",
       "      <td>[184, 13, 184, 356]</td>\n",
       "    </tr>\n",
       "    <tr>\n",
       "      <th>3</th>\n",
       "      <td>000042bf85aa498cd78e</td>\n",
       "      <td>How did Otto von Guericke used the Magdeburg h...</td>\n",
       "      <td>0</td>\n",
       "      <td>[Otto, von, Guericke, use, Magdeburg, hemisphere]</td>\n",
       "      <td>[8]</td>\n",
       "    </tr>\n",
       "    <tr>\n",
       "      <th>4</th>\n",
       "      <td>0000455dfa3e01eae3af</td>\n",
       "      <td>Can I convert montra helicon D to a mountain b...</td>\n",
       "      <td>0</td>\n",
       "      <td>[convert, montra, helicon, mountain, bike, cha...</td>\n",
       "      <td>[685, 58]</td>\n",
       "    </tr>\n",
       "  </tbody>\n",
       "</table>\n",
       "</div>"
      ],
      "text/plain": [
       "                    qid                                      question_text  \\\n",
       "0  00002165364db923c7e6  How did Quebec nationalists see their province...   \n",
       "1  000032939017120e6e44  Do you have an adopted dog, how would you enco...   \n",
       "2  0000412ca6e4628ce2cf  Why does velocity affect time? Does velocity a...   \n",
       "3  000042bf85aa498cd78e  How did Otto von Guericke used the Magdeburg h...   \n",
       "4  0000455dfa3e01eae3af  Can I convert montra helicon D to a mountain b...   \n",
       "\n",
       "   target                                            preproc  \\\n",
       "0       0       [Quebec, nationalist, see, province, nation]   \n",
       "1       0  [adopt, dog, would, encourage, people, adopt, ...   \n",
       "2       0  [velocity, affect, time, velocity, affect, spa...   \n",
       "3       0  [Otto, von, Guericke, use, Magdeburg, hemisphere]   \n",
       "4       0  [convert, montra, helicon, mountain, bike, cha...   \n",
       "\n",
       "             num_codes  \n",
       "0            [49, 659]  \n",
       "1       [220, 4, 5, 2]  \n",
       "2  [184, 13, 184, 356]  \n",
       "3                  [8]  \n",
       "4            [685, 58]  "
      ]
     },
     "execution_count": 39,
     "metadata": {},
     "output_type": "execute_result"
    }
   ],
   "source": [
    "train_csv.head()"
   ]
  },
  {
   "cell_type": "markdown",
   "metadata": {},
   "source": [
    "### 1. Bag of Words Representation for the top 1000 words"
   ]
  },
  {
   "cell_type": "code",
   "execution_count": 41,
   "metadata": {},
   "outputs": [],
   "source": [
    "#with the num_codes, transform it into bag-of-words matrix form\n",
    "from sklearn.preprocessing import LabelBinarizer"
   ]
  },
  {
   "cell_type": "code",
   "execution_count": 50,
   "metadata": {},
   "outputs": [
    {
     "data": {
      "text/plain": [
       "LabelBinarizer(neg_label=0, pos_label=1, sparse_output=True)"
      ]
     },
     "execution_count": 50,
     "metadata": {},
     "output_type": "execute_result"
    }
   ],
   "source": [
    "lb = LabelBinarizer(sparse_output=True)\n",
    "lb.fit(np.concatenate(train_csv[\"num_codes\"].values))"
   ]
  },
  {
   "cell_type": "code",
   "execution_count": 102,
   "metadata": {
    "scrolled": true
   },
   "outputs": [],
   "source": [
    "%%time\n",
    "bow_mat = train_csv[\"num_codes\"].apply(lambda x: np.array(lb.transform(x).sum(axis=0))\\\n",
    "                                 if len(x)>0 else np.zeros(shape=(1, num_words-1)))\n",
    "bow_mat = csr_matrix(np.concatenate(bow_mat, axis=0))"
   ]
  },
  {
   "cell_type": "code",
   "execution_count": 122,
   "metadata": {},
   "outputs": [],
   "source": [
    "#create the index of the splits\n",
    "train_idxs = np.arange(len(train_csv))\n",
    "np.random.shuffle(train_idxs)\n",
    "\n",
    "#split the data into 5 splits\n",
    "num_splits = 5\n",
    "cross_val_splits = np.split(train_idxs,\n",
    "    np.arange(1, num_splits)*len(train_idxs)//num_splits)"
   ]
  },
  {
   "cell_type": "code",
   "execution_count": 146,
   "metadata": {},
   "outputs": [
    {
     "name": "stdout",
     "output_type": "stream",
     "text": [
      "Split 0 0.375191604764\n",
      "Split 1 0.382071667243\n",
      "Split 2 0.376756463008\n",
      "Split 3 0.376970687843\n",
      "Split 4 0.378433446965\n"
     ]
    }
   ],
   "source": [
    "#model training part\n",
    "for i in range(num_splits):\n",
    "    #validation set\n",
    "    idx_valid = cross_val_splits[i]\n",
    "    X_valid = bow_mat[idx_valid]\n",
    "    y_valid = train_csv[\"target\"].values[idx_valid]\n",
    "    \n",
    "    #training set\n",
    "    idx_train = np.concatenate([cross_val_splits[j] \\\n",
    "                        for j in np.setdiff1d(range(num_splits), [i])])\n",
    "    X_train = bow_mat[idx_train]\n",
    "    y_train = train_csv[\"target\"].values[idx_train]\n",
    "    \n",
    "    #train a model\n",
    "    model = RandomForestClassifier()\n",
    "    model.fit(X_train, y_train)\n",
    "    y_valid_pred = model.predict(X_valid)\n",
    "    f_score = f1_score(y_valid, y_valid_pred)\n",
    "    print(\"Split {}:\".format(i), f_score)"
   ]
  }
 ],
 "metadata": {
  "kernelspec": {
   "display_name": "Python [conda env:nlp_env]",
   "language": "python",
   "name": "conda-env-nlp_env-py"
  },
  "language_info": {
   "codemirror_mode": {
    "name": "ipython",
    "version": 3
   },
   "file_extension": ".py",
   "mimetype": "text/x-python",
   "name": "python",
   "nbconvert_exporter": "python",
   "pygments_lexer": "ipython3",
   "version": "3.5.4"
  }
 },
 "nbformat": 4,
 "nbformat_minor": 2
}

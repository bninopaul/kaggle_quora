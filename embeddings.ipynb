{
 "cells": [
  {
   "cell_type": "code",
   "execution_count": 28,
   "metadata": {},
   "outputs": [],
   "source": [
    "import os\n",
    "import time\n",
    "import numpy as np \n",
    "import pandas as pd \n",
    "from tqdm import tqdm\n",
    "import math\n",
    "from sklearn.model_selection import train_test_split\n",
    "from sklearn import metrics\n",
    "\n",
    "from keras import backend as K\n",
    "from keras.preprocessing.text import Tokenizer\n",
    "from keras.preprocessing.sequence import pad_sequences\n",
    "from keras.layers import Dense, Input, LSTM, Embedding, Dropout, Activation, CuDNNGRU, Conv1D, concatenate\n",
    "from keras.layers import Bidirectional, GlobalMaxPool1D\n",
    "from keras.models import Model\n",
    "from keras import initializers, regularizers, constraints, optimizers, layers\n",
    "import matplotlib.pyplot as plt\n",
    "%matplotlib inline\n",
    "\n",
    "#Source: https://www.kaggle.com/sudalairajkumar/a-look-at-different-embeddings"
   ]
  },
  {
   "cell_type": "code",
   "execution_count": 3,
   "metadata": {},
   "outputs": [],
   "source": [
    "os.environ['CUDA_VISIBLE_DEVICES'] = \"1\"\n",
    "\n",
    "gpu_options = K.tf.GPUOptions(per_process_gpu_memory_fraction = 1)\n",
    "config = K.tf.ConfigProto(gpu_options = gpu_options, allow_soft_placement = True)\n",
    "K.set_session(K.tf.Session(config = config))"
   ]
  },
  {
   "cell_type": "code",
   "execution_count": 4,
   "metadata": {},
   "outputs": [
    {
     "name": "stdout",
     "output_type": "stream",
     "text": [
      "Train shape :  (1306122, 3)\n",
      "Test shape :  (56370, 2)\n"
     ]
    }
   ],
   "source": [
    "base_path = \"/home/nbatanay/.kaggle/quora-insincere-questions-classification/\"\n",
    "train_df = pd.read_csv(base_path+\"train.csv\")\n",
    "test_df = pd.read_csv(base_path+\"test.csv\")\n",
    "print(\"Train shape : \",train_df.shape)\n",
    "print(\"Test shape : \",test_df.shape)"
   ]
  },
  {
   "cell_type": "code",
   "execution_count": 5,
   "metadata": {},
   "outputs": [
    {
     "name": "stdout",
     "output_type": "stream",
     "text": [
      "CPU times: user 57.2 s, sys: 652 ms, total: 57.9 s\n",
      "Wall time: 54.6 s\n"
     ]
    }
   ],
   "source": [
    "%%time\n",
    "## split to train and val\n",
    "train_df, val_df = train_test_split(train_df, test_size=0.1, random_state=2018)\n",
    "\n",
    "## some config values \n",
    "embed_size = 300 # how big is each word vector\n",
    "max_features = 50000 # how many unique words to use (i.e num rows in embedding vector)\n",
    "maxlen = 100 # max number of words in a question to use\n",
    "\n",
    "## fill up the missing values\n",
    "train_X = train_df[\"question_text\"].fillna(\"_na_\").values\n",
    "val_X = val_df[\"question_text\"].fillna(\"_na_\").values\n",
    "test_X = test_df[\"question_text\"].fillna(\"_na_\").values\n",
    "\n",
    "## Tokenize the sentences\n",
    "tokenizer = Tokenizer(num_words=max_features)\n",
    "tokenizer.fit_on_texts(list(train_X))\n",
    "train_X = tokenizer.texts_to_sequences(train_X)\n",
    "val_X = tokenizer.texts_to_sequences(val_X)\n",
    "test_X = tokenizer.texts_to_sequences(test_X)\n",
    "\n",
    "## Pad the sentences \n",
    "train_X = pad_sequences(train_X, maxlen=maxlen)\n",
    "val_X = pad_sequences(val_X, maxlen=maxlen)\n",
    "test_X = pad_sequences(test_X, maxlen=maxlen)\n",
    "\n",
    "## Get the target values\n",
    "train_y = train_df['target'].values\n",
    "val_y = val_df['target'].values"
   ]
  },
  {
   "cell_type": "code",
   "execution_count": 9,
   "metadata": {},
   "outputs": [
    {
     "name": "stdout",
     "output_type": "stream",
     "text": [
      "Train:  (1175509, 100) (1175509,)\n",
      "Validation:  (130613, 100) (130613,)\n",
      "Test : (56370, 100)\n"
     ]
    }
   ],
   "source": [
    "print(\"Train: \", train_X.shape, train_y.shape)\n",
    "print(\"Validation: \", val_X.shape, val_y.shape)\n",
    "print(\"Test :\", test_X.shape)"
   ]
  },
  {
   "cell_type": "markdown",
   "metadata": {},
   "source": [
    "### Without Embeddings"
   ]
  },
  {
   "cell_type": "code",
   "execution_count": 11,
   "metadata": {},
   "outputs": [
    {
     "name": "stdout",
     "output_type": "stream",
     "text": [
      "_________________________________________________________________\n",
      "Layer (type)                 Output Shape              Param #   \n",
      "=================================================================\n",
      "input_2 (InputLayer)         (None, 100)               0         \n",
      "_________________________________________________________________\n",
      "embedding_2 (Embedding)      (None, 100, 300)          15000000  \n",
      "_________________________________________________________________\n",
      "bidirectional_2 (Bidirection (None, 100, 256)          330240    \n",
      "_________________________________________________________________\n",
      "conv1d_2 (Conv1D)            (None, 98, 64)            49216     \n",
      "_________________________________________________________________\n",
      "global_max_pooling1d_2 (Glob (None, 64)                0         \n",
      "_________________________________________________________________\n",
      "dense_1 (Dense)              (None, 16)                1040      \n",
      "_________________________________________________________________\n",
      "dropout_1 (Dropout)          (None, 16)                0         \n",
      "_________________________________________________________________\n",
      "dense_2 (Dense)              (None, 1)                 17        \n",
      "=================================================================\n",
      "Total params: 15,380,513\n",
      "Trainable params: 15,380,513\n",
      "Non-trainable params: 0\n",
      "_________________________________________________________________\n",
      "None\n"
     ]
    }
   ],
   "source": [
    "inp = Input(shape=(maxlen,))\n",
    "x = Embedding(max_features, embed_size)(inp)\n",
    "x = Bidirectional(CuDNNGRU(128, return_sequences=True))(x)\n",
    "x = Conv1D(64, 3)(x)\n",
    "x = GlobalMaxPool1D()(x)\n",
    "x = Dense(16, activation=\"relu\")(x)\n",
    "x = Dropout(0.1)(x)\n",
    "x = Dense(1, activation=\"sigmoid\")(x)\n",
    "model = Model(inputs=inp, outputs=x)\n",
    "model.compile(loss='binary_crossentropy', optimizer='adam', metrics=['accuracy'])\n",
    "\n",
    "print(model.summary())"
   ]
  },
  {
   "cell_type": "code",
   "execution_count": 12,
   "metadata": {},
   "outputs": [
    {
     "name": "stdout",
     "output_type": "stream",
     "text": [
      "Train on 1175509 samples, validate on 130613 samples\n",
      "Epoch 1/3\n",
      "1175509/1175509 [==============================] - 179s 152us/step - loss: 0.1248 - acc: 0.9533 - val_loss: 0.1091 - val_acc: 0.9561\n",
      "Epoch 2/3\n",
      "1175509/1175509 [==============================] - 178s 152us/step - loss: 0.1015 - acc: 0.9600 - val_loss: 0.1094 - val_acc: 0.9572\n",
      "Epoch 3/3\n",
      "1175509/1175509 [==============================] - 179s 152us/step - loss: 0.0864 - acc: 0.9657 - val_loss: 0.1172 - val_acc: 0.9556\n",
      "CPU times: user 6min 36s, sys: 1min 18s, total: 7min 55s\n",
      "Wall time: 8min 56s\n"
     ]
    },
    {
     "data": {
      "text/plain": [
       "<keras.callbacks.History at 0x7f0a4f54c2e8>"
      ]
     },
     "execution_count": 12,
     "metadata": {},
     "output_type": "execute_result"
    }
   ],
   "source": [
    "%%time\n",
    "## Train the model \n",
    "model.fit(train_X, train_y, batch_size=512, epochs=3, validation_data=(val_X, val_y))"
   ]
  },
  {
   "cell_type": "code",
   "execution_count": 13,
   "metadata": {},
   "outputs": [
    {
     "name": "stdout",
     "output_type": "stream",
     "text": [
      "130613/130613 [==============================] - 5s 38us/step\n"
     ]
    },
    {
     "data": {
      "text/plain": [
       "<matplotlib.text.Text at 0x7f0a4e9e2fd0>"
      ]
     },
     "execution_count": 13,
     "metadata": {},
     "output_type": "execute_result"
    },
    {
     "data": {
      "image/png": "[encoded data removed]",
      "text/plain": [
       "<matplotlib.figure.Figure at 0x7f0d0ef63390>"
      ]
     },
     "metadata": {},
     "output_type": "display_data"
    }
   ],
   "source": [
    "pred_noemb_val_y = model.predict([val_X], batch_size=1024, verbose=1)\n",
    "f1_scores = []\n",
    "threshs = np.arange(0.1, 0.9, 0.01)\n",
    "for thresh in threshs:\n",
    "    thresh = np.round(thresh, 2)\n",
    "    f1_score = metrics.f1_score(val_y, (pred_noemb_val_y>thresh).astype(int))\n",
    "    f1_scores.append(f1_score)\n",
    "    \n",
    "plt.plot(threshs, f1_scores)\n",
    "max_fscore = np.round(f1_scores[np.argmax(f1_scores)], 3)\n",
    "max_thresh = np.round(threshs[np.argmax(f1_scores)], 3)\n",
    "plt.title(\"F scores at different values of thresholds | Max: {} | Thresh {}\".format(max_fscore, max_thresh))"
   ]
  },
  {
   "cell_type": "markdown",
   "metadata": {},
   "source": [
    "### Glove Embedding"
   ]
  },
  {
   "cell_type": "code",
   "execution_count": 14,
   "metadata": {},
   "outputs": [
    {
     "name": "stdout",
     "output_type": "stream",
     "text": [
      "_________________________________________________________________\n",
      "Layer (type)                 Output Shape              Param #   \n",
      "=================================================================\n",
      "input_3 (InputLayer)         (None, 100)               0         \n",
      "_________________________________________________________________\n",
      "embedding_3 (Embedding)      (None, 100, 300)          15000000  \n",
      "_________________________________________________________________\n",
      "bidirectional_3 (Bidirection (None, 100, 128)          140544    \n",
      "_________________________________________________________________\n",
      "global_max_pooling1d_3 (Glob (None, 128)               0         \n",
      "_________________________________________________________________\n",
      "dense_3 (Dense)              (None, 16)                2064      \n",
      "_________________________________________________________________\n",
      "dropout_2 (Dropout)          (None, 16)                0         \n",
      "_________________________________________________________________\n",
      "dense_4 (Dense)              (None, 1)                 17        \n",
      "=================================================================\n",
      "Total params: 15,142,625\n",
      "Trainable params: 15,142,625\n",
      "Non-trainable params: 0\n",
      "_________________________________________________________________\n",
      "None\n"
     ]
    }
   ],
   "source": [
    "EMBEDDING_FILE = '/home/nbatanay/.kaggle/quora-insincere-questions-classification/glove.840B.300d/glove.840B.300d.txt'\n",
    "def get_coefs(word,*arr): return word, np.asarray(arr, dtype='float32')\n",
    "embeddings_index = dict(get_coefs(*o.split(\" \")) for o in open(EMBEDDING_FILE))\n",
    "\n",
    "all_embs = np.stack(embeddings_index.values())\n",
    "emb_mean,emb_std = all_embs.mean(), all_embs.std()\n",
    "embed_size = all_embs.shape[1]\n",
    "\n",
    "word_index = tokenizer.word_index\n",
    "nb_words = min(max_features, len(word_index))\n",
    "embedding_matrix = np.random.normal(emb_mean, emb_std, (nb_words, embed_size))\n",
    "for word, i in word_index.items():\n",
    "    if i >= max_features: continue\n",
    "    embedding_vector = embeddings_index.get(word)\n",
    "    if embedding_vector is not None: embedding_matrix[i] = embedding_vector\n",
    "        \n",
    "inp = Input(shape=(maxlen,))\n",
    "x = Embedding(max_features, embed_size, weights=[embedding_matrix])(inp)\n",
    "x = Bidirectional(CuDNNGRU(64, return_sequences=True))(x)\n",
    "x = GlobalMaxPool1D()(x)\n",
    "x = Dense(16, activation=\"relu\")(x)\n",
    "x = Dropout(0.1)(x)\n",
    "x = Dense(1, activation=\"sigmoid\")(x)\n",
    "model = Model(inputs=inp, outputs=x)\n",
    "model.compile(loss='binary_crossentropy', optimizer='adam', metrics=['accuracy'])\n",
    "print(model.summary())"
   ]
  },
  {
   "cell_type": "code",
   "execution_count": 15,
   "metadata": {},
   "outputs": [
    {
     "name": "stdout",
     "output_type": "stream",
     "text": [
      "Train on 1175509 samples, validate on 130613 samples\n",
      "Epoch 1/2\n",
      "1175509/1175509 [==============================] - 119s 101us/step - loss: 0.1166 - acc: 0.9535 - val_loss: 0.1038 - val_acc: 0.9588\n",
      "Epoch 2/2\n",
      "1175509/1175509 [==============================] - 119s 101us/step - loss: 0.0938 - acc: 0.9627 - val_loss: 0.0999 - val_acc: 0.9596\n"
     ]
    },
    {
     "data": {
      "text/plain": [
       "<keras.callbacks.History at 0x7f0cc0719748>"
      ]
     },
     "execution_count": 15,
     "metadata": {},
     "output_type": "execute_result"
    }
   ],
   "source": [
    "model.fit(train_X, train_y, batch_size=512, epochs=2, validation_data=(val_X, val_y))"
   ]
  },
  {
   "cell_type": "code",
   "execution_count": 16,
   "metadata": {},
   "outputs": [
    {
     "name": "stdout",
     "output_type": "stream",
     "text": [
      "130613/130613 [==============================] - 3s 26us/step\n"
     ]
    },
    {
     "data": {
      "text/plain": [
       "<matplotlib.text.Text at 0x7f09f4c2b908>"
      ]
     },
     "execution_count": 16,
     "metadata": {},
     "output_type": "execute_result"
    },
    {
     "data": {
      "image/png": "[encoded data removed]",
      "text/plain": [
       "<matplotlib.figure.Figure at 0x7f0d901b1f28>"
      ]
     },
     "metadata": {},
     "output_type": "display_data"
    }
   ],
   "source": [
    "pred_noemb_val_y = model.predict([val_X], batch_size=1024, verbose=1)\n",
    "f1_scores = []\n",
    "threshs = np.arange(0.1, 0.9, 0.01)\n",
    "for thresh in threshs:\n",
    "    thresh = np.round(thresh, 2)\n",
    "    f1_score = metrics.f1_score(val_y, (pred_noemb_val_y>thresh).astype(int))\n",
    "    f1_scores.append(f1_score)\n",
    "    \n",
    "plt.plot(threshs, f1_scores)\n",
    "max_fscore = np.round(f1_scores[np.argmax(f1_scores)], 3)\n",
    "max_thresh = np.round(threshs[np.argmax(f1_scores)], 3)\n",
    "plt.title(\"F scores at different values of thresholds | Max: {} | Thresh {}\".format(max_fscore, max_thresh))"
   ]
  },
  {
   "cell_type": "markdown",
   "metadata": {},
   "source": [
    "### Wiki-News Embedding"
   ]
  },
  {
   "cell_type": "code",
   "execution_count": 17,
   "metadata": {},
   "outputs": [
    {
     "name": "stdout",
     "output_type": "stream",
     "text": [
      "_________________________________________________________________\n",
      "Layer (type)                 Output Shape              Param #   \n",
      "=================================================================\n",
      "input_4 (InputLayer)         (None, 100)               0         \n",
      "_________________________________________________________________\n",
      "embedding_4 (Embedding)      (None, 100, 300)          15000000  \n",
      "_________________________________________________________________\n",
      "bidirectional_4 (Bidirection (None, 100, 128)          140544    \n",
      "_________________________________________________________________\n",
      "global_max_pooling1d_4 (Glob (None, 128)               0         \n",
      "_________________________________________________________________\n",
      "dense_5 (Dense)              (None, 16)                2064      \n",
      "_________________________________________________________________\n",
      "dropout_3 (Dropout)          (None, 16)                0         \n",
      "_________________________________________________________________\n",
      "dense_6 (Dense)              (None, 1)                 17        \n",
      "=================================================================\n",
      "Total params: 15,142,625\n",
      "Trainable params: 15,142,625\n",
      "Non-trainable params: 0\n",
      "_________________________________________________________________\n"
     ]
    }
   ],
   "source": [
    "EMBEDDING_FILE = '/home/nbatanay/.kaggle/quora-insincere-questions-classification/wiki-news-300d-1M/wiki-news-300d-1M.vec'\n",
    "def get_coefs(word,*arr): return word, np.asarray(arr, dtype='float32')\n",
    "embeddings_index = dict(get_coefs(*o.split(\" \")) for o in open(EMBEDDING_FILE) if len(o)>100)\n",
    "\n",
    "all_embs = np.stack(embeddings_index.values())\n",
    "emb_mean,emb_std = all_embs.mean(), all_embs.std()\n",
    "embed_size = all_embs.shape[1]\n",
    "\n",
    "word_index = tokenizer.word_index\n",
    "nb_words = min(max_features, len(word_index))\n",
    "embedding_matrix = np.random.normal(emb_mean, emb_std, (nb_words, embed_size))\n",
    "for word, i in word_index.items():\n",
    "    if i >= max_features: continue\n",
    "    embedding_vector = embeddings_index.get(word)\n",
    "    if embedding_vector is not None: embedding_matrix[i] = embedding_vector\n",
    "        \n",
    "inp = Input(shape=(maxlen,))\n",
    "x = Embedding(max_features, embed_size, weights=[embedding_matrix])(inp)\n",
    "x = Bidirectional(CuDNNGRU(64, return_sequences=True))(x)\n",
    "x = GlobalMaxPool1D()(x)\n",
    "x = Dense(16, activation=\"relu\")(x)\n",
    "x = Dropout(0.1)(x)\n",
    "x = Dense(1, activation=\"sigmoid\")(x)\n",
    "model = Model(inputs=inp, outputs=x)\n",
    "model.compile(loss='binary_crossentropy', optimizer='adam', metrics=['accuracy'])\n",
    "model.summary()"
   ]
  },
  {
   "cell_type": "code",
   "execution_count": 18,
   "metadata": {},
   "outputs": [
    {
     "name": "stdout",
     "output_type": "stream",
     "text": [
      "Train on 1175509 samples, validate on 130613 samples\n",
      "Epoch 1/2\n",
      "1175509/1175509 [==============================] - 121s 103us/step - loss: 0.1162 - acc: 0.9538 - val_loss: 0.1042 - val_acc: 0.9580- loss: 0.1162 - acc: 0.953\n",
      "Epoch 2/2\n",
      "1175509/1175509 [==============================] - 121s 103us/step - loss: 0.0939 - acc: 0.9625 - val_loss: 0.1027 - val_acc: 0.9590\n"
     ]
    },
    {
     "data": {
      "text/plain": [
       "<keras.callbacks.History at 0x7f0a4eaf5f28>"
      ]
     },
     "execution_count": 18,
     "metadata": {},
     "output_type": "execute_result"
    }
   ],
   "source": [
    "model.fit(train_X, train_y, batch_size=512, epochs=2, validation_data=(val_X, val_y))"
   ]
  },
  {
   "cell_type": "code",
   "execution_count": 19,
   "metadata": {},
   "outputs": [
    {
     "name": "stdout",
     "output_type": "stream",
     "text": [
      "130613/130613 [==============================] - 3s 26us/step\n"
     ]
    },
    {
     "data": {
      "text/plain": [
       "<matplotlib.text.Text at 0x7f0a4dc594a8>"
      ]
     },
     "execution_count": 19,
     "metadata": {},
     "output_type": "execute_result"
    },
    {
     "data": {
      "image/png": "[encoded data removed]",
      "text/plain": [
       "<matplotlib.figure.Figure at 0x7f09f4bc4dd8>"
      ]
     },
     "metadata": {},
     "output_type": "display_data"
    }
   ],
   "source": [
    "pred_noemb_val_y = model.predict([val_X], batch_size=1024, verbose=1)\n",
    "f1_scores = []\n",
    "threshs = np.arange(0.1, 0.9, 0.01)\n",
    "for thresh in threshs:\n",
    "    thresh = np.round(thresh, 2)\n",
    "    f1_score = metrics.f1_score(val_y, (pred_noemb_val_y>thresh).astype(int))\n",
    "    f1_scores.append(f1_score)\n",
    "    \n",
    "plt.plot(threshs, f1_scores)\n",
    "max_fscore = np.round(f1_scores[np.argmax(f1_scores)], 3)\n",
    "max_thresh = np.round(threshs[np.argmax(f1_scores)], 3)\n",
    "plt.title(\"F scores at different values of thresholds | Max: {} | Thresh {}\".format(max_fscore, max_thresh))"
   ]
  },
  {
   "cell_type": "markdown",
   "metadata": {},
   "source": [
    "### Paragram Embedding"
   ]
  },
  {
   "cell_type": "code",
   "execution_count": 22,
   "metadata": {},
   "outputs": [
    {
     "name": "stdout",
     "output_type": "stream",
     "text": [
      "_________________________________________________________________\n",
      "Layer (type)                 Output Shape              Param #   \n",
      "=================================================================\n",
      "input_6 (InputLayer)         (None, 100)               0         \n",
      "_________________________________________________________________\n",
      "embedding_6 (Embedding)      (None, 100, 300)          15000000  \n",
      "_________________________________________________________________\n",
      "bidirectional_6 (Bidirection (None, 100, 256)          330240    \n",
      "_________________________________________________________________\n",
      "global_max_pooling1d_6 (Glob (None, 256)               0         \n",
      "_________________________________________________________________\n",
      "dense_9 (Dense)              (None, 16)                4112      \n",
      "_________________________________________________________________\n",
      "dropout_5 (Dropout)          (None, 16)                0         \n",
      "_________________________________________________________________\n",
      "dense_10 (Dense)             (None, 1)                 17        \n",
      "=================================================================\n",
      "Total params: 15,334,369\n",
      "Trainable params: 15,334,369\n",
      "Non-trainable params: 0\n",
      "_________________________________________________________________\n"
     ]
    }
   ],
   "source": [
    "EMBEDDING_FILE = '/home/nbatanay/.kaggle/quora-insincere-questions-classification/paragram_300_sl999/paragram_300_sl999.txt'\n",
    "def get_coefs(word,*arr): return word, np.asarray(arr, dtype='float32')\n",
    "embeddings_index = dict(get_coefs(*o.split(\" \")) for o in open(EMBEDDING_FILE, encoding=\"utf8\", errors='ignore') if len(o)>100)\n",
    "\n",
    "all_embs = np.stack(embeddings_index.values())\n",
    "emb_mean,emb_std = all_embs.mean(), all_embs.std()\n",
    "embed_size = all_embs.shape[1]\n",
    "\n",
    "word_index = tokenizer.word_index\n",
    "nb_words = min(max_features, len(word_index))\n",
    "embedding_matrix = np.random.normal(emb_mean, emb_std, (nb_words, embed_size))\n",
    "for word, i in word_index.items():\n",
    "    if i >= max_features: continue\n",
    "    embedding_vector = embeddings_index.get(word)\n",
    "    if embedding_vector is not None: embedding_matrix[i] = embedding_vector\n",
    "        \n",
    "inp = Input(shape=(maxlen,))\n",
    "x = Embedding(max_features, embed_size, weights=[embedding_matrix])(inp)\n",
    "x = Bidirectional(CuDNNGRU(128, return_sequences=True))(x)\n",
    "x = GlobalMaxPool1D()(x)\n",
    "x = Dense(16, activation=\"relu\")(x)\n",
    "x = Dropout(0.1)(x)\n",
    "x = Dense(1, activation=\"sigmoid\")(x)\n",
    "model = Model(inputs=inp, outputs=x)\n",
    "model.compile(loss='binary_crossentropy', optimizer='adam', metrics=['accuracy'])\n",
    "model.summary()"
   ]
  },
  {
   "cell_type": "code",
   "execution_count": 23,
   "metadata": {},
   "outputs": [
    {
     "name": "stdout",
     "output_type": "stream",
     "text": [
      "Train on 1175509 samples, validate on 130613 samples\n",
      "Epoch 1/3\n",
      "1175509/1175509 [==============================] - 172s 146us/step - loss: 0.1157 - acc: 0.9552 - val_loss: 0.1035 - val_acc: 0.9585\n",
      "Epoch 2/3\n",
      "1175509/1175509 [==============================] - 171s 146us/step - loss: 0.0954 - acc: 0.9621 - val_loss: 0.1014 - val_acc: 0.9599\n",
      "Epoch 3/3\n",
      "1175509/1175509 [==============================] - 170s 145us/step - loss: 0.0816 - acc: 0.9675 - val_loss: 0.1051 - val_acc: 0.9590\n"
     ]
    },
    {
     "data": {
      "text/plain": [
       "<keras.callbacks.History at 0x7f0a4ea6d470>"
      ]
     },
     "execution_count": 23,
     "metadata": {},
     "output_type": "execute_result"
    }
   ],
   "source": [
    "model.fit(train_X, train_y, batch_size=512, epochs=3, validation_data=(val_X, val_y))"
   ]
  },
  {
   "cell_type": "code",
   "execution_count": 24,
   "metadata": {},
   "outputs": [
    {
     "name": "stdout",
     "output_type": "stream",
     "text": [
      "130613/130613 [==============================] - 5s 37us/step\n"
     ]
    },
    {
     "data": {
      "text/plain": [
       "<matplotlib.text.Text at 0x7f0a4d71f198>"
      ]
     },
     "execution_count": 24,
     "metadata": {},
     "output_type": "execute_result"
    },
    {
     "data": {
      "image/png": "[encoded data removed]",
      "text/plain": [
       "<matplotlib.figure.Figure at 0x7f0a4dcff780>"
      ]
     },
     "metadata": {},
     "output_type": "display_data"
    }
   ],
   "source": [
    "pred_noemb_val_y = model.predict([val_X], batch_size=1024, verbose=1)\n",
    "f1_scores = []\n",
    "threshs = np.arange(0.1, 0.9, 0.01)\n",
    "for thresh in threshs:\n",
    "    thresh = np.round(thresh, 2)\n",
    "    f1_score = metrics.f1_score(val_y, (pred_noemb_val_y>thresh).astype(int))\n",
    "    f1_scores.append(f1_score)\n",
    "    \n",
    "plt.plot(threshs, f1_scores)\n",
    "max_fscore = np.round(f1_scores[np.argmax(f1_scores)], 3)\n",
    "max_thresh = np.round(threshs[np.argmax(f1_scores)], 3)\n",
    "plt.title(\"F scores at different values of thresholds | Max: {} | Thresh {}\".format(max_fscore, max_thresh))"
   ]
  },
  {
   "cell_type": "markdown",
   "metadata": {},
   "source": [
    "### Concatenate all the embeddings"
   ]
  },
  {
   "cell_type": "code",
   "execution_count": 25,
   "metadata": {
    "collapsed": true
   },
   "outputs": [],
   "source": [
    "def get_coefs(word,*arr): \n",
    "    return word, np.asarray(arr, dtype='float32')\n",
    "\n",
    "base_path = \"/home/nbatanay/.kaggle/quora-insincere-questions-classification/\"\n",
    "glove_file = \"glove.840B.300d/glove.840B.300d.txt\"\n",
    "glove_index = dict(get_coefs(*o.split(\" \")) for o in open(base_path+glove_file))\n",
    "\n",
    "wiki_file = \"wiki-news-300d-1M/wiki-news-300d-1M.vec\"\n",
    "wiki_index = dict(get_coefs(*o.split(\" \")) for o in open(base_path+wiki_file) if len(o)>100)\n",
    "\n",
    "paragram_file = \"paragram_300_sl999/paragram_300_sl999.txt\"\n",
    "paragram_index = dict(get_coefs(*o.split(\" \")) for o in open(base_path+paragram_file,\n",
    "                                                             encoding=\"utf8\", \n",
    "                                                             errors='ignore') if len(o)>100)"
   ]
  },
  {
   "cell_type": "code",
   "execution_count": 26,
   "metadata": {
    "collapsed": true
   },
   "outputs": [],
   "source": [
    "embed_index = {\"glove\": glove_index,\n",
    "               \"wiki\": wiki_index,\n",
    "               \"paragram\": paragram_index}\n",
    "\n",
    "embedding_matrices = {}\n",
    "for emb in embed_index.keys():\n",
    "    all_embs = np.stack(embed_index[emb].values())\n",
    "    emb_mean, emb_std = all_embs.mean(), all_embs.std()\n",
    "    embed_size = all_embs.shape[1]\n",
    "    \n",
    "    word_index = tokenizer.word_index\n",
    "    nb_words = min(max_features, len(word_index))\n",
    "    embedding_matrix = np.random.normal(emb_mean, emb_std, (nb_words, embed_size))\n",
    "    for word, i in word_index.items():\n",
    "        if i >= max_features: continue\n",
    "        embedding_vector = embed_index[emb].get(word)\n",
    "        if embedding_vector is not None: embedding_matrix[i] = embedding_vector\n",
    "    embedding_matrices[emb] = embedding_matrix"
   ]
  },
  {
   "cell_type": "code",
   "execution_count": 29,
   "metadata": {},
   "outputs": [
    {
     "name": "stdout",
     "output_type": "stream",
     "text": [
      "__________________________________________________________________________________________________\n",
      "Layer (type)                    Output Shape         Param #     Connected to                     \n",
      "==================================================================================================\n",
      "input_8 (InputLayer)            (None, 100)          0                                            \n",
      "__________________________________________________________________________________________________\n",
      "embedding_10 (Embedding)        (None, 100, 300)     15000000    input_8[0][0]                    \n",
      "__________________________________________________________________________________________________\n",
      "embedding_11 (Embedding)        (None, 100, 300)     15000000    input_8[0][0]                    \n",
      "__________________________________________________________________________________________________\n",
      "embedding_12 (Embedding)        (None, 100, 300)     15000000    input_8[0][0]                    \n",
      "__________________________________________________________________________________________________\n",
      "concatenate_1 (Concatenate)     (None, 100, 900)     0           embedding_10[0][0]               \n",
      "                                                                 embedding_11[0][0]               \n",
      "                                                                 embedding_12[0][0]               \n",
      "__________________________________________________________________________________________________\n",
      "bidirectional_7 (Bidirectional) (None, 100, 256)     791040      concatenate_1[0][0]              \n",
      "__________________________________________________________________________________________________\n",
      "global_max_pooling1d_7 (GlobalM (None, 256)          0           bidirectional_7[0][0]            \n",
      "__________________________________________________________________________________________________\n",
      "dense_11 (Dense)                (None, 16)           4112        global_max_pooling1d_7[0][0]     \n",
      "__________________________________________________________________________________________________\n",
      "dropout_6 (Dropout)             (None, 16)           0           dense_11[0][0]                   \n",
      "__________________________________________________________________________________________________\n",
      "dense_12 (Dense)                (None, 1)            17          dropout_6[0][0]                  \n",
      "==================================================================================================\n",
      "Total params: 45,795,169\n",
      "Trainable params: 45,795,169\n",
      "Non-trainable params: 0\n",
      "__________________________________________________________________________________________________\n",
      "None\n"
     ]
    }
   ],
   "source": [
    "inp = Input(shape=(maxlen,))\n",
    "\n",
    "inp_glove = Embedding(max_features, embed_size, weights=[embedding_matrices[\"glove\"]])(inp)\n",
    "inp_wiki = Embedding(max_features, embed_size, weights=[embedding_matrices[\"wiki\"]])(inp)\n",
    "inp_paragram = Embedding(max_features, embed_size, weights=[embedding_matrices[\"paragram\"]])(inp)\n",
    "merged  = concatenate([inp_glove, inp_wiki, inp_paragram])\n",
    "x = Bidirectional(CuDNNGRU(128, return_sequences=True))(merged)\n",
    "x = GlobalMaxPool1D()(x)\n",
    "x = Dense(16, activation=\"relu\")(x)\n",
    "x = Dropout(0.1)(x)\n",
    "x = Dense(1, activation=\"sigmoid\")(x)\n",
    "model = Model(inputs=inp, outputs=x)\n",
    "model.compile(loss='binary_crossentropy', optimizer='adam', metrics=['accuracy'])\n",
    "print(model.summary())"
   ]
  },
  {
   "cell_type": "code",
   "execution_count": 30,
   "metadata": {},
   "outputs": [
    {
     "name": "stdout",
     "output_type": "stream",
     "text": [
      "Train on 1175509 samples, validate on 130613 samples\n",
      "Epoch 1/3\n",
      "1175509/1175509 [==============================] - 345s 293us/step - loss: 0.1094 - acc: 0.9568 - val_loss: 0.0997 - val_acc: 0.9598\n",
      "Epoch 2/3\n",
      "1175509/1175509 [==============================] - 343s 292us/step - loss: 0.0901 - acc: 0.9640 - val_loss: 0.0999 - val_acc: 0.9600\n",
      "Epoch 3/3\n",
      "1175509/1175509 [==============================] - 344s 292us/step - loss: 0.0736 - acc: 0.9706 - val_loss: 0.1100 - val_acc: 0.9586\n"
     ]
    },
    {
     "data": {
      "text/plain": [
       "<keras.callbacks.History at 0x7f0964b074a8>"
      ]
     },
     "execution_count": 30,
     "metadata": {},
     "output_type": "execute_result"
    }
   ],
   "source": [
    "model.fit(train_X, train_y, batch_size=512, epochs=3, validation_data=(val_X, val_y))"
   ]
  },
  {
   "cell_type": "code",
   "execution_count": 31,
   "metadata": {},
   "outputs": [
    {
     "name": "stdout",
     "output_type": "stream",
     "text": [
      "130613/130613 [==============================] - 9s 71us/step\n"
     ]
    },
    {
     "data": {
      "text/plain": [
       "<matplotlib.text.Text at 0x7f094c208f98>"
      ]
     },
     "execution_count": 31,
     "metadata": {},
     "output_type": "execute_result"
    },
    {
     "data": {
      "image/png": "[encoded data removed]",
      "text/plain": [
       "<matplotlib.figure.Figure at 0x7f0964ae79e8>"
      ]
     },
     "metadata": {},
     "output_type": "display_data"
    }
   ],
   "source": [
    "pred_val_y = model.predict([val_X], batch_size=1024, verbose=1)\n",
    "f1_scores = []\n",
    "threshs = np.arange(0.1, 0.9, 0.01)\n",
    "for thresh in threshs:\n",
    "    thresh = np.round(thresh, 2)\n",
    "    f1_score = metrics.f1_score(val_y, (pred_val_y>thresh).astype(int))\n",
    "    f1_scores.append(f1_score)\n",
    "    \n",
    "plt.plot(threshs, f1_scores)\n",
    "max_fscore = np.round(f1_scores[np.argmax(f1_scores)], 3)\n",
    "max_thresh = np.round(threshs[np.argmax(f1_scores)], 3)\n",
    "plt.title(\"F scores at different values of thresholds | Max: {} | Thresh {}\".format(max_fscore, max_thresh))"
   ]
  },
  {
   "cell_type": "markdown",
   "metadata": {},
   "source": [
    "---"
   ]
  },
  {
   "cell_type": "code",
   "execution_count": 33,
   "metadata": {},
   "outputs": [
    {
     "name": "stdout",
     "output_type": "stream",
     "text": [
      "__________________________________________________________________________________________________\n",
      "Layer (type)                    Output Shape         Param #     Connected to                     \n",
      "==================================================================================================\n",
      "input_10 (InputLayer)           (None, 100)          0                                            \n",
      "__________________________________________________________________________________________________\n",
      "embedding_16 (Embedding)        (None, 100, 300)     15000000    input_10[0][0]                   \n",
      "__________________________________________________________________________________________________\n",
      "embedding_17 (Embedding)        (None, 100, 300)     15000000    input_10[0][0]                   \n",
      "__________________________________________________________________________________________________\n",
      "embedding_18 (Embedding)        (None, 100, 300)     15000000    input_10[0][0]                   \n",
      "__________________________________________________________________________________________________\n",
      "bidirectional_11 (Bidirectional (None, 100, 256)     330240      embedding_16[0][0]               \n",
      "__________________________________________________________________________________________________\n",
      "bidirectional_12 (Bidirectional (None, 100, 256)     330240      embedding_17[0][0]               \n",
      "__________________________________________________________________________________________________\n",
      "bidirectional_13 (Bidirectional (None, 100, 256)     330240      embedding_18[0][0]               \n",
      "__________________________________________________________________________________________________\n",
      "global_max_pooling1d_11 (Global (None, 256)          0           bidirectional_11[0][0]           \n",
      "__________________________________________________________________________________________________\n",
      "global_max_pooling1d_12 (Global (None, 256)          0           bidirectional_12[0][0]           \n",
      "__________________________________________________________________________________________________\n",
      "global_max_pooling1d_13 (Global (None, 256)          0           bidirectional_13[0][0]           \n",
      "__________________________________________________________________________________________________\n",
      "concatenate_3 (Concatenate)     (None, 768)          0           global_max_pooling1d_11[0][0]    \n",
      "                                                                 global_max_pooling1d_12[0][0]    \n",
      "                                                                 global_max_pooling1d_13[0][0]    \n",
      "__________________________________________________________________________________________________\n",
      "dense_15 (Dense)                (None, 16)           12304       concatenate_3[0][0]              \n",
      "__________________________________________________________________________________________________\n",
      "dropout_8 (Dropout)             (None, 16)           0           dense_15[0][0]                   \n",
      "__________________________________________________________________________________________________\n",
      "dense_16 (Dense)                (None, 1)            17          dropout_8[0][0]                  \n",
      "==================================================================================================\n",
      "Total params: 46,003,041\n",
      "Trainable params: 46,003,041\n",
      "Non-trainable params: 0\n",
      "__________________________________________________________________________________________________\n",
      "None\n",
      "Train on 1175509 samples, validate on 130613 samples\n",
      "Epoch 1/2\n",
      "1175509/1175509 [==============================] - 519s 441us/step - loss: 0.1116 - acc: 0.9561 - val_loss: 0.1040 - val_acc: 0.9569\n",
      "Epoch 2/2\n",
      "1175509/1175509 [==============================] - 515s 438us/step - loss: 0.0909 - acc: 0.9639 - val_loss: 0.1002 - val_acc: 0.9584\n",
      "130613/130613 [==============================] - 14s 111us/step\n",
      "CPU times: user 14min, sys: 1min 55s, total: 15min 56s\n",
      "Wall time: 17min 36s\n"
     ]
    },
    {
     "data": {
      "image/png": "[encoded data removed]",
      "text/plain": [
       "<matplotlib.figure.Figure at 0x7f094a764d68>"
      ]
     },
     "metadata": {},
     "output_type": "display_data"
    }
   ],
   "source": [
    "%%time\n",
    "inp = Input(shape=(maxlen,))\n",
    "\n",
    "inp_glove = Embedding(max_features, embed_size, weights=[embedding_matrices[\"glove\"]])(inp)\n",
    "inp_glove = Bidirectional(CuDNNGRU(128, return_sequences=True))(inp_glove)\n",
    "inp_glove = GlobalMaxPool1D()(inp_glove)\n",
    "\n",
    "inp_wiki = Embedding(max_features, embed_size, weights=[embedding_matrices[\"wiki\"]])(inp)\n",
    "inp_wiki = Bidirectional(CuDNNGRU(128, return_sequences=True))(inp_wiki)\n",
    "inp_wiki = GlobalMaxPool1D()(inp_wiki)\n",
    "\n",
    "inp_paragram = Embedding(max_features, embed_size, weights=[embedding_matrices[\"paragram\"]])(inp)\n",
    "inp_paragram = Bidirectional(CuDNNGRU(128, return_sequences=True))(inp_paragram)\n",
    "inp_paragram = GlobalMaxPool1D()(inp_paragram)\n",
    "\n",
    "merged  = concatenate([inp_glove, inp_wiki, inp_paragram])\n",
    "x = Dense(16, activation=\"relu\")(merged)\n",
    "x = Dropout(0.1)(x)\n",
    "x = Dense(1, activation=\"sigmoid\")(x)\n",
    "model = Model(inputs=inp, outputs=x)\n",
    "model.compile(loss='binary_crossentropy', optimizer='adam', metrics=['accuracy'])\n",
    "print(model.summary())\n",
    "\n",
    "#train\n",
    "model.fit(train_X, train_y, batch_size=512, epochs=2, validation_data=(val_X, val_y))\n",
    "\n",
    "#model performance \n",
    "pred_val_y = model.predict([val_X], batch_size=1024, verbose=1)\n",
    "f1_scores = []\n",
    "threshs = np.arange(0.1, 0.9, 0.01)\n",
    "for thresh in threshs:\n",
    "    thresh = np.round(thresh, 2)\n",
    "    f1_score = metrics.f1_score(val_y, (pred_val_y>thresh).astype(int))\n",
    "    f1_scores.append(f1_score)\n",
    "    \n",
    "plt.plot(threshs, f1_scores)\n",
    "max_fscore = np.round(f1_scores[np.argmax(f1_scores)], 3)\n",
    "max_thresh = np.round(threshs[np.argmax(f1_scores)], 3)\n",
    "plt.title(\"F scores at different values of thresholds | Max: {} | Thresh {}\".format(max_fscore, max_thresh))"
   ]
  },
  {
   "cell_type": "code",
   "execution_count": 34,
   "metadata": {},
   "outputs": [
    {
     "name": "stdout",
     "output_type": "stream",
     "text": [
      "__________________________________________________________________________________________________\n",
      "Layer (type)                    Output Shape         Param #     Connected to                     \n",
      "==================================================================================================\n",
      "input_11 (InputLayer)           (None, 100)          0                                            \n",
      "__________________________________________________________________________________________________\n",
      "embedding_19 (Embedding)        (None, 100, 300)     15000000    input_11[0][0]                   \n",
      "__________________________________________________________________________________________________\n",
      "embedding_20 (Embedding)        (None, 100, 300)     15000000    input_11[0][0]                   \n",
      "__________________________________________________________________________________________________\n",
      "embedding_21 (Embedding)        (None, 100, 300)     15000000    input_11[0][0]                   \n",
      "__________________________________________________________________________________________________\n",
      "bidirectional_14 (Bidirectional (None, 100, 256)     330240      embedding_19[0][0]               \n",
      "__________________________________________________________________________________________________\n",
      "bidirectional_15 (Bidirectional (None, 100, 256)     330240      embedding_20[0][0]               \n",
      "__________________________________________________________________________________________________\n",
      "bidirectional_16 (Bidirectional (None, 100, 256)     330240      embedding_21[0][0]               \n",
      "__________________________________________________________________________________________________\n",
      "global_max_pooling1d_14 (Global (None, 256)          0           bidirectional_14[0][0]           \n",
      "__________________________________________________________________________________________________\n",
      "global_max_pooling1d_15 (Global (None, 256)          0           bidirectional_15[0][0]           \n",
      "__________________________________________________________________________________________________\n",
      "global_max_pooling1d_16 (Global (None, 256)          0           bidirectional_16[0][0]           \n",
      "__________________________________________________________________________________________________\n",
      "concatenate_4 (Concatenate)     (None, 768)          0           global_max_pooling1d_14[0][0]    \n",
      "                                                                 global_max_pooling1d_15[0][0]    \n",
      "                                                                 global_max_pooling1d_16[0][0]    \n",
      "__________________________________________________________________________________________________\n",
      "dense_17 (Dense)                (None, 32)           24608       concatenate_4[0][0]              \n",
      "__________________________________________________________________________________________________\n",
      "dropout_9 (Dropout)             (None, 32)           0           dense_17[0][0]                   \n",
      "__________________________________________________________________________________________________\n",
      "dense_18 (Dense)                (None, 16)           528         dropout_9[0][0]                  \n",
      "__________________________________________________________________________________________________\n",
      "dropout_10 (Dropout)            (None, 16)           0           dense_18[0][0]                   \n",
      "__________________________________________________________________________________________________\n",
      "dense_19 (Dense)                (None, 1)            17          dropout_10[0][0]                 \n",
      "==================================================================================================\n",
      "Total params: 46,015,873\n",
      "Trainable params: 46,015,873\n",
      "Non-trainable params: 0\n",
      "__________________________________________________________________________________________________\n",
      "None\n",
      "Train on 1175509 samples, validate on 130613 samples\n",
      "Epoch 1/2\n",
      "1175509/1175509 [==============================] - 522s 444us/step - loss: 0.1132 - acc: 0.9554 - val_loss: 0.0999 - val_acc: 0.9594\n",
      "Epoch 2/2\n",
      "1175509/1175509 [==============================] - 515s 438us/step - loss: 0.0918 - acc: 0.9634 - val_loss: 0.1021 - val_acc: 0.9599\n",
      "130613/130613 [==============================] - 15s 113us/step\n",
      "CPU times: user 14min 4s, sys: 1min 55s, total: 15min 59s\n",
      "Wall time: 17min 41s\n"
     ]
    },
    {
     "data": {
      "image/png": "[encoded data removed]",
      "text/plain": [
       "<matplotlib.figure.Figure at 0x7f094a0091d0>"
      ]
     },
     "metadata": {},
     "output_type": "display_data"
    }
   ],
   "source": [
    "%%time\n",
    "inp = Input(shape=(maxlen,))\n",
    "\n",
    "inp_glove = Embedding(max_features, embed_size, weights=[embedding_matrices[\"glove\"]])(inp)\n",
    "inp_glove = Bidirectional(CuDNNGRU(128, return_sequences=True))(inp_glove)\n",
    "inp_glove = GlobalMaxPool1D()(inp_glove)\n",
    "\n",
    "inp_wiki = Embedding(max_features, embed_size, weights=[embedding_matrices[\"wiki\"]])(inp)\n",
    "inp_wiki = Bidirectional(CuDNNGRU(128, return_sequences=True))(inp_wiki)\n",
    "inp_wiki = GlobalMaxPool1D()(inp_wiki)\n",
    "\n",
    "inp_paragram = Embedding(max_features, embed_size, weights=[embedding_matrices[\"paragram\"]])(inp)\n",
    "inp_paragram = Bidirectional(CuDNNGRU(128, return_sequences=True))(inp_paragram)\n",
    "inp_paragram = GlobalMaxPool1D()(inp_paragram)\n",
    "\n",
    "merged  = concatenate([inp_glove, inp_wiki, inp_paragram])\n",
    "x = Dense(32, activation=\"relu\")(merged)\n",
    "x = Dropout(0.1)(x)\n",
    "x = Dense(16, activation=\"relu\")(x)\n",
    "x = Dropout(0.1)(x)\n",
    "x = Dense(1, activation=\"sigmoid\")(x)\n",
    "model = Model(inputs=inp, outputs=x)\n",
    "model.compile(loss='binary_crossentropy', optimizer='adam', metrics=['accuracy'])\n",
    "print(model.summary())\n",
    "\n",
    "#train\n",
    "model.fit(train_X, train_y, batch_size=512, epochs=2, validation_data=(val_X, val_y))\n",
    "\n",
    "#model performance \n",
    "pred_val_y = model.predict([val_X], batch_size=1024, verbose=1)\n",
    "f1_scores = []\n",
    "threshs = np.arange(0.1, 0.9, 0.01)\n",
    "for thresh in threshs:\n",
    "    thresh = np.round(thresh, 2)\n",
    "    f1_score = metrics.f1_score(val_y, (pred_val_y>thresh).astype(int))\n",
    "    f1_scores.append(f1_score)\n",
    "    \n",
    "plt.plot(threshs, f1_scores)\n",
    "max_fscore = np.round(f1_scores[np.argmax(f1_scores)], 3)\n",
    "max_thresh = np.round(threshs[np.argmax(f1_scores)], 3)\n",
    "plt.title(\"F scores at different values of thresholds | Max: {} | Thresh {}\".format(max_fscore, max_thresh))"
   ]
  }
 ],
 "metadata": {
  "kernelspec": {
   "display_name": "Python [conda env:nlp_env]",
   "language": "python",
   "name": "conda-env-nlp_env-py"
  },
  "language_info": {
   "codemirror_mode": {
    "name": "ipython",
    "version": 3
   },
   "file_extension": ".py",
   "mimetype": "text/x-python",
   "name": "python",
   "nbconvert_exporter": "python",
   "pygments_lexer": "ipython3",
   "version": "3.5.4"
  }
 },
 "nbformat": 4,
 "nbformat_minor": 2
}

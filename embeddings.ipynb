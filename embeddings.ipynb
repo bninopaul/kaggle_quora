{
 "cells": [
  {
   "cell_type": "code",
   "execution_count": 1,
   "metadata": {},
   "outputs": [
    {
     "name": "stderr",
     "output_type": "stream",
     "text": [
      "Using TensorFlow backend.\n"
     ]
    }
   ],
   "source": [
    "import os\n",
    "import time\n",
    "import numpy as np \n",
    "import pandas as pd \n",
    "from tqdm import tqdm\n",
    "import math\n",
    "from sklearn.model_selection import train_test_split\n",
    "from sklearn import metrics\n",
    "\n",
    "from keras import backend as K\n",
    "from keras.preprocessing.text import Tokenizer\n",
    "from keras.preprocessing.sequence import pad_sequences\n",
    "from keras.layers import Dense, Input, LSTM, Embedding, Dropout, Activation, CuDNNGRU, Conv1D, concatenate\n",
    "from keras.layers import Bidirectional, GlobalMaxPool1D\n",
    "from keras.layers import ConvRNN2D, SpatialDropout1D, Reshape, MaxPool2D, Concatenate, Flatten\n",
    "\n",
    "from keras.models import Model\n",
    "from keras import initializers, regularizers, constraints, optimizers, layers\n",
    "from keras.engine.topology import Layer\n",
    "import matplotlib.pyplot as plt\n",
    "%matplotlib inline\n",
    "\n",
    "#Source: https://www.kaggle.com/sudalairajkumar/a-look-at-different-embeddings"
   ]
  },
  {
   "cell_type": "code",
   "execution_count": 2,
   "metadata": {
    "collapsed": true
   },
   "outputs": [],
   "source": [
    "os.environ['CUDA_VISIBLE_DEVICES'] = \"1\"\n",
    "\n",
    "gpu_options = K.tf.GPUOptions(per_process_gpu_memory_fraction = 1)\n",
    "config = K.tf.ConfigProto(gpu_options = gpu_options, allow_soft_placement = True)\n",
    "K.set_session(K.tf.Session(config = config))"
   ]
  },
  {
   "cell_type": "code",
   "execution_count": 3,
   "metadata": {},
   "outputs": [
    {
     "name": "stdout",
     "output_type": "stream",
     "text": [
      "Train shape :  (1306122, 3)\n",
      "Test shape :  (56370, 2)\n"
     ]
    }
   ],
   "source": [
    "base_path = \"/home/nbatanay/.kaggle/quora-insincere-questions-classification/\"\n",
    "train_df = pd.read_csv(base_path+\"train.csv\")\n",
    "test_df = pd.read_csv(base_path+\"test.csv\")\n",
    "print(\"Train shape : \",train_df.shape)\n",
    "print(\"Test shape : \",test_df.shape)"
   ]
  },
  {
   "cell_type": "code",
   "execution_count": 4,
   "metadata": {},
   "outputs": [
    {
     "name": "stdout",
     "output_type": "stream",
     "text": [
      "CPU times: user 1min 1s, sys: 692 ms, total: 1min 2s\n",
      "Wall time: 59.3 s\n"
     ]
    }
   ],
   "source": [
    "%%time\n",
    "## split to train and val\n",
    "train_df, val_df = train_test_split(train_df, test_size=0.1, random_state=2018)\n",
    "\n",
    "## some config values \n",
    "embed_size = 300 # how big is each word vector\n",
    "max_features = 50000 # how many unique words to use (i.e num rows in embedding vector)\n",
    "maxlen = 100 # max number of words in a question to use\n",
    "\n",
    "## fill up the missing values\n",
    "train_X = train_df[\"question_text\"].fillna(\"_na_\").values\n",
    "val_X = val_df[\"question_text\"].fillna(\"_na_\").values\n",
    "test_X = test_df[\"question_text\"].fillna(\"_na_\").values\n",
    "\n",
    "## Tokenize the sentences\n",
    "tokenizer = Tokenizer(num_words=max_features)\n",
    "tokenizer.fit_on_texts(list(train_X))\n",
    "train_X = tokenizer.texts_to_sequences(train_X)\n",
    "val_X = tokenizer.texts_to_sequences(val_X)\n",
    "test_X = tokenizer.texts_to_sequences(test_X)\n",
    "\n",
    "## Pad the sentences \n",
    "train_X = pad_sequences(train_X, maxlen=maxlen)\n",
    "val_X = pad_sequences(val_X, maxlen=maxlen)\n",
    "test_X = pad_sequences(test_X, maxlen=maxlen)\n",
    "\n",
    "## Get the target values\n",
    "train_y = train_df['target'].values\n",
    "val_y = val_df['target'].values"
   ]
  },
  {
   "cell_type": "code",
   "execution_count": 5,
   "metadata": {},
   "outputs": [
    {
     "name": "stdout",
     "output_type": "stream",
     "text": [
      "Train:  (1175509, 100) (1175509,)\n",
      "Validation:  (130613, 100) (130613,)\n",
      "Test : (56370, 100)\n"
     ]
    }
   ],
   "source": [
    "print(\"Train: \", train_X.shape, train_y.shape)\n",
    "print(\"Validation: \", val_X.shape, val_y.shape)\n",
    "print(\"Test :\", test_X.shape)"
   ]
  },
  {
   "cell_type": "markdown",
   "metadata": {},
   "source": [
    "### Without Embeddings"
   ]
  },
  {
   "cell_type": "code",
   "execution_count": 30,
   "metadata": {},
   "outputs": [
    {
     "name": "stdout",
     "output_type": "stream",
     "text": [
      "_________________________________________________________________\n",
      "Layer (type)                 Output Shape              Param #   \n",
      "=================================================================\n",
      "input_8 (InputLayer)         (None, 100)               0         \n",
      "_________________________________________________________________\n",
      "embedding_14 (Embedding)     (None, 100, 300)          15000000  \n",
      "_________________________________________________________________\n",
      "bidirectional_12 (Bidirectio (None, 100, 256)          330240    \n",
      "_________________________________________________________________\n",
      "conv1d_2 (Conv1D)            (None, 98, 64)            49216     \n",
      "_________________________________________________________________\n",
      "global_max_pooling1d_12 (Glo (None, 64)                0         \n",
      "_________________________________________________________________\n",
      "dense_16 (Dense)             (None, 16)                1040      \n",
      "_________________________________________________________________\n",
      "dropout_9 (Dropout)          (None, 16)                0         \n",
      "_________________________________________________________________\n",
      "dense_17 (Dense)             (None, 1)                 17        \n",
      "=================================================================\n",
      "Total params: 15,380,513\n",
      "Trainable params: 15,380,513\n",
      "Non-trainable params: 0\n",
      "_________________________________________________________________\n",
      "None\n"
     ]
    }
   ],
   "source": [
    "inp = Input(shape=(maxlen,))\n",
    "x = Embedding(max_features, embed_size)(inp)\n",
    "x = Bidirectional(CuDNNGRU(128, return_sequences=True))(x)\n",
    "x = Conv1D(64, 3)(x)\n",
    "x = GlobalMaxPool1D()(x)\n",
    "x = Dense(16, activation=\"relu\")(x)\n",
    "x = Dropout(0.1)(x)\n",
    "x = Dense(1, activation=\"sigmoid\")(x)\n",
    "model = Model(inputs=inp, outputs=x)\n",
    "model.compile(loss='binary_crossentropy', optimizer='adam', metrics=['accuracy'])\n",
    "\n",
    "print(model.summary())"
   ]
  },
  {
   "cell_type": "code",
   "execution_count": 31,
   "metadata": {},
   "outputs": [
    {
     "name": "stdout",
     "output_type": "stream",
     "text": [
      "Train on 1175509 samples, validate on 130613 samples\n",
      "Epoch 1/3\n",
      "1175509/1175509 [==============================] - 182s 155us/step - loss: 0.1209 - acc: 0.9522 - val_loss: 0.1072 - val_acc: 0.9564\n",
      "Epoch 2/3\n",
      "1175509/1175509 [==============================] - 179s 152us/step - loss: 0.0985 - acc: 0.9604 - val_loss: 0.1077 - val_acc: 0.9573\n",
      "Epoch 3/3\n",
      "1175509/1175509 [==============================] - 179s 152us/step - loss: 0.0837 - acc: 0.9665 - val_loss: 0.1119 - val_acc: 0.9564\n",
      "CPU times: user 6min 12s, sys: 1min 14s, total: 7min 26s\n",
      "Wall time: 9min\n"
     ]
    },
    {
     "data": {
      "text/plain": [
       "<keras.callbacks.History at 0x7ff505076048>"
      ]
     },
     "execution_count": 31,
     "metadata": {},
     "output_type": "execute_result"
    }
   ],
   "source": [
    "%%time\n",
    "## Train the model \n",
    "model.fit(train_X, train_y, batch_size=512, epochs=3, validation_data=(val_X, val_y))"
   ]
  },
  {
   "cell_type": "code",
   "execution_count": 32,
   "metadata": {},
   "outputs": [
    {
     "name": "stdout",
     "output_type": "stream",
     "text": [
      "130613/130613 [==============================] - 6s 45us/step\n"
     ]
    },
    {
     "data": {
      "text/plain": [
       "<matplotlib.text.Text at 0x7ff5941eba90>"
      ]
     },
     "execution_count": 32,
     "metadata": {},
     "output_type": "execute_result"
    },
    {
     "data": {
      "image/png": "[encoded data removed]",
      "text/plain": [
       "<matplotlib.figure.Figure at 0x7ff4dac78048>"
      ]
     },
     "metadata": {},
     "output_type": "display_data"
    }
   ],
   "source": [
    "pred_noemb_val_y = model.predict([val_X], batch_size=1024, verbose=1)\n",
    "f1_scores = []\n",
    "threshs = np.arange(0.1, 0.9, 0.01)\n",
    "for thresh in threshs:\n",
    "    thresh = np.round(thresh, 2)\n",
    "    f1_score = metrics.f1_score(val_y, (pred_noemb_val_y>thresh).astype(int))\n",
    "    f1_scores.append(f1_score)\n",
    "    \n",
    "plt.plot(threshs, f1_scores)\n",
    "max_fscore = np.round(f1_scores[np.argmax(f1_scores)], 3)\n",
    "max_thresh = np.round(threshs[np.argmax(f1_scores)], 3)\n",
    "plt.title(\"F scores at different values of thresholds | Max: {} | Thresh {}\".format(max_fscore, max_thresh))"
   ]
  },
  {
   "cell_type": "markdown",
   "metadata": {},
   "source": [
    "### Glove Embedding"
   ]
  },
  {
   "cell_type": "code",
   "execution_count": 33,
   "metadata": {},
   "outputs": [
    {
     "name": "stdout",
     "output_type": "stream",
     "text": [
      "_________________________________________________________________\n",
      "Layer (type)                 Output Shape              Param #   \n",
      "=================================================================\n",
      "input_9 (InputLayer)         (None, 100)               0         \n",
      "_________________________________________________________________\n",
      "embedding_15 (Embedding)     (None, 100, 300)          15000000  \n",
      "_________________________________________________________________\n",
      "bidirectional_13 (Bidirectio (None, 100, 128)          140544    \n",
      "_________________________________________________________________\n",
      "global_max_pooling1d_13 (Glo (None, 128)               0         \n",
      "_________________________________________________________________\n",
      "dense_18 (Dense)             (None, 16)                2064      \n",
      "_________________________________________________________________\n",
      "dropout_10 (Dropout)         (None, 16)                0         \n",
      "_________________________________________________________________\n",
      "dense_19 (Dense)             (None, 1)                 17        \n",
      "=================================================================\n",
      "Total params: 15,142,625\n",
      "Trainable params: 15,142,625\n",
      "Non-trainable params: 0\n",
      "_________________________________________________________________\n",
      "None\n"
     ]
    }
   ],
   "source": [
    "EMBEDDING_FILE = '/home/nbatanay/.kaggle/quora-insincere-questions-classification/glove.840B.300d/glove.840B.300d.txt'\n",
    "def get_coefs(word,*arr): return word, np.asarray(arr, dtype='float32')\n",
    "embeddings_index = dict(get_coefs(*o.split(\" \")) for o in open(EMBEDDING_FILE))\n",
    "\n",
    "all_embs = np.stack(embeddings_index.values())\n",
    "emb_mean,emb_std = all_embs.mean(), all_embs.std()\n",
    "embed_size = all_embs.shape[1]\n",
    "\n",
    "word_index = tokenizer.word_index\n",
    "nb_words = min(max_features, len(word_index))\n",
    "embedding_matrix = np.random.normal(emb_mean, emb_std, (nb_words, embed_size))\n",
    "for word, i in word_index.items():\n",
    "    if i >= max_features: continue\n",
    "    embedding_vector = embeddings_index.get(word)\n",
    "    if embedding_vector is not None: embedding_matrix[i] = embedding_vector\n",
    "        \n",
    "inp = Input(shape=(maxlen,))\n",
    "x = Embedding(max_features, embed_size, weights=[embedding_matrix])(inp)\n",
    "x = Bidirectional(CuDNNGRU(64, return_sequences=True))(x)\n",
    "x = GlobalMaxPool1D()(x)\n",
    "x = Dense(16, activation=\"relu\")(x)\n",
    "x = Dropout(0.1)(x)\n",
    "x = Dense(1, activation=\"sigmoid\")(x)\n",
    "model = Model(inputs=inp, outputs=x)\n",
    "model.compile(loss='binary_crossentropy', optimizer='adam', metrics=['accuracy'])\n",
    "print(model.summary())"
   ]
  },
  {
   "cell_type": "code",
   "execution_count": 34,
   "metadata": {},
   "outputs": [
    {
     "name": "stdout",
     "output_type": "stream",
     "text": [
      "Train on 1175509 samples, validate on 130613 samples\n",
      "Epoch 1/2\n",
      "1175509/1175509 [==============================] - 124s 106us/step - loss: 0.1133 - acc: 0.9558 - val_loss: 0.1009 - val_acc: 0.9592\n",
      "Epoch 2/2\n",
      "1175509/1175509 [==============================] - 120s 102us/step - loss: 0.0931 - acc: 0.9628 - val_loss: 0.1011 - val_acc: 0.9602\n"
     ]
    },
    {
     "data": {
      "text/plain": [
       "<keras.callbacks.History at 0x7ff4de7f6b70>"
      ]
     },
     "execution_count": 34,
     "metadata": {},
     "output_type": "execute_result"
    }
   ],
   "source": [
    "model.fit(train_X, train_y, batch_size=512, epochs=2, validation_data=(val_X, val_y))"
   ]
  },
  {
   "cell_type": "code",
   "execution_count": 35,
   "metadata": {},
   "outputs": [
    {
     "name": "stdout",
     "output_type": "stream",
     "text": [
      "130613/130613 [==============================] - 4s 31us/step\n"
     ]
    },
    {
     "data": {
      "text/plain": [
       "<matplotlib.text.Text at 0x7ff5c85f6978>"
      ]
     },
     "execution_count": 35,
     "metadata": {},
     "output_type": "execute_result"
    },
    {
     "data": {
      "image/png": "[encoded data removed]",
      "text/plain": [
       "<matplotlib.figure.Figure at 0x7ff4de852470>"
      ]
     },
     "metadata": {},
     "output_type": "display_data"
    }
   ],
   "source": [
    "pred_noemb_val_y = model.predict([val_X], batch_size=1024, verbose=1)\n",
    "f1_scores = []\n",
    "threshs = np.arange(0.1, 0.9, 0.01)\n",
    "for thresh in threshs:\n",
    "    thresh = np.round(thresh, 2)\n",
    "    f1_score = metrics.f1_score(val_y, (pred_noemb_val_y>thresh).astype(int))\n",
    "    f1_scores.append(f1_score)\n",
    "    \n",
    "plt.plot(threshs, f1_scores)\n",
    "max_fscore = np.round(f1_scores[np.argmax(f1_scores)], 3)\n",
    "max_thresh = np.round(threshs[np.argmax(f1_scores)], 3)\n",
    "plt.title(\"F scores at different values of thresholds | Max: {} | Thresh {}\".format(max_fscore, max_thresh))"
   ]
  },
  {
   "cell_type": "markdown",
   "metadata": {},
   "source": [
    "### Wiki-News Embedding"
   ]
  },
  {
   "cell_type": "code",
   "execution_count": 36,
   "metadata": {},
   "outputs": [
    {
     "name": "stdout",
     "output_type": "stream",
     "text": [
      "_________________________________________________________________\n",
      "Layer (type)                 Output Shape              Param #   \n",
      "=================================================================\n",
      "input_10 (InputLayer)        (None, 100)               0         \n",
      "_________________________________________________________________\n",
      "embedding_16 (Embedding)     (None, 100, 300)          15000000  \n",
      "_________________________________________________________________\n",
      "bidirectional_14 (Bidirectio (None, 100, 128)          140544    \n",
      "_________________________________________________________________\n",
      "global_max_pooling1d_14 (Glo (None, 128)               0         \n",
      "_________________________________________________________________\n",
      "dense_20 (Dense)             (None, 16)                2064      \n",
      "_________________________________________________________________\n",
      "dropout_11 (Dropout)         (None, 16)                0         \n",
      "_________________________________________________________________\n",
      "dense_21 (Dense)             (None, 1)                 17        \n",
      "=================================================================\n",
      "Total params: 15,142,625\n",
      "Trainable params: 15,142,625\n",
      "Non-trainable params: 0\n",
      "_________________________________________________________________\n"
     ]
    }
   ],
   "source": [
    "EMBEDDING_FILE = '/home/nbatanay/.kaggle/quora-insincere-questions-classification/wiki-news-300d-1M/wiki-news-300d-1M.vec'\n",
    "def get_coefs(word,*arr): return word, np.asarray(arr, dtype='float32')\n",
    "embeddings_index = dict(get_coefs(*o.split(\" \")) for o in open(EMBEDDING_FILE) if len(o)>100)\n",
    "\n",
    "all_embs = np.stack(embeddings_index.values())\n",
    "emb_mean,emb_std = all_embs.mean(), all_embs.std()\n",
    "embed_size = all_embs.shape[1]\n",
    "\n",
    "word_index = tokenizer.word_index\n",
    "nb_words = min(max_features, len(word_index))\n",
    "embedding_matrix = np.random.normal(emb_mean, emb_std, (nb_words, embed_size))\n",
    "for word, i in word_index.items():\n",
    "    if i >= max_features: continue\n",
    "    embedding_vector = embeddings_index.get(word)\n",
    "    if embedding_vector is not None: embedding_matrix[i] = embedding_vector\n",
    "        \n",
    "inp = Input(shape=(maxlen,))\n",
    "x = Embedding(max_features, embed_size, weights=[embedding_matrix])(inp)\n",
    "x = Bidirectional(CuDNNGRU(64, return_sequences=True))(x)\n",
    "x = GlobalMaxPool1D()(x)\n",
    "x = Dense(16, activation=\"relu\")(x)\n",
    "x = Dropout(0.1)(x)\n",
    "x = Dense(1, activation=\"sigmoid\")(x)\n",
    "model = Model(inputs=inp, outputs=x)\n",
    "model.compile(loss='binary_crossentropy', optimizer='adam', metrics=['accuracy'])\n",
    "model.summary()"
   ]
  },
  {
   "cell_type": "code",
   "execution_count": 37,
   "metadata": {},
   "outputs": [
    {
     "name": "stdout",
     "output_type": "stream",
     "text": [
      "Train on 1175509 samples, validate on 130613 samples\n",
      "Epoch 1/2\n",
      "1175509/1175509 [==============================] - 125s 107us/step - loss: 0.1205 - acc: 0.9550 - val_loss: 0.1031 - val_acc: 0.9584\n",
      "Epoch 2/2\n",
      "1175509/1175509 [==============================] - 121s 103us/step - loss: 0.0960 - acc: 0.9624 - val_loss: 0.1027 - val_acc: 0.9589\n"
     ]
    },
    {
     "data": {
      "text/plain": [
       "<keras.callbacks.History at 0x7ff596d15e48>"
      ]
     },
     "execution_count": 37,
     "metadata": {},
     "output_type": "execute_result"
    }
   ],
   "source": [
    "model.fit(train_X, train_y, batch_size=512, epochs=2, validation_data=(val_X, val_y))"
   ]
  },
  {
   "cell_type": "code",
   "execution_count": 38,
   "metadata": {},
   "outputs": [
    {
     "name": "stdout",
     "output_type": "stream",
     "text": [
      "130613/130613 [==============================] - 4s 33us/step\n"
     ]
    },
    {
     "data": {
      "text/plain": [
       "<matplotlib.text.Text at 0x7ff59dfc84e0>"
      ]
     },
     "execution_count": 38,
     "metadata": {},
     "output_type": "execute_result"
    },
    {
     "data": {
      "image/png": "[encoded data removed]",
      "text/plain": [
       "<matplotlib.figure.Figure at 0x7ff5916877f0>"
      ]
     },
     "metadata": {},
     "output_type": "display_data"
    }
   ],
   "source": [
    "pred_noemb_val_y = model.predict([val_X], batch_size=1024, verbose=1)\n",
    "f1_scores = []\n",
    "threshs = np.arange(0.1, 0.9, 0.01)\n",
    "for thresh in threshs:\n",
    "    thresh = np.round(thresh, 2)\n",
    "    f1_score = metrics.f1_score(val_y, (pred_noemb_val_y>thresh).astype(int))\n",
    "    f1_scores.append(f1_score)\n",
    "    \n",
    "plt.plot(threshs, f1_scores)\n",
    "max_fscore = np.round(f1_scores[np.argmax(f1_scores)], 3)\n",
    "max_thresh = np.round(threshs[np.argmax(f1_scores)], 3)\n",
    "plt.title(\"F scores at different values of thresholds | Max: {} | Thresh {}\".format(max_fscore, max_thresh))"
   ]
  },
  {
   "cell_type": "markdown",
   "metadata": {},
   "source": [
    "### Paragram Embedding"
   ]
  },
  {
   "cell_type": "code",
   "execution_count": 39,
   "metadata": {},
   "outputs": [
    {
     "name": "stdout",
     "output_type": "stream",
     "text": [
      "_________________________________________________________________\n",
      "Layer (type)                 Output Shape              Param #   \n",
      "=================================================================\n",
      "input_11 (InputLayer)        (None, 100)               0         \n",
      "_________________________________________________________________\n",
      "embedding_17 (Embedding)     (None, 100, 300)          15000000  \n",
      "_________________________________________________________________\n",
      "bidirectional_15 (Bidirectio (None, 100, 256)          330240    \n",
      "_________________________________________________________________\n",
      "global_max_pooling1d_15 (Glo (None, 256)               0         \n",
      "_________________________________________________________________\n",
      "dense_22 (Dense)             (None, 16)                4112      \n",
      "_________________________________________________________________\n",
      "dropout_12 (Dropout)         (None, 16)                0         \n",
      "_________________________________________________________________\n",
      "dense_23 (Dense)             (None, 1)                 17        \n",
      "=================================================================\n",
      "Total params: 15,334,369\n",
      "Trainable params: 15,334,369\n",
      "Non-trainable params: 0\n",
      "_________________________________________________________________\n"
     ]
    }
   ],
   "source": [
    "EMBEDDING_FILE = '/home/nbatanay/.kaggle/quora-insincere-questions-classification/paragram_300_sl999/paragram_300_sl999.txt'\n",
    "def get_coefs(word,*arr): return word, np.asarray(arr, dtype='float32')\n",
    "embeddings_index = dict(get_coefs(*o.split(\" \")) for o in open(EMBEDDING_FILE, encoding=\"utf8\", errors='ignore') if len(o)>100)\n",
    "\n",
    "all_embs = np.stack(embeddings_index.values())\n",
    "emb_mean,emb_std = all_embs.mean(), all_embs.std()\n",
    "embed_size = all_embs.shape[1]\n",
    "\n",
    "word_index = tokenizer.word_index\n",
    "nb_words = min(max_features, len(word_index))\n",
    "embedding_matrix = np.random.normal(emb_mean, emb_std, (nb_words, embed_size))\n",
    "for word, i in word_index.items():\n",
    "    if i >= max_features: continue\n",
    "    embedding_vector = embeddings_index.get(word)\n",
    "    if embedding_vector is not None: embedding_matrix[i] = embedding_vector\n",
    "        \n",
    "inp = Input(shape=(maxlen,))\n",
    "x = Embedding(max_features, embed_size, weights=[embedding_matrix])(inp)\n",
    "x = Bidirectional(CuDNNGRU(128, return_sequences=True))(x)\n",
    "x = GlobalMaxPool1D()(x)\n",
    "x = Dense(16, activation=\"relu\")(x)\n",
    "x = Dropout(0.1)(x)\n",
    "x = Dense(1, activation=\"sigmoid\")(x)\n",
    "model = Model(inputs=inp, outputs=x)\n",
    "model.compile(loss='binary_crossentropy', optimizer='adam', metrics=['accuracy'])\n",
    "model.summary()"
   ]
  },
  {
   "cell_type": "code",
   "execution_count": 40,
   "metadata": {},
   "outputs": [
    {
     "name": "stdout",
     "output_type": "stream",
     "text": [
      "Train on 1175509 samples, validate on 130613 samples\n",
      "Epoch 1/3\n",
      "1175509/1175509 [==============================] - 174s 148us/step - loss: 0.1139 - acc: 0.9553 - val_loss: 0.1047 - val_acc: 0.9579\n",
      "Epoch 2/3\n",
      "1175509/1175509 [==============================] - 170s 145us/step - loss: 0.0945 - acc: 0.9623 - val_loss: 0.0998 - val_acc: 0.9596\n",
      "Epoch 3/3\n",
      "1175509/1175509 [==============================] - 170s 145us/step - loss: 0.0815 - acc: 0.9675 - val_loss: 0.1033 - val_acc: 0.9593\n"
     ]
    },
    {
     "data": {
      "text/plain": [
       "<keras.callbacks.History at 0x7ff58da12978>"
      ]
     },
     "execution_count": 40,
     "metadata": {},
     "output_type": "execute_result"
    }
   ],
   "source": [
    "model.fit(train_X, train_y, batch_size=512, epochs=3, validation_data=(val_X, val_y))"
   ]
  },
  {
   "cell_type": "code",
   "execution_count": 41,
   "metadata": {},
   "outputs": [
    {
     "name": "stdout",
     "output_type": "stream",
     "text": [
      "130613/130613 [==============================] - 6s 42us/step\n"
     ]
    },
    {
     "data": {
      "text/plain": [
       "<matplotlib.text.Text at 0x7ff597776a20>"
      ]
     },
     "execution_count": 41,
     "metadata": {},
     "output_type": "execute_result"
    },
    {
     "data": {
      "image/png": "[encoded data removed]",
      "text/plain": [
       "<matplotlib.figure.Figure at 0x7ff581c0db00>"
      ]
     },
     "metadata": {},
     "output_type": "display_data"
    }
   ],
   "source": [
    "pred_noemb_val_y = model.predict([val_X], batch_size=1024, verbose=1)\n",
    "f1_scores = []\n",
    "threshs = np.arange(0.1, 0.9, 0.01)\n",
    "for thresh in threshs:\n",
    "    thresh = np.round(thresh, 2)\n",
    "    f1_score = metrics.f1_score(val_y, (pred_noemb_val_y>thresh).astype(int))\n",
    "    f1_scores.append(f1_score)\n",
    "    \n",
    "plt.plot(threshs, f1_scores)\n",
    "max_fscore = np.round(f1_scores[np.argmax(f1_scores)], 3)\n",
    "max_thresh = np.round(threshs[np.argmax(f1_scores)], 3)\n",
    "plt.title(\"F scores at different values of thresholds | Max: {} | Thresh {}\".format(max_fscore, max_thresh))"
   ]
  },
  {
   "cell_type": "markdown",
   "metadata": {},
   "source": [
    "### Concatenate all the embeddings"
   ]
  },
  {
   "cell_type": "code",
   "execution_count": 7,
   "metadata": {
    "collapsed": true
   },
   "outputs": [],
   "source": [
    "def get_coefs(word,*arr): \n",
    "    return word, np.asarray(arr, dtype='float32')\n",
    "\n",
    "base_path = \"/home/nbatanay/.kaggle/quora-insincere-questions-classification/\"\n",
    "glove_file = \"glove.840B.300d/glove.840B.300d.txt\"\n",
    "glove_index = dict(get_coefs(*o.split(\" \")) for o in open(base_path+glove_file))\n",
    "\n",
    "wiki_file = \"wiki-news-300d-1M/wiki-news-300d-1M.vec\"\n",
    "wiki_index = dict(get_coefs(*o.split(\" \")) for o in open(base_path+wiki_file) if len(o)>100)\n",
    "\n",
    "paragram_file = \"paragram_300_sl999/paragram_300_sl999.txt\"\n",
    "paragram_index = dict(get_coefs(*o.split(\" \")) for o in open(base_path+paragram_file,\n",
    "                                                             encoding=\"utf8\", \n",
    "                                                             errors='ignore') if len(o)>100)"
   ]
  },
  {
   "cell_type": "code",
   "execution_count": 8,
   "metadata": {
    "collapsed": true
   },
   "outputs": [],
   "source": [
    "embed_index = {\"glove\": glove_index,\n",
    "               \"wiki\": wiki_index,\n",
    "               \"paragram\": paragram_index}\n",
    "\n",
    "embedding_matrices = {}\n",
    "for emb in embed_index.keys():\n",
    "    all_embs = np.stack(embed_index[emb].values())\n",
    "    emb_mean, emb_std = all_embs.mean(), all_embs.std()\n",
    "    embed_size = all_embs.shape[1]\n",
    "    \n",
    "    word_index = tokenizer.word_index\n",
    "    nb_words = min(max_features, len(word_index))\n",
    "    embedding_matrix = np.random.normal(emb_mean, emb_std, (nb_words, embed_size))\n",
    "    for word, i in word_index.items():\n",
    "        if i >= max_features: continue\n",
    "        embedding_vector = embed_index[emb].get(word)\n",
    "        if embedding_vector is not None: embedding_matrix[i] = embedding_vector\n",
    "    embedding_matrices[emb] = embedding_matrix"
   ]
  },
  {
   "cell_type": "code",
   "execution_count": 44,
   "metadata": {},
   "outputs": [
    {
     "name": "stdout",
     "output_type": "stream",
     "text": [
      "__________________________________________________________________________________________________\n",
      "Layer (type)                    Output Shape         Param #     Connected to                     \n",
      "==================================================================================================\n",
      "input_12 (InputLayer)           (None, 100)          0                                            \n",
      "__________________________________________________________________________________________________\n",
      "embedding_18 (Embedding)        (None, 100, 300)     15000000    input_12[0][0]                   \n",
      "__________________________________________________________________________________________________\n",
      "embedding_19 (Embedding)        (None, 100, 300)     15000000    input_12[0][0]                   \n",
      "__________________________________________________________________________________________________\n",
      "embedding_20 (Embedding)        (None, 100, 300)     15000000    input_12[0][0]                   \n",
      "__________________________________________________________________________________________________\n",
      "concatenate_4 (Concatenate)     (None, 100, 900)     0           embedding_18[0][0]               \n",
      "                                                                 embedding_19[0][0]               \n",
      "                                                                 embedding_20[0][0]               \n",
      "__________________________________________________________________________________________________\n",
      "bidirectional_16 (Bidirectional (None, 100, 256)     791040      concatenate_4[0][0]              \n",
      "__________________________________________________________________________________________________\n",
      "global_max_pooling1d_16 (Global (None, 256)          0           bidirectional_16[0][0]           \n",
      "__________________________________________________________________________________________________\n",
      "dense_24 (Dense)                (None, 16)           4112        global_max_pooling1d_16[0][0]    \n",
      "__________________________________________________________________________________________________\n",
      "dropout_13 (Dropout)            (None, 16)           0           dense_24[0][0]                   \n",
      "__________________________________________________________________________________________________\n",
      "dense_25 (Dense)                (None, 1)            17          dropout_13[0][0]                 \n",
      "==================================================================================================\n",
      "Total params: 45,795,169\n",
      "Trainable params: 45,795,169\n",
      "Non-trainable params: 0\n",
      "__________________________________________________________________________________________________\n",
      "None\n"
     ]
    }
   ],
   "source": [
    "inp = Input(shape=(maxlen,))\n",
    "\n",
    "inp_glove = Embedding(max_features, embed_size, weights=[embedding_matrices[\"glove\"]])(inp)\n",
    "inp_wiki = Embedding(max_features, embed_size, weights=[embedding_matrices[\"wiki\"]])(inp)\n",
    "inp_paragram = Embedding(max_features, embed_size, weights=[embedding_matrices[\"paragram\"]])(inp)\n",
    "merged  = concatenate([inp_glove, inp_wiki, inp_paragram])\n",
    "x = Bidirectional(CuDNNGRU(128, return_sequences=True))(merged)\n",
    "x = GlobalMaxPool1D()(x)\n",
    "x = Dense(16, activation=\"relu\")(x)\n",
    "x = Dropout(0.1)(x)\n",
    "x = Dense(1, activation=\"sigmoid\")(x)\n",
    "model = Model(inputs=inp, outputs=x)\n",
    "model.compile(loss='binary_crossentropy', optimizer='adam', metrics=['accuracy'])\n",
    "print(model.summary())"
   ]
  },
  {
   "cell_type": "code",
   "execution_count": 45,
   "metadata": {},
   "outputs": [
    {
     "name": "stdout",
     "output_type": "stream",
     "text": [
      "Train on 1175509 samples, validate on 130613 samples\n",
      "Epoch 1/3\n",
      "1175509/1175509 [==============================] - 347s 295us/step - loss: 0.1106 - acc: 0.9561 - val_loss: 0.1002 - val_acc: 0.9602\n",
      "Epoch 2/3\n",
      "1175509/1175509 [==============================] - 344s 292us/step - loss: 0.0913 - acc: 0.9632 - val_loss: 0.1008 - val_acc: 0.9604\n",
      "Epoch 3/3\n",
      "1175509/1175509 [==============================] - 344s 292us/step - loss: 0.0744 - acc: 0.9702 - val_loss: 0.1068 - val_acc: 0.9583\n"
     ]
    },
    {
     "data": {
      "text/plain": [
       "<keras.callbacks.History at 0x7ff5c8e7a668>"
      ]
     },
     "execution_count": 45,
     "metadata": {},
     "output_type": "execute_result"
    }
   ],
   "source": [
    "model.fit(train_X, train_y, batch_size=512, epochs=3, validation_data=(val_X, val_y))"
   ]
  },
  {
   "cell_type": "code",
   "execution_count": 46,
   "metadata": {},
   "outputs": [
    {
     "name": "stdout",
     "output_type": "stream",
     "text": [
      "130613/130613 [==============================] - 10s 77us/step\n"
     ]
    },
    {
     "data": {
      "text/plain": [
       "<matplotlib.text.Text at 0x7ff4dad2aba8>"
      ]
     },
     "execution_count": 46,
     "metadata": {},
     "output_type": "execute_result"
    },
    {
     "data": {
      "image/png": "[encoded data removed]",
      "text/plain": [
       "<matplotlib.figure.Figure at 0x7ff590178ef0>"
      ]
     },
     "metadata": {},
     "output_type": "display_data"
    }
   ],
   "source": [
    "pred_val_y = model.predict([val_X], batch_size=1024, verbose=1)\n",
    "f1_scores = []\n",
    "threshs = np.arange(0.1, 0.9, 0.01)\n",
    "for thresh in threshs:\n",
    "    thresh = np.round(thresh, 2)\n",
    "    f1_score = metrics.f1_score(val_y, (pred_val_y>thresh).astype(int))\n",
    "    f1_scores.append(f1_score)\n",
    "    \n",
    "plt.plot(threshs, f1_scores)\n",
    "max_fscore = np.round(f1_scores[np.argmax(f1_scores)], 3)\n",
    "max_thresh = np.round(threshs[np.argmax(f1_scores)], 3)\n",
    "plt.title(\"F scores at different values of thresholds | Max: {} | Thresh {}\".format(max_fscore, max_thresh))"
   ]
  },
  {
   "cell_type": "markdown",
   "metadata": {},
   "source": [
    "---"
   ]
  },
  {
   "cell_type": "code",
   "execution_count": 47,
   "metadata": {},
   "outputs": [
    {
     "name": "stdout",
     "output_type": "stream",
     "text": [
      "__________________________________________________________________________________________________\n",
      "Layer (type)                    Output Shape         Param #     Connected to                     \n",
      "==================================================================================================\n",
      "input_13 (InputLayer)           (None, 100)          0                                            \n",
      "__________________________________________________________________________________________________\n",
      "embedding_21 (Embedding)        (None, 100, 300)     15000000    input_13[0][0]                   \n",
      "__________________________________________________________________________________________________\n",
      "embedding_22 (Embedding)        (None, 100, 300)     15000000    input_13[0][0]                   \n",
      "__________________________________________________________________________________________________\n",
      "embedding_23 (Embedding)        (None, 100, 300)     15000000    input_13[0][0]                   \n",
      "__________________________________________________________________________________________________\n",
      "bidirectional_17 (Bidirectional (None, 100, 256)     330240      embedding_21[0][0]               \n",
      "__________________________________________________________________________________________________\n",
      "bidirectional_18 (Bidirectional (None, 100, 256)     330240      embedding_22[0][0]               \n",
      "__________________________________________________________________________________________________\n",
      "bidirectional_19 (Bidirectional (None, 100, 256)     330240      embedding_23[0][0]               \n",
      "__________________________________________________________________________________________________\n",
      "global_max_pooling1d_17 (Global (None, 256)          0           bidirectional_17[0][0]           \n",
      "__________________________________________________________________________________________________\n",
      "global_max_pooling1d_18 (Global (None, 256)          0           bidirectional_18[0][0]           \n",
      "__________________________________________________________________________________________________\n",
      "global_max_pooling1d_19 (Global (None, 256)          0           bidirectional_19[0][0]           \n",
      "__________________________________________________________________________________________________\n",
      "concatenate_5 (Concatenate)     (None, 768)          0           global_max_pooling1d_17[0][0]    \n",
      "                                                                 global_max_pooling1d_18[0][0]    \n",
      "                                                                 global_max_pooling1d_19[0][0]    \n",
      "__________________________________________________________________________________________________\n",
      "dense_26 (Dense)                (None, 16)           12304       concatenate_5[0][0]              \n",
      "__________________________________________________________________________________________________\n",
      "dropout_14 (Dropout)            (None, 16)           0           dense_26[0][0]                   \n",
      "__________________________________________________________________________________________________\n",
      "dense_27 (Dense)                (None, 1)            17          dropout_14[0][0]                 \n",
      "==================================================================================================\n",
      "Total params: 46,003,041\n",
      "Trainable params: 46,003,041\n",
      "Non-trainable params: 0\n",
      "__________________________________________________________________________________________________\n",
      "None\n",
      "Train on 1175509 samples, validate on 130613 samples\n",
      "Epoch 1/2\n",
      "1175509/1175509 [==============================] - 520s 443us/step - loss: 0.1148 - acc: 0.9554 - val_loss: 0.1045 - val_acc: 0.9584\n",
      "Epoch 2/2\n",
      "1175509/1175509 [==============================] - 512s 435us/step - loss: 0.0927 - acc: 0.9633 - val_loss: 0.1009 - val_acc: 0.9588\n",
      "130613/130613 [==============================] - 15s 117us/step\n"
     ]
    },
    {
     "name": "stderr",
     "output_type": "stream",
     "text": [
      "/home/nbatanay/.conda/envs/nlp_env/lib/python3.5/site-packages/sklearn/metrics/classification.py:1143: UndefinedMetricWarning: F-score is ill-defined and being set to 0.0 due to no predicted samples.\n",
      "  'precision', 'predicted', average, warn_for)\n"
     ]
    },
    {
     "name": "stdout",
     "output_type": "stream",
     "text": [
      "CPU times: user 13min 45s, sys: 1min 49s, total: 15min 34s\n",
      "Wall time: 17min 41s\n"
     ]
    },
    {
     "data": {
      "image/png": "[encoded data removed]",
      "text/plain": [
       "<matplotlib.figure.Figure at 0x7ff470afef98>"
      ]
     },
     "metadata": {},
     "output_type": "display_data"
    }
   ],
   "source": [
    "%%time\n",
    "inp = Input(shape=(maxlen,))\n",
    "\n",
    "inp_glove = Embedding(max_features, embed_size, weights=[embedding_matrices[\"glove\"]])(inp)\n",
    "inp_glove = Bidirectional(CuDNNGRU(128, return_sequences=True))(inp_glove)\n",
    "inp_glove = GlobalMaxPool1D()(inp_glove)\n",
    "\n",
    "inp_wiki = Embedding(max_features, embed_size, weights=[embedding_matrices[\"wiki\"]])(inp)\n",
    "inp_wiki = Bidirectional(CuDNNGRU(128, return_sequences=True))(inp_wiki)\n",
    "inp_wiki = GlobalMaxPool1D()(inp_wiki)\n",
    "\n",
    "inp_paragram = Embedding(max_features, embed_size, weights=[embedding_matrices[\"paragram\"]])(inp)\n",
    "inp_paragram = Bidirectional(CuDNNGRU(128, return_sequences=True))(inp_paragram)\n",
    "inp_paragram = GlobalMaxPool1D()(inp_paragram)\n",
    "\n",
    "merged  = concatenate([inp_glove, inp_wiki, inp_paragram])\n",
    "x = Dense(16, activation=\"relu\")(merged)\n",
    "x = Dropout(0.1)(x)\n",
    "x = Dense(1, activation=\"sigmoid\")(x)\n",
    "model = Model(inputs=inp, outputs=x)\n",
    "model.compile(loss='binary_crossentropy', optimizer='adam', metrics=['accuracy'])\n",
    "print(model.summary())\n",
    "\n",
    "#train\n",
    "model.fit(train_X, train_y, batch_size=512, epochs=2, validation_data=(val_X, val_y))\n",
    "\n",
    "#model performance \n",
    "pred_val_y = model.predict([val_X], batch_size=1024, verbose=1)\n",
    "f1_scores = []\n",
    "threshs = np.arange(0.1, 0.9, 0.01)\n",
    "for thresh in threshs:\n",
    "    thresh = np.round(thresh, 2)\n",
    "    f1_score = metrics.f1_score(val_y, (pred_val_y>thresh).astype(int))\n",
    "    f1_scores.append(f1_score)\n",
    "    \n",
    "plt.plot(threshs, f1_scores)\n",
    "max_fscore = np.round(f1_scores[np.argmax(f1_scores)], 3)\n",
    "max_thresh = np.round(threshs[np.argmax(f1_scores)], 3)\n",
    "plt.title(\"F scores at different values of thresholds | Max: {} | Thresh {}\".format(max_fscore, max_thresh))"
   ]
  },
  {
   "cell_type": "code",
   "execution_count": 9,
   "metadata": {
    "scrolled": false
   },
   "outputs": [
    {
     "name": "stdout",
     "output_type": "stream",
     "text": [
      "__________________________________________________________________________________________________\n",
      "Layer (type)                    Output Shape         Param #     Connected to                     \n",
      "==================================================================================================\n",
      "input_2 (InputLayer)            (None, 100)          0                                            \n",
      "__________________________________________________________________________________________________\n",
      "embedding_1 (Embedding)         (None, 100, 300)     15000000    input_2[0][0]                    \n",
      "__________________________________________________________________________________________________\n",
      "embedding_2 (Embedding)         (None, 100, 300)     15000000    input_2[0][0]                    \n",
      "__________________________________________________________________________________________________\n",
      "embedding_3 (Embedding)         (None, 100, 300)     15000000    input_2[0][0]                    \n",
      "__________________________________________________________________________________________________\n",
      "bidirectional_1 (Bidirectional) (None, 100, 256)     330240      embedding_1[0][0]                \n",
      "__________________________________________________________________________________________________\n",
      "bidirectional_2 (Bidirectional) (None, 100, 256)     330240      embedding_2[0][0]                \n",
      "__________________________________________________________________________________________________\n",
      "bidirectional_3 (Bidirectional) (None, 100, 256)     330240      embedding_3[0][0]                \n",
      "__________________________________________________________________________________________________\n",
      "global_max_pooling1d_1 (GlobalM (None, 256)          0           bidirectional_1[0][0]            \n",
      "__________________________________________________________________________________________________\n",
      "global_max_pooling1d_2 (GlobalM (None, 256)          0           bidirectional_2[0][0]            \n",
      "__________________________________________________________________________________________________\n",
      "global_max_pooling1d_3 (GlobalM (None, 256)          0           bidirectional_3[0][0]            \n",
      "__________________________________________________________________________________________________\n",
      "concatenate_1 (Concatenate)     (None, 768)          0           global_max_pooling1d_1[0][0]     \n",
      "                                                                 global_max_pooling1d_2[0][0]     \n",
      "                                                                 global_max_pooling1d_3[0][0]     \n",
      "__________________________________________________________________________________________________\n",
      "dense_1 (Dense)                 (None, 32)           24608       concatenate_1[0][0]              \n",
      "__________________________________________________________________________________________________\n",
      "dropout_1 (Dropout)             (None, 32)           0           dense_1[0][0]                    \n",
      "__________________________________________________________________________________________________\n",
      "dense_2 (Dense)                 (None, 16)           528         dropout_1[0][0]                  \n",
      "__________________________________________________________________________________________________\n",
      "dropout_2 (Dropout)             (None, 16)           0           dense_2[0][0]                    \n",
      "__________________________________________________________________________________________________\n",
      "dense_3 (Dense)                 (None, 1)            17          dropout_2[0][0]                  \n",
      "==================================================================================================\n",
      "Total params: 46,015,873\n",
      "Trainable params: 46,015,873\n",
      "Non-trainable params: 0\n",
      "__________________________________________________________________________________________________\n",
      "None\n",
      "Train on 1175509 samples, validate on 130613 samples\n",
      "Epoch 1/2\n",
      "1175509/1175509 [==============================] - 703s 598us/step - loss: 0.1120 - acc: 0.9557 - val_loss: 0.1007 - val_acc: 0.9596\n",
      "Epoch 2/2\n",
      "1175509/1175509 [==============================] - 701s 596us/step - loss: 0.0904 - acc: 0.9637 - val_loss: 0.0997 - val_acc: 0.9594\n",
      "130613/130613 [==============================] - 14s 107us/step\n",
      "CPU times: user 18min 50s, sys: 2min 36s, total: 21min 27s\n",
      "Wall time: 23min 46s\n"
     ]
    },
    {
     "data": {
      "image/png": "[encoded data removed]",
      "text/plain": [
       "<matplotlib.figure.Figure at 0x7fabfc1aa7b8>"
      ]
     },
     "metadata": {},
     "output_type": "display_data"
    }
   ],
   "source": [
    "%%time\n",
    "inp = Input(shape=(maxlen,))\n",
    "\n",
    "inp_glove = Embedding(max_features, embed_size, weights=[embedding_matrices[\"glove\"]])(inp)\n",
    "inp_glove = Bidirectional(CuDNNGRU(128, return_sequences=True))(inp_glove)\n",
    "inp_glove = GlobalMaxPool1D()(inp_glove)\n",
    "\n",
    "inp_wiki = Embedding(max_features, embed_size, weights=[embedding_matrices[\"wiki\"]])(inp)\n",
    "inp_wiki = Bidirectional(CuDNNGRU(128, return_sequences=True))(inp_wiki)\n",
    "inp_wiki = GlobalMaxPool1D()(inp_wiki)\n",
    "\n",
    "inp_paragram = Embedding(max_features, embed_size, weights=[embedding_matrices[\"paragram\"]])(inp)\n",
    "inp_paragram = Bidirectional(CuDNNGRU(128, return_sequences=True))(inp_paragram)\n",
    "inp_paragram = GlobalMaxPool1D()(inp_paragram)\n",
    "\n",
    "merged  = concatenate([inp_glove, inp_wiki, inp_paragram])\n",
    "x = Dense(32, activation=\"relu\")(merged)\n",
    "x = Dropout(0.1)(x)\n",
    "x = Dense(16, activation=\"relu\")(x)\n",
    "x = Dropout(0.1)(x)\n",
    "x = Dense(1, activation=\"sigmoid\")(x)\n",
    "model = Model(inputs=inp, outputs=x)\n",
    "model.compile(loss='binary_crossentropy', optimizer='adam', metrics=['accuracy'])\n",
    "print(model.summary())\n",
    "\n",
    "#train\n",
    "model.fit(train_X, train_y, batch_size=256, epochs=2, validation_data=(val_X, val_y))\n",
    "\n",
    "#model performance \n",
    "pred_val_y = model.predict([val_X], batch_size=1024, verbose=1)\n",
    "f1_scores = []\n",
    "threshs = np.arange(0.1, 0.9, 0.01)\n",
    "for thresh in threshs:\n",
    "    thresh = np.round(thresh, 2)\n",
    "    f1_score = metrics.f1_score(val_y, (pred_val_y>thresh).astype(int))\n",
    "    f1_scores.append(f1_score)\n",
    "    \n",
    "plt.plot(threshs, f1_scores)\n",
    "max_fscore = np.round(f1_scores[np.argmax(f1_scores)], 3)\n",
    "max_thresh = np.round(threshs[np.argmax(f1_scores)], 3)\n",
    "plt.title(\"F scores at different values of thresholds | Max: {} | Thresh {}\".format(max_fscore, max_thresh))"
   ]
  },
  {
   "cell_type": "markdown",
   "metadata": {},
   "source": [
    "### with Attention Layer"
   ]
  },
  {
   "cell_type": "code",
   "execution_count": 12,
   "metadata": {},
   "outputs": [],
   "source": [
    "class Attention(Layer):\n",
    "    def __init__(self, step_dim,\n",
    "                 W_regularizer=None, b_regularizer=None,\n",
    "                 W_constraint=None, b_constraint=None,\n",
    "                 bias=True, **kwargs):\n",
    "        self.supports_masking = True\n",
    "        self.init = initializers.get('glorot_uniform')\n",
    "\n",
    "        self.W_regularizer = regularizers.get(W_regularizer)\n",
    "        self.b_regularizer = regularizers.get(b_regularizer)\n",
    "\n",
    "        self.W_constraint = constraints.get(W_constraint)\n",
    "        self.b_constraint = constraints.get(b_constraint)\n",
    "\n",
    "        self.bias = bias\n",
    "        self.step_dim = step_dim\n",
    "        self.features_dim = 0\n",
    "        super(Attention, self).__init__(**kwargs)\n",
    "\n",
    "    def build(self, input_shape):\n",
    "        assert len(input_shape) == 3\n",
    "\n",
    "        self.W = self.add_weight((input_shape[-1],),\n",
    "                                 initializer=self.init,\n",
    "                                 name='{}_W'.format(self.name),\n",
    "                                 regularizer=self.W_regularizer,\n",
    "                                 constraint=self.W_constraint)\n",
    "        self.features_dim = input_shape[-1]\n",
    "\n",
    "        if self.bias:\n",
    "            self.b = self.add_weight((input_shape[1],),\n",
    "                                     initializer='zero',\n",
    "                                     name='{}_b'.format(self.name),\n",
    "                                     regularizer=self.b_regularizer,\n",
    "                                     constraint=self.b_constraint)\n",
    "        else:\n",
    "            self.b = None\n",
    "\n",
    "        self.built = True\n",
    "\n",
    "    def compute_mask(self, input, input_mask=None):\n",
    "        return None\n",
    "\n",
    "    def call(self, x, mask=None):\n",
    "        features_dim = self.features_dim\n",
    "        step_dim = self.step_dim\n",
    "\n",
    "        eij = K.reshape(K.dot(K.reshape(x, (-1, features_dim)),\n",
    "                        K.reshape(self.W, (features_dim, 1))), (-1, step_dim))\n",
    "\n",
    "        if self.bias:\n",
    "            eij += self.b\n",
    "\n",
    "        eij = K.tanh(eij)\n",
    "\n",
    "        a = K.exp(eij)\n",
    "\n",
    "        if mask is not None:\n",
    "            a *= K.cast(mask, K.floatx())\n",
    "\n",
    "        a /= K.cast(K.sum(a, axis=1, keepdims=True) + K.epsilon(), K.floatx())\n",
    "\n",
    "        a = K.expand_dims(a)\n",
    "        weighted_input = x * a\n",
    "        return K.sum(weighted_input, axis=1)\n",
    "\n",
    "    def compute_output_shape(self, input_shape):\n",
    "        return input_shape[0],  self.features_dim"
   ]
  },
  {
   "cell_type": "code",
   "execution_count": 13,
   "metadata": {},
   "outputs": [
    {
     "name": "stdout",
     "output_type": "stream",
     "text": [
      "__________________________________________________________________________________________________\n",
      "Layer (type)                    Output Shape         Param #     Connected to                     \n",
      "==================================================================================================\n",
      "input_3 (InputLayer)            (None, 100)          0                                            \n",
      "__________________________________________________________________________________________________\n",
      "embedding_4 (Embedding)         (None, 100, 300)     15000000    input_3[0][0]                    \n",
      "__________________________________________________________________________________________________\n",
      "embedding_5 (Embedding)         (None, 100, 300)     15000000    input_3[0][0]                    \n",
      "__________________________________________________________________________________________________\n",
      "embedding_6 (Embedding)         (None, 100, 300)     15000000    input_3[0][0]                    \n",
      "__________________________________________________________________________________________________\n",
      "bidirectional_4 (Bidirectional) (None, 100, 256)     330240      embedding_4[0][0]                \n",
      "__________________________________________________________________________________________________\n",
      "bidirectional_5 (Bidirectional) (None, 100, 256)     330240      embedding_5[0][0]                \n",
      "__________________________________________________________________________________________________\n",
      "bidirectional_6 (Bidirectional) (None, 100, 256)     330240      embedding_6[0][0]                \n",
      "__________________________________________________________________________________________________\n",
      "attention_1 (Attention)         (None, 256)          356         bidirectional_4[0][0]            \n",
      "__________________________________________________________________________________________________\n",
      "attention_2 (Attention)         (None, 256)          356         bidirectional_5[0][0]            \n",
      "__________________________________________________________________________________________________\n",
      "attention_3 (Attention)         (None, 256)          356         bidirectional_6[0][0]            \n",
      "__________________________________________________________________________________________________\n",
      "concatenate_2 (Concatenate)     (None, 768)          0           attention_1[0][0]                \n",
      "                                                                 attention_2[0][0]                \n",
      "                                                                 attention_3[0][0]                \n",
      "__________________________________________________________________________________________________\n",
      "dense_4 (Dense)                 (None, 32)           24608       concatenate_2[0][0]              \n",
      "__________________________________________________________________________________________________\n",
      "dropout_3 (Dropout)             (None, 32)           0           dense_4[0][0]                    \n",
      "__________________________________________________________________________________________________\n",
      "dense_5 (Dense)                 (None, 16)           528         dropout_3[0][0]                  \n",
      "__________________________________________________________________________________________________\n",
      "dropout_4 (Dropout)             (None, 16)           0           dense_5[0][0]                    \n",
      "__________________________________________________________________________________________________\n",
      "dense_6 (Dense)                 (None, 1)            17          dropout_4[0][0]                  \n",
      "==================================================================================================\n",
      "Total params: 46,016,941\n",
      "Trainable params: 46,016,941\n",
      "Non-trainable params: 0\n",
      "__________________________________________________________________________________________________\n",
      "None\n",
      "Train on 1175509 samples, validate on 130613 samples\n",
      "Epoch 1/2\n",
      "1175509/1175509 [==============================] - 727s 619us/step - loss: 0.1117 - acc: 0.9565 - val_loss: 0.1012 - val_acc: 0.9594\n",
      "Epoch 2/2\n",
      "1175509/1175509 [==============================] - 722s 615us/step - loss: 0.0912 - acc: 0.9637 - val_loss: 0.0999 - val_acc: 0.9599\n",
      "130613/130613 [==============================] - 15s 114us/step\n",
      "CPU times: user 20min 32s, sys: 2min 51s, total: 23min 23s\n",
      "Wall time: 24min 30s\n"
     ]
    },
    {
     "data": {
      "image/png": "[encoded data removed]",
      "text/plain": [
       "<matplotlib.figure.Figure at 0x7fabeea2cb00>"
      ]
     },
     "metadata": {},
     "output_type": "display_data"
    }
   ],
   "source": [
    "%%time\n",
    "inp = Input(shape=(maxlen,))\n",
    "\n",
    "inp_glove = Embedding(max_features, embed_size, weights=[embedding_matrices[\"glove\"]])(inp)\n",
    "inp_glove = Bidirectional(CuDNNGRU(128, return_sequences=True))(inp_glove)\n",
    "inp_glove = Attention(maxlen)(inp_glove)\n",
    "#inp_glove = GlobalMaxPool1D()(inp_glove)\n",
    "\n",
    "inp_wiki = Embedding(max_features, embed_size, weights=[embedding_matrices[\"wiki\"]])(inp)\n",
    "inp_wiki = Bidirectional(CuDNNGRU(128, return_sequences=True))(inp_wiki)\n",
    "inp_wiki = Attention(maxlen)(inp_wiki)\n",
    "#inp_wiki = GlobalMaxPool1D()(inp_wiki)\n",
    "\n",
    "inp_paragram = Embedding(max_features, embed_size, weights=[embedding_matrices[\"paragram\"]])(inp)\n",
    "inp_paragram = Bidirectional(CuDNNGRU(128, return_sequences=True))(inp_paragram)\n",
    "inp_paragram = Attention(maxlen)(inp_paragram)\n",
    "#inp_paragram = GlobalMaxPool1D()(inp_paragram)\n",
    "\n",
    "merged  = concatenate([inp_glove, inp_wiki, inp_paragram])\n",
    "x = Dense(32, activation=\"relu\")(merged)\n",
    "x = Dropout(0.1)(x)\n",
    "x = Dense(16, activation=\"relu\")(x)\n",
    "x = Dropout(0.1)(x)\n",
    "x = Dense(1, activation=\"sigmoid\")(x)\n",
    "model = Model(inputs=inp, outputs=x)\n",
    "model.compile(loss='binary_crossentropy', optimizer='adam', metrics=['accuracy'])\n",
    "print(model.summary())\n",
    "\n",
    "#train\n",
    "model.fit(train_X, train_y, batch_size=256, epochs=2, validation_data=(val_X, val_y))\n",
    "\n",
    "#model performance \n",
    "pred_val_y = model.predict([val_X], batch_size=1024, verbose=1)\n",
    "f1_scores = []\n",
    "threshs = np.arange(0.1, 0.9, 0.01)\n",
    "for thresh in threshs:\n",
    "    thresh = np.round(thresh, 2)\n",
    "    f1_score = metrics.f1_score(val_y, (pred_val_y>thresh).astype(int))\n",
    "    f1_scores.append(f1_score)\n",
    "    \n",
    "plt.plot(threshs, f1_scores)\n",
    "max_fscore = np.round(f1_scores[np.argmax(f1_scores)], 3)\n",
    "max_thresh = np.round(threshs[np.argmax(f1_scores)], 3)\n",
    "plt.title(\"F scores at different values of thresholds | Max: {} | Thresh {}\".format(max_fscore, max_thresh))"
   ]
  },
  {
   "cell_type": "code",
   "execution_count": 14,
   "metadata": {
    "collapsed": true
   },
   "outputs": [],
   "source": [
    "from keras.layers import CuDNNLSTM"
   ]
  },
  {
   "cell_type": "code",
   "execution_count": 16,
   "metadata": {},
   "outputs": [
    {
     "name": "stdout",
     "output_type": "stream",
     "text": [
      "__________________________________________________________________________________________________\n",
      "Layer (type)                    Output Shape         Param #     Connected to                     \n",
      "==================================================================================================\n",
      "input_5 (InputLayer)            (None, 100)          0                                            \n",
      "__________________________________________________________________________________________________\n",
      "embedding_10 (Embedding)        (None, 100, 300)     15000000    input_5[0][0]                    \n",
      "__________________________________________________________________________________________________\n",
      "embedding_11 (Embedding)        (None, 100, 300)     15000000    input_5[0][0]                    \n",
      "__________________________________________________________________________________________________\n",
      "embedding_12 (Embedding)        (None, 100, 300)     15000000    input_5[0][0]                    \n",
      "__________________________________________________________________________________________________\n",
      "bidirectional_10 (Bidirectional (None, 100, 256)     440320      embedding_10[0][0]               \n",
      "__________________________________________________________________________________________________\n",
      "bidirectional_11 (Bidirectional (None, 100, 256)     330240      embedding_11[0][0]               \n",
      "__________________________________________________________________________________________________\n",
      "bidirectional_12 (Bidirectional (None, 100, 256)     330240      embedding_12[0][0]               \n",
      "__________________________________________________________________________________________________\n",
      "attention_7 (Attention)         (None, 256)          356         bidirectional_10[0][0]           \n",
      "__________________________________________________________________________________________________\n",
      "attention_8 (Attention)         (None, 256)          356         bidirectional_11[0][0]           \n",
      "__________________________________________________________________________________________________\n",
      "attention_9 (Attention)         (None, 256)          356         bidirectional_12[0][0]           \n",
      "__________________________________________________________________________________________________\n",
      "concatenate_4 (Concatenate)     (None, 768)          0           attention_7[0][0]                \n",
      "                                                                 attention_8[0][0]                \n",
      "                                                                 attention_9[0][0]                \n",
      "__________________________________________________________________________________________________\n",
      "dense_10 (Dense)                (None, 32)           24608       concatenate_4[0][0]              \n",
      "__________________________________________________________________________________________________\n",
      "dropout_7 (Dropout)             (None, 32)           0           dense_10[0][0]                   \n",
      "__________________________________________________________________________________________________\n",
      "dense_11 (Dense)                (None, 16)           528         dropout_7[0][0]                  \n",
      "__________________________________________________________________________________________________\n",
      "dropout_8 (Dropout)             (None, 16)           0           dense_11[0][0]                   \n",
      "__________________________________________________________________________________________________\n",
      "dense_12 (Dense)                (None, 1)            17          dropout_8[0][0]                  \n",
      "==================================================================================================\n",
      "Total params: 46,127,021\n",
      "Trainable params: 46,127,021\n",
      "Non-trainable params: 0\n",
      "__________________________________________________________________________________________________\n",
      "None\n",
      "Train on 1175509 samples, validate on 130613 samples\n",
      "Epoch 1/2\n",
      "1175509/1175509 [==============================] - 756s 643us/step - loss: 0.1180 - acc: 0.9535 - val_loss: 0.1011 - val_acc: 0.9596\n",
      "Epoch 2/2\n",
      "1175509/1175509 [==============================] - 745s 634us/step - loss: 0.0927 - acc: 0.9631 - val_loss: 0.0993 - val_acc: 0.9602\n",
      "130613/130613 [==============================] - 16s 124us/step\n",
      "CPU times: user 21min 21s, sys: 2min 38s, total: 24min\n",
      "Wall time: 25min 30s\n"
     ]
    },
    {
     "data": {
      "image/png": "[encoded data removed]",
      "text/plain": [
       "<matplotlib.figure.Figure at 0x7fabea7be080>"
      ]
     },
     "metadata": {},
     "output_type": "display_data"
    }
   ],
   "source": [
    "%%time\n",
    "inp = Input(shape=(maxlen,))\n",
    "\n",
    "inp_glove = Embedding(max_features, embed_size, weights=[embedding_matrices[\"glove\"]])(inp)\n",
    "inp_glove = Bidirectional(CuDNNLSTM(128, return_sequences=True))(inp_glove)\n",
    "inp_glove = Attention(maxlen)(inp_glove)\n",
    "#inp_glove = GlobalMaxPool1D()(inp_glove)\n",
    "\n",
    "inp_wiki = Embedding(max_features, embed_size, weights=[embedding_matrices[\"wiki\"]])(inp)\n",
    "inp_wiki = Bidirectional(CuDNNGRU(128, return_sequences=True))(inp_wiki)\n",
    "inp_wiki = Attention(maxlen)(inp_wiki)\n",
    "#inp_wiki = GlobalMaxPool1D()(inp_wiki)\n",
    "\n",
    "inp_paragram = Embedding(max_features, embed_size, weights=[embedding_matrices[\"paragram\"]])(inp)\n",
    "inp_paragram = Bidirectional(CuDNNGRU(128, return_sequences=True))(inp_paragram)\n",
    "inp_paragram = Attention(maxlen)(inp_paragram)\n",
    "#inp_paragram = GlobalMaxPool1D()(inp_paragram)\n",
    "\n",
    "merged  = concatenate([inp_glove, inp_wiki, inp_paragram])\n",
    "x = Dense(32, activation=\"relu\")(merged)\n",
    "x = Dropout(0.1)(x)\n",
    "x = Dense(16, activation=\"relu\")(x)\n",
    "x = Dropout(0.1)(x)\n",
    "x = Dense(1, activation=\"sigmoid\")(x)\n",
    "model = Model(inputs=inp, outputs=x)\n",
    "model.compile(loss='binary_crossentropy', optimizer='adam', metrics=['accuracy'])\n",
    "print(model.summary())\n",
    "\n",
    "#train\n",
    "model.fit(train_X, train_y, batch_size=256, epochs=2, validation_data=(val_X, val_y))\n",
    "\n",
    "#model performance \n",
    "pred_val_y = model.predict([val_X], batch_size=1024, verbose=1)\n",
    "f1_scores = []\n",
    "threshs = np.arange(0.1, 0.9, 0.01)\n",
    "for thresh in threshs:\n",
    "    thresh = np.round(thresh, 2)\n",
    "    f1_score = metrics.f1_score(val_y, (pred_val_y>thresh).astype(int))\n",
    "    f1_scores.append(f1_score)\n",
    "    \n",
    "plt.plot(threshs, f1_scores)\n",
    "max_fscore = np.round(f1_scores[np.argmax(f1_scores)], 3)\n",
    "max_thresh = np.round(threshs[np.argmax(f1_scores)], 3)\n",
    "plt.title(\"F scores at different values of thresholds | Max: {} | Thresh {}\".format(max_fscore, max_thresh))"
   ]
  },
  {
   "cell_type": "code",
   "execution_count": 18,
   "metadata": {
    "collapsed": true
   },
   "outputs": [],
   "source": [
    "from keras.layers import Conv2D"
   ]
  },
  {
   "cell_type": "code",
   "execution_count": 28,
   "metadata": {
    "scrolled": false
   },
   "outputs": [
    {
     "name": "stdout",
     "output_type": "stream",
     "text": [
      "__________________________________________________________________________________________________\n",
      "Layer (type)                    Output Shape         Param #     Connected to                     \n",
      "==================================================================================================\n",
      "input_14 (InputLayer)           (None, 100)          0                                            \n",
      "__________________________________________________________________________________________________\n",
      "embedding_27 (Embedding)        (None, 100, 300)     15000000    input_14[0][0]                   \n",
      "__________________________________________________________________________________________________\n",
      "embedding_28 (Embedding)        (None, 100, 300)     15000000    input_14[0][0]                   \n",
      "__________________________________________________________________________________________________\n",
      "embedding_29 (Embedding)        (None, 100, 300)     15000000    input_14[0][0]                   \n",
      "__________________________________________________________________________________________________\n",
      "spatial_dropout1d_15 (SpatialDr (None, 100, 300)     0           embedding_27[0][0]               \n",
      "__________________________________________________________________________________________________\n",
      "spatial_dropout1d_16 (SpatialDr (None, 100, 300)     0           embedding_28[0][0]               \n",
      "__________________________________________________________________________________________________\n",
      "spatial_dropout1d_17 (SpatialDr (None, 100, 300)     0           embedding_29[0][0]               \n",
      "__________________________________________________________________________________________________\n",
      "reshape_15 (Reshape)            (None, 100, 300, 1)  0           spatial_dropout1d_15[0][0]       \n",
      "__________________________________________________________________________________________________\n",
      "reshape_16 (Reshape)            (None, 100, 300, 1)  0           spatial_dropout1d_16[0][0]       \n",
      "__________________________________________________________________________________________________\n",
      "reshape_17 (Reshape)            (None, 100, 300, 1)  0           spatial_dropout1d_17[0][0]       \n",
      "__________________________________________________________________________________________________\n",
      "conv2d_41 (Conv2D)              (None, 100, 1, 36)   10836       reshape_15[0][0]                 \n",
      "__________________________________________________________________________________________________\n",
      "conv2d_42 (Conv2D)              (None, 99, 1, 36)    21636       reshape_15[0][0]                 \n",
      "__________________________________________________________________________________________________\n",
      "conv2d_43 (Conv2D)              (None, 98, 1, 36)    32436       reshape_15[0][0]                 \n",
      "__________________________________________________________________________________________________\n",
      "conv2d_44 (Conv2D)              (None, 96, 1, 36)    54036       reshape_15[0][0]                 \n",
      "__________________________________________________________________________________________________\n",
      "conv2d_45 (Conv2D)              (None, 100, 1, 36)   10836       reshape_16[0][0]                 \n",
      "__________________________________________________________________________________________________\n",
      "conv2d_46 (Conv2D)              (None, 99, 1, 36)    21636       reshape_16[0][0]                 \n",
      "__________________________________________________________________________________________________\n",
      "conv2d_47 (Conv2D)              (None, 98, 1, 36)    32436       reshape_16[0][0]                 \n",
      "__________________________________________________________________________________________________\n",
      "conv2d_48 (Conv2D)              (None, 96, 1, 36)    54036       reshape_16[0][0]                 \n",
      "__________________________________________________________________________________________________\n",
      "conv2d_49 (Conv2D)              (None, 100, 1, 36)   10836       reshape_17[0][0]                 \n",
      "__________________________________________________________________________________________________\n",
      "conv2d_50 (Conv2D)              (None, 99, 1, 36)    21636       reshape_17[0][0]                 \n",
      "__________________________________________________________________________________________________\n",
      "conv2d_51 (Conv2D)              (None, 98, 1, 36)    32436       reshape_17[0][0]                 \n",
      "__________________________________________________________________________________________________\n",
      "conv2d_52 (Conv2D)              (None, 96, 1, 36)    54036       reshape_17[0][0]                 \n",
      "__________________________________________________________________________________________________\n",
      "max_pooling2d_41 (MaxPooling2D) (None, 1, 1, 36)     0           conv2d_41[0][0]                  \n",
      "__________________________________________________________________________________________________\n",
      "max_pooling2d_42 (MaxPooling2D) (None, 1, 1, 36)     0           conv2d_42[0][0]                  \n",
      "__________________________________________________________________________________________________\n",
      "max_pooling2d_43 (MaxPooling2D) (None, 1, 1, 36)     0           conv2d_43[0][0]                  \n",
      "__________________________________________________________________________________________________\n",
      "max_pooling2d_44 (MaxPooling2D) (None, 1, 1, 36)     0           conv2d_44[0][0]                  \n",
      "__________________________________________________________________________________________________\n",
      "max_pooling2d_45 (MaxPooling2D) (None, 1, 1, 36)     0           conv2d_45[0][0]                  \n",
      "__________________________________________________________________________________________________\n",
      "max_pooling2d_46 (MaxPooling2D) (None, 1, 1, 36)     0           conv2d_46[0][0]                  \n",
      "__________________________________________________________________________________________________\n",
      "max_pooling2d_47 (MaxPooling2D) (None, 1, 1, 36)     0           conv2d_47[0][0]                  \n",
      "__________________________________________________________________________________________________\n",
      "max_pooling2d_48 (MaxPooling2D) (None, 1, 1, 36)     0           conv2d_48[0][0]                  \n",
      "__________________________________________________________________________________________________\n",
      "max_pooling2d_49 (MaxPooling2D) (None, 1, 1, 36)     0           conv2d_49[0][0]                  \n",
      "__________________________________________________________________________________________________\n",
      "max_pooling2d_50 (MaxPooling2D) (None, 1, 1, 36)     0           conv2d_50[0][0]                  \n",
      "__________________________________________________________________________________________________\n",
      "max_pooling2d_51 (MaxPooling2D) (None, 1, 1, 36)     0           conv2d_51[0][0]                  \n",
      "__________________________________________________________________________________________________\n",
      "max_pooling2d_52 (MaxPooling2D) (None, 1, 1, 36)     0           conv2d_52[0][0]                  \n",
      "__________________________________________________________________________________________________\n",
      "concatenate_19 (Concatenate)    (None, 4, 1, 36)     0           max_pooling2d_41[0][0]           \n",
      "                                                                 max_pooling2d_42[0][0]           \n",
      "                                                                 max_pooling2d_43[0][0]           \n",
      "                                                                 max_pooling2d_44[0][0]           \n",
      "__________________________________________________________________________________________________\n",
      "concatenate_20 (Concatenate)    (None, 4, 1, 36)     0           max_pooling2d_45[0][0]           \n",
      "                                                                 max_pooling2d_46[0][0]           \n",
      "                                                                 max_pooling2d_47[0][0]           \n",
      "                                                                 max_pooling2d_48[0][0]           \n",
      "__________________________________________________________________________________________________\n",
      "concatenate_21 (Concatenate)    (None, 4, 1, 36)     0           max_pooling2d_49[0][0]           \n",
      "                                                                 max_pooling2d_50[0][0]           \n",
      "                                                                 max_pooling2d_51[0][0]           \n",
      "                                                                 max_pooling2d_52[0][0]           \n",
      "__________________________________________________________________________________________________\n",
      "flatten_11 (Flatten)            (None, 144)          0           concatenate_19[0][0]             \n",
      "__________________________________________________________________________________________________\n",
      "flatten_12 (Flatten)            (None, 144)          0           concatenate_20[0][0]             \n",
      "__________________________________________________________________________________________________\n",
      "flatten_13 (Flatten)            (None, 144)          0           concatenate_21[0][0]             \n",
      "__________________________________________________________________________________________________\n",
      "dropout_25 (Dropout)            (None, 144)          0           flatten_11[0][0]                 \n",
      "__________________________________________________________________________________________________\n",
      "dropout_26 (Dropout)            (None, 144)          0           flatten_12[0][0]                 \n",
      "__________________________________________________________________________________________________\n",
      "dropout_27 (Dropout)            (None, 144)          0           flatten_13[0][0]                 \n",
      "__________________________________________________________________________________________________\n",
      "concatenate_22 (Concatenate)    (None, 432)          0           dropout_25[0][0]                 \n",
      "                                                                 dropout_26[0][0]                 \n",
      "                                                                 dropout_27[0][0]                 \n",
      "__________________________________________________________________________________________________\n",
      "dense_22 (Dense)                (None, 32)           13856       concatenate_22[0][0]             \n",
      "__________________________________________________________________________________________________\n",
      "dropout_28 (Dropout)            (None, 32)           0           dense_22[0][0]                   \n",
      "__________________________________________________________________________________________________\n",
      "dense_23 (Dense)                (None, 16)           528         dropout_28[0][0]                 \n",
      "__________________________________________________________________________________________________\n",
      "dropout_29 (Dropout)            (None, 16)           0           dense_23[0][0]                   \n",
      "__________________________________________________________________________________________________\n",
      "dense_24 (Dense)                (None, 1)            17          dropout_29[0][0]                 \n",
      "==================================================================================================\n",
      "Total params: 45,371,233\n",
      "Trainable params: 45,371,233\n",
      "Non-trainable params: 0\n",
      "__________________________________________________________________________________________________\n",
      "None\n"
     ]
    },
    {
     "name": "stdout",
     "output_type": "stream",
     "text": [
      "Train on 1175509 samples, validate on 130613 samples\n",
      "Epoch 1/2\n",
      "1175509/1175509 [==============================] - 608s 517us/step - loss: 0.1157 - acc: 0.9547 - val_loss: 0.1029 - val_acc: 0.9584\n",
      "Epoch 2/2\n",
      "1175509/1175509 [==============================] - 590s 502us/step - loss: 0.0948 - acc: 0.9621 - val_loss: 0.1037 - val_acc: 0.9593\n",
      "130613/130613 [==============================] - 21s 162us/step\n",
      "CPU times: user 12min 8s, sys: 3min 14s, total: 15min 23s\n",
      "Wall time: 21min 27s\n"
     ]
    },
    {
     "data": {
      "image/png": "[encoded data removed]",
      "text/plain": [
       "<matplotlib.figure.Figure at 0x7fabc1e98780>"
      ]
     },
     "metadata": {},
     "output_type": "display_data"
    }
   ],
   "source": [
    "%%time\n",
    "\n",
    "filter_sizes = [1, 2, 3, 5]\n",
    "num_filt = 36\n",
    "\n",
    "inp = Input(shape=(maxlen,))\n",
    "\n",
    "inp_glove = Embedding(max_features, embed_size, weights=[embedding_matrices[\"glove\"]])(inp)\n",
    "#inp_glove = Bidirectional(CuDNNLSTM(128, return_sequences=True))(inp_glove)\n",
    "#inp_glove = Attention(maxlen)(inp_glove)\n",
    "\n",
    "\n",
    "inp_wiki = Embedding(max_features, embed_size, weights=[embedding_matrices[\"wiki\"]])(inp)\n",
    "#inp_wiki = Bidirectional(CuDNNGRU(128, return_sequences=True))(inp_wiki)\n",
    "#inp_wiki = Attention(maxlen)(inp_wiki)\n",
    "\n",
    "\n",
    "inp_paragram = Embedding(max_features, embed_size, weights=[embedding_matrices[\"paragram\"]])(inp)\n",
    "#inp_paragram = Bidirectional(CuDNNGRU(128, return_sequences=True))(inp_paragram)\n",
    "#inp_paragram = Attention(maxlen)(inp_paragram)\n",
    "\n",
    "embeddings = [inp_glove, \n",
    "              inp_wiki,\n",
    "              inp_paragram]\n",
    "\n",
    "embed_maxpools = []\n",
    "for embed in embeddings:\n",
    "    embed = SpatialDropout1D(0.1)(embed)\n",
    "    embed = Reshape((maxlen, embed_size, 1))(embed)\n",
    "    \n",
    "    maxpools = []\n",
    "    for i in range(len(filter_sizes)):\n",
    "        conv = Conv2D(num_filt, kernel_size=(filter_sizes[i], embed_size),\n",
    "                  kernel_initializer=\"he_normal\", activation=\"elu\")(embed)\n",
    "        maxpools.append(MaxPool2D(pool_size=(maxlen - filter_sizes[i] + 1, 1))(conv))\n",
    "    merged = Concatenate(axis=1)(maxpools)\n",
    "    merged = Flatten()(merged)\n",
    "    merged = Dropout(0.2)(merged)\n",
    "    \n",
    "    embed_maxpools.append(merged)\n",
    "\n",
    "embed_maxpools = Concatenate(axis=1)(embed_maxpools)\n",
    "#\"\"\"   \n",
    "x = Dense(32, activation=\"relu\")(embed_maxpools)\n",
    "x = Dropout(0.1)(x)\n",
    "x = Dense(16, activation=\"relu\")(x)\n",
    "x = Dropout(0.1)(x)\n",
    "x = Dense(1, activation=\"sigmoid\")(x)\n",
    "model = Model(inputs=inp, outputs=x)\n",
    "model.compile(loss='binary_crossentropy', optimizer='adam', metrics=['accuracy'])\n",
    "print(model.summary())\n",
    "\n",
    "#train\n",
    "model.fit(train_X, train_y, batch_size=256, epochs=2, validation_data=(val_X, val_y))\n",
    "\n",
    "#model performance \n",
    "pred_val_y = model.predict([val_X], batch_size=1024, verbose=1)\n",
    "f1_scores = []\n",
    "threshs = np.arange(0.1, 0.9, 0.01)\n",
    "for thresh in threshs:\n",
    "    thresh = np.round(thresh, 2)\n",
    "    f1_score = metrics.f1_score(val_y, (pred_val_y>thresh).astype(int))\n",
    "    f1_scores.append(f1_score)\n",
    "    \n",
    "plt.plot(threshs, f1_scores)\n",
    "max_fscore = np.round(f1_scores[np.argmax(f1_scores)], 3)\n",
    "max_thresh = np.round(threshs[np.argmax(f1_scores)], 3)\n",
    "plt.title(\"F scores at different values of thresholds | Max: {} | Thresh {}\".format(max_fscore, max_thresh))\n",
    "#\"\"\""
   ]
  },
  {
   "cell_type": "code",
   "execution_count": null,
   "metadata": {
    "collapsed": true
   },
   "outputs": [],
   "source": []
  }
 ],
 "metadata": {
  "kernelspec": {
   "display_name": "Python [conda env:nlp_env]",
   "language": "python",
   "name": "conda-env-nlp_env-py"
  },
  "language_info": {
   "codemirror_mode": {
    "name": "ipython",
    "version": 3
   },
   "file_extension": ".py",
   "mimetype": "text/x-python",
   "name": "python",
   "nbconvert_exporter": "python",
   "pygments_lexer": "ipython3",
   "version": "3.5.4"
  }
 },
 "nbformat": 4,
 "nbformat_minor": 2
}

{
 "cells": [
  {
   "cell_type": "code",
   "execution_count": 1,
   "metadata": {},
   "outputs": [
    {
     "name": "stderr",
     "output_type": "stream",
     "text": [
      "Using TensorFlow backend.\n"
     ]
    }
   ],
   "source": [
    "#______Standard Packages___________#\n",
    "import pandas as pd\n",
    "import numpy as np \n",
    "import matplotlib.pyplot as plt \n",
    "import seaborn as sns\n",
    "import os\n",
    "import pickle\n",
    "%matplotlib inline\n",
    "import multiprocessing as mp\n",
    "from scipy.sparse import csr_matrix\n",
    "\n",
    "#_________NLP specfic Packages_____________#\n",
    "\n",
    "import requests #lets us leverage HTML code\n",
    "from bs4 import BeautifulSoup #Web Scraper\n",
    "import spacy\n",
    "import nltk\n",
    "from nltk.tokenize.toktok import ToktokTokenizer\n",
    "import re\n",
    "import unicodedata\n",
    "from keras.preprocessing.text import Tokenizer\n",
    "\n",
    "\n",
    "from sklearn.ensemble import RandomForestClassifier\n",
    "from sklearn.metrics import f1_score\n",
    "from keras.preprocessing.sequence import pad_sequences"
   ]
  },
  {
   "cell_type": "code",
   "execution_count": 2,
   "metadata": {},
   "outputs": [],
   "source": [
    "#train data\n",
    "base_path = \"/home/nbatanay/.kaggle/quora-insincere-questions-classification/\"\n",
    "train_csv = pd.read_csv(base_path+\"train.csv\")\n",
    "\n",
    "#test data\n",
    "test_csv = pd.read_csv(base_path+\"test.csv\")"
   ]
  },
  {
   "cell_type": "code",
   "execution_count": 3,
   "metadata": {},
   "outputs": [
    {
     "name": "stdout",
     "output_type": "stream",
     "text": [
      "(1306122, 3)\n"
     ]
    },
    {
     "data": {
      "text/html": [
       "<div>\n",
       "<style scoped>\n",
       "    .dataframe tbody tr th:only-of-type {\n",
       "        vertical-align: middle;\n",
       "    }\n",
       "\n",
       "    .dataframe tbody tr th {\n",
       "        vertical-align: top;\n",
       "    }\n",
       "\n",
       "    .dataframe thead th {\n",
       "        text-align: right;\n",
       "    }\n",
       "</style>\n",
       "<table border=\"1\" class=\"dataframe\">\n",
       "  <thead>\n",
       "    <tr style=\"text-align: right;\">\n",
       "      <th></th>\n",
       "      <th>qid</th>\n",
       "      <th>question_text</th>\n",
       "      <th>target</th>\n",
       "    </tr>\n",
       "  </thead>\n",
       "  <tbody>\n",
       "    <tr>\n",
       "      <th>0</th>\n",
       "      <td>00002165364db923c7e6</td>\n",
       "      <td>How did Quebec nationalists see their province...</td>\n",
       "      <td>0</td>\n",
       "    </tr>\n",
       "    <tr>\n",
       "      <th>1</th>\n",
       "      <td>000032939017120e6e44</td>\n",
       "      <td>Do you have an adopted dog, how would you enco...</td>\n",
       "      <td>0</td>\n",
       "    </tr>\n",
       "    <tr>\n",
       "      <th>2</th>\n",
       "      <td>0000412ca6e4628ce2cf</td>\n",
       "      <td>Why does velocity affect time? Does velocity a...</td>\n",
       "      <td>0</td>\n",
       "    </tr>\n",
       "    <tr>\n",
       "      <th>3</th>\n",
       "      <td>000042bf85aa498cd78e</td>\n",
       "      <td>How did Otto von Guericke used the Magdeburg h...</td>\n",
       "      <td>0</td>\n",
       "    </tr>\n",
       "    <tr>\n",
       "      <th>4</th>\n",
       "      <td>0000455dfa3e01eae3af</td>\n",
       "      <td>Can I convert montra helicon D to a mountain b...</td>\n",
       "      <td>0</td>\n",
       "    </tr>\n",
       "  </tbody>\n",
       "</table>\n",
       "</div>"
      ],
      "text/plain": [
       "                    qid                                      question_text  \\\n",
       "0  00002165364db923c7e6  How did Quebec nationalists see their province...   \n",
       "1  000032939017120e6e44  Do you have an adopted dog, how would you enco...   \n",
       "2  0000412ca6e4628ce2cf  Why does velocity affect time? Does velocity a...   \n",
       "3  000042bf85aa498cd78e  How did Otto von Guericke used the Magdeburg h...   \n",
       "4  0000455dfa3e01eae3af  Can I convert montra helicon D to a mountain b...   \n",
       "\n",
       "   target  \n",
       "0       0  \n",
       "1       0  \n",
       "2       0  \n",
       "3       0  \n",
       "4       0  "
      ]
     },
     "execution_count": 3,
     "metadata": {},
     "output_type": "execute_result"
    }
   ],
   "source": [
    "print(train_csv.shape)\n",
    "train_csv.head()"
   ]
  },
  {
   "cell_type": "code",
   "execution_count": 4,
   "metadata": {},
   "outputs": [
    {
     "name": "stdout",
     "output_type": "stream",
     "text": [
      "(56370, 2)\n"
     ]
    },
    {
     "data": {
      "text/html": [
       "<div>\n",
       "<style scoped>\n",
       "    .dataframe tbody tr th:only-of-type {\n",
       "        vertical-align: middle;\n",
       "    }\n",
       "\n",
       "    .dataframe tbody tr th {\n",
       "        vertical-align: top;\n",
       "    }\n",
       "\n",
       "    .dataframe thead th {\n",
       "        text-align: right;\n",
       "    }\n",
       "</style>\n",
       "<table border=\"1\" class=\"dataframe\">\n",
       "  <thead>\n",
       "    <tr style=\"text-align: right;\">\n",
       "      <th></th>\n",
       "      <th>qid</th>\n",
       "      <th>question_text</th>\n",
       "    </tr>\n",
       "  </thead>\n",
       "  <tbody>\n",
       "    <tr>\n",
       "      <th>0</th>\n",
       "      <td>00014894849d00ba98a9</td>\n",
       "      <td>My voice range is A2-C5. My chest voice goes u...</td>\n",
       "    </tr>\n",
       "    <tr>\n",
       "      <th>1</th>\n",
       "      <td>000156468431f09b3cae</td>\n",
       "      <td>How much does a tutor earn in Bangalore?</td>\n",
       "    </tr>\n",
       "    <tr>\n",
       "      <th>2</th>\n",
       "      <td>000227734433360e1aae</td>\n",
       "      <td>What are the best made pocket knives under $20...</td>\n",
       "    </tr>\n",
       "    <tr>\n",
       "      <th>3</th>\n",
       "      <td>0005e06fbe3045bd2a92</td>\n",
       "      <td>Why would they add a hypothetical scenario tha...</td>\n",
       "    </tr>\n",
       "    <tr>\n",
       "      <th>4</th>\n",
       "      <td>00068a0f7f41f50fc399</td>\n",
       "      <td>What is the dresscode for Techmahindra freshers?</td>\n",
       "    </tr>\n",
       "  </tbody>\n",
       "</table>\n",
       "</div>"
      ],
      "text/plain": [
       "                    qid                                      question_text\n",
       "0  00014894849d00ba98a9  My voice range is A2-C5. My chest voice goes u...\n",
       "1  000156468431f09b3cae           How much does a tutor earn in Bangalore?\n",
       "2  000227734433360e1aae  What are the best made pocket knives under $20...\n",
       "3  0005e06fbe3045bd2a92  Why would they add a hypothetical scenario tha...\n",
       "4  00068a0f7f41f50fc399   What is the dresscode for Techmahindra freshers?"
      ]
     },
     "execution_count": 4,
     "metadata": {},
     "output_type": "execute_result"
    }
   ],
   "source": [
    "print(test_csv.shape)\n",
    "test_csv.head()"
   ]
  },
  {
   "cell_type": "code",
   "execution_count": 5,
   "metadata": {},
   "outputs": [
    {
     "data": {
      "text/html": [
       "<div>\n",
       "<style scoped>\n",
       "    .dataframe tbody tr th:only-of-type {\n",
       "        vertical-align: middle;\n",
       "    }\n",
       "\n",
       "    .dataframe tbody tr th {\n",
       "        vertical-align: top;\n",
       "    }\n",
       "\n",
       "    .dataframe thead th {\n",
       "        text-align: right;\n",
       "    }\n",
       "</style>\n",
       "<table border=\"1\" class=\"dataframe\">\n",
       "  <thead>\n",
       "    <tr style=\"text-align: right;\">\n",
       "      <th></th>\n",
       "      <th>counts</th>\n",
       "      <th>percentage</th>\n",
       "    </tr>\n",
       "  </thead>\n",
       "  <tbody>\n",
       "    <tr>\n",
       "      <th>0</th>\n",
       "      <td>1225312</td>\n",
       "      <td>0.93813</td>\n",
       "    </tr>\n",
       "    <tr>\n",
       "      <th>1</th>\n",
       "      <td>80810</td>\n",
       "      <td>0.06187</td>\n",
       "    </tr>\n",
       "  </tbody>\n",
       "</table>\n",
       "</div>"
      ],
      "text/plain": [
       "    counts  percentage\n",
       "0  1225312     0.93813\n",
       "1    80810     0.06187"
      ]
     },
     "execution_count": 5,
     "metadata": {},
     "output_type": "execute_result"
    }
   ],
   "source": [
    "#distribution of data\n",
    "pd.concat([  \n",
    "    train_csv[\"target\"].value_counts().rename(\"counts\"),\n",
    "    train_csv[\"target\"].value_counts(normalize=True).rename(\"percentage\")], axis=1)"
   ]
  },
  {
   "cell_type": "code",
   "execution_count": 6,
   "metadata": {},
   "outputs": [
    {
     "name": "stdout",
     "output_type": "stream",
     "text": [
      "Will being a cis-gendered, conservative, religious, white-male be illegal in the future?\n",
      "Why don't conservatives trust the Democrat party? I know Hillary Clinton is bad, but so is Donald Trump.\n",
      "Have we lost our sense of balance when it comes to Muslim rights?\n",
      "Is violent homophobia actually homosexual in its thinking? After all, aren't people who engage in violence against homosexuals just advertising that they personally care how other men rub their penises in the privacy of their own homes?\n",
      "Should I throw waste on the road in India as everybody does?\n",
      "Is it possible to get Anna pics with cum on mouth to masturbate?\n",
      "Why do Trump's lawyers tell us that Trump can't be prosecuted for obstruction of justice when that clearly implies that he, in fact, is guilty of obstruction of justice?\n",
      "Why does the queen in Britain always wear such shitty clothing?\n",
      "Why don't Vietnamese people realize that their country is just China's colony?\n",
      "Why do feminists condemn men for slut shaming when it is done predominantly by women?\n"
     ]
    }
   ],
   "source": [
    "#examples of insincere questions\n",
    "insincere = train_csv[train_csv[\"target\"]==1]\n",
    "for q in insincere.iloc[np.random.randint(0, len(insincere), size=10)][\"question_text\"]:\n",
    "    print(q)"
   ]
  },
  {
   "cell_type": "code",
   "execution_count": 7,
   "metadata": {},
   "outputs": [
    {
     "name": "stdout",
     "output_type": "stream",
     "text": [
      "What do you mean by intensity?\n",
      "Woh can cancel my IRCTC id?\n",
      "Which is better way to ask? \" Do you have a pet? \" or \" Do you have any pets?\"\n",
      "Will there be bottleneck if I use a FX-6300 with a Geforce GTX 1060?\n",
      "Where are my old Google pictures?\n",
      "What could be a good conversation with a beautiful girl sitting in front of you on a train journey?\n",
      "How is Dynamic 365 team at Microsoft IDC Hyderabad?\n",
      "On which ground I stop the minor child to claim their parent property in a suit?\n",
      "Why are the curtains and bedsheets at my home releasing electric shocks and sparks?\n",
      "What could be the best possible way to kill boredom when I have no idea what to do?\n"
     ]
    }
   ],
   "source": [
    "#example of neutral questions\n",
    "sincere = train_csv[train_csv[\"target\"]==0]\n",
    "for q in sincere.iloc[np.random.randint(0, len(insincere), size=10)][\"question_text\"]:\n",
    "    print(q)"
   ]
  },
  {
   "cell_type": "code",
   "execution_count": 8,
   "metadata": {},
   "outputs": [
    {
     "data": {
      "text/plain": [
       "count    1.306122e+06\n",
       "mean     1.280350e+01\n",
       "std      7.052138e+00\n",
       "min      1.000000e+00\n",
       "25%      8.000000e+00\n",
       "50%      1.100000e+01\n",
       "75%      1.500000e+01\n",
       "max      1.220000e+02\n",
       "dtype: float64"
      ]
     },
     "execution_count": 8,
     "metadata": {},
     "output_type": "execute_result"
    },
    {
     "data": {
      "image/png": "[encoded data removed]",
      "text/plain": [
       "<matplotlib.figure.Figure at 0x7ff7e884fc50>"
      ]
     },
     "metadata": {},
     "output_type": "display_data"
    }
   ],
   "source": [
    "#how long a question is, on average?\n",
    "sentence_length = \\\n",
    "train_csv[\"question_text\"].apply(lambda x: x.split(\" \"))\\\n",
    "                          .apply(lambda x: len(x))\\\n",
    "                          .values\n",
    "\n",
    "_ = plt.hist(sentence_length, bins=20)\n",
    "plt.xlabel(\"length of question(Number of words)\")\n",
    "plt.ylabel(\"Counts\")\n",
    "\n",
    "pd.Series(sentence_length).describe()"
   ]
  },
  {
   "cell_type": "code",
   "execution_count": 9,
   "metadata": {},
   "outputs": [],
   "source": [
    "#load the contractions \n",
    "contractions_map = pd.read_pickle(\"../nlp_training/CONTRACTION_MAP.pickle\")\n",
    "\n",
    "#load the stopwords\n",
    "stopword_list = nltk.corpus.stopwords.words('english')\n",
    "stopword_list.remove('no')\n",
    "stopword_list.remove('not')\n",
    "\n",
    "#load the spacy model\n",
    "spacy_mod = spacy.load('en_core_web_md', parse=True, tag=True, entity=True)\n",
    "\n",
    "#tokenizer \n",
    "tokenizer = ToktokTokenizer()\n",
    "\n",
    "def remove_accented_chars(text):\n",
    "    \"\"\"\n",
    "    Removes the accented characters and replaces them \n",
    "    with ascii values counterparts.\n",
    "    INPUT:\n",
    "        text: <str>\n",
    "    \"\"\"\n",
    "    text = unicodedata.normalize('NFKD', text)\\\n",
    "                      .encode('ascii', 'ignore')\\\n",
    "                      .decode('utf-8', 'ignore')\n",
    "    return text\n",
    "\n",
    "def strip_html_tags(text):\n",
    "    \"\"\"\n",
    "    Removes the html tags.\n",
    "    INPUT:\n",
    "        text: <str>\n",
    "    \"\"\"\n",
    "    soup = BeautifulSoup(text, \"html.parser\")\n",
    "    stripped_text = soup.get_text()\n",
    "    return stripped_text\n",
    "\n",
    "def expand_contractions(text, contraction_mapping=contractions_map):\n",
    "    \"\"\"\n",
    "    Expands common phrase contractions.\n",
    "    INPUT:\n",
    "        text: <str> text to look for contractions and expand them\n",
    "        contractions_map: <dict> containing the keys as the contractions \n",
    "                                and values the expanded versions \n",
    "    \"\"\"\n",
    "    \n",
    "    contractions_pattern = re.compile('({})'.format('|'.join(contraction_mapping.keys())), \n",
    "                                      flags=re.IGNORECASE|re.DOTALL)\n",
    "    def expand_match(contraction):\n",
    "        match = contraction.group(0)\n",
    "        first_char = match[0]\n",
    "        expanded_contraction = contraction_mapping.get(match)\\\n",
    "                                if contraction_mapping.get(match)\\\n",
    "                                else contraction_mapping.get(match.lower())                       \n",
    "        expanded_contraction = first_char+expanded_contraction[1:]\n",
    "        return expanded_contraction\n",
    "        \n",
    "    expanded_text = contractions_pattern.sub(expand_match, text)\n",
    "    expanded_text = re.sub(\"'\", \"\", expanded_text)\n",
    "    return expanded_text\n",
    "\n",
    "def remove_special_characters(text, remove_digits=False):\n",
    "    \"\"\"\n",
    "    Removes the special characters from the text\n",
    "    INPUT:\n",
    "        text: <str> text to remove special characters\n",
    "        remove_digit: <bool> option to remove the number digits \n",
    "                            in the text\n",
    "    \"\"\"\n",
    "    pattern = r'[^a-zA-z0-9\\s]' if not remove_digits else r'[^a-zA-z\\s]'\n",
    "    text = re.sub(pattern, '', text)\n",
    "    return text\n",
    "\n",
    "def remove_stopwords(text, stopword_list, tokenizer, is_lower_case=False):\n",
    "    \"\"\"\n",
    "    Removes the stopwords from the text \n",
    "    given a list of stopwords.\n",
    "    INPUT:\n",
    "        text: <str> text to remove the stopwords\n",
    "        stopword_list: <list> containing the stopwords\n",
    "        tokenizer: <python object> with tokenize() method that transforms\n",
    "                        text to a list/iterable of tokens/words.\n",
    "    \"\"\"\n",
    "    tokens = tokenizer.tokenize(text)\n",
    "    tokens = [token.strip() for token in tokens]\n",
    "    if is_lower_case:\n",
    "        filtered_tokens = [token for token in tokens if token not in stopword_list]\n",
    "    else:\n",
    "        filtered_tokens = [token for token in tokens if token.lower() not in stopword_list]\n",
    "    filtered_text = ' '.join(filtered_tokens)    \n",
    "    return filtered_text\n",
    "\n",
    "\n",
    "def lemmatize_text(text, nlp_mod=spacy_mod):\n",
    "    \"\"\"\n",
    "    Transform the words/tokens to its root word.\n",
    "    INPUT:\n",
    "        text: <str> text to lemmatize\n",
    "        spacy_model: <spacy object>\n",
    "        \n",
    "    \"\"\"\n",
    "    text = nlp_mod(text)\n",
    "    text = ' '.join([word.lemma_ if (word.ent_iob_ == \"O\" and word.lemma_ != \"-PRON-\")\n",
    "                     else word.text for word in text])\n",
    "    return text\n",
    "\n",
    "\n",
    "def text_preproc(text, html_stripping=True, contraction_expansion=True,\n",
    "                 accented_char_removal=True, text_lower_case=False, \n",
    "                 text_lemmatization=True, special_char_removal=True, \n",
    "                 stopword_removal=False, remove_digits=True,\n",
    "                 stopword_list=stopword_list, tokenizer=tokenizer):\n",
    "    \n",
    "    \"\"\"\n",
    "    Preprocess the text data.\n",
    "    \"\"\"\n",
    "    \n",
    "    # strip HTML\n",
    "    if html_stripping:\n",
    "        text = strip_html_tags(text)\n",
    "    # remove accented characters\n",
    "    if accented_char_removal:\n",
    "        text = remove_accented_chars(text)\n",
    "    # expand contractions    \n",
    "    if contraction_expansion:\n",
    "        text = expand_contractions(text)\n",
    "    # lowercase the text    \n",
    "    if text_lower_case:\n",
    "        text = text.lower() #Standard text lower method\n",
    "    # remove extra newlines\n",
    "    text = re.sub(r'[\\r|\\n|\\r\\n]+', ' ', text)\n",
    "    # lemmatize text\n",
    "    if text_lemmatization:\n",
    "        text = lemmatize_text(text)\n",
    "    # remove special characters and\\or digits    \n",
    "    if special_char_removal:\n",
    "        # insert spaces between special characters to isolate them    \n",
    "        special_char_pattern = re.compile(r'([{.(-)!}])')\n",
    "        text = special_char_pattern.sub(\" \\\\1 \", text)\n",
    "        text = remove_special_characters(text, remove_digits=remove_digits)  \n",
    "    # remove extra whitespace\n",
    "    text = re.sub(' +', ' ', text)\n",
    "    # remove stopwords\n",
    "    if stopword_removal:\n",
    "        text = remove_stopwords(text, stopword_list, tokenizer, is_lower_case=text_lower_case)\n",
    "    \n",
    "    return tokenizer.tokenize(text)"
   ]
  },
  {
   "cell_type": "code",
   "execution_count": 10,
   "metadata": {},
   "outputs": [
    {
     "data": {
      "text/plain": [
       "(['when',\n",
       "  'will',\n",
       "  'the',\n",
       "  'US',\n",
       "  'stop',\n",
       "  'support',\n",
       "  'Kosovo',\n",
       "  'terrorist',\n",
       "  'Albanians',\n",
       "  'who',\n",
       "  'be',\n",
       "  'actually',\n",
       "  'the',\n",
       "  'same',\n",
       "  'as',\n",
       "  'ISIS'],\n",
       " 'When will the US stop supporting Kosovo terrorists (Albanians), who are actually the same as ISIS?',\n",
       " 1)"
      ]
     },
     "execution_count": 10,
     "metadata": {},
     "output_type": "execute_result"
    }
   ],
   "source": [
    "#show an example of preprocessing\n",
    "ind = 617\n",
    "(text_preproc(train_csv[\"question_text\"].iloc[ind], text_lower_case=False), \n",
    " train_csv[\"question_text\"].iloc[ind],\n",
    " train_csv[\"target\"].iloc[ind])"
   ]
  },
  {
   "cell_type": "code",
   "execution_count": 11,
   "metadata": {},
   "outputs": [
    {
     "name": "stdout",
     "output_type": "stream",
     "text": [
      "CPU times: user 15.6 s, sys: 6.49 s, total: 22.1 s\n",
      "Wall time: 19min 17s\n"
     ]
    }
   ],
   "source": [
    "%%time\n",
    "pool = mp.Pool(processes=mp.cpu_count()-3)\n",
    "train_csv[\"preproc\"] = pd.Series(pool.map(text_preproc, train_csv[\"question_text\"].values))\n",
    "pool.close()\n",
    "\n",
    "train_csv.head()"
   ]
  },
  {
   "cell_type": "code",
   "execution_count": 12,
   "metadata": {},
   "outputs": [
    {
     "data": {
      "text/html": [
       "<div>\n",
       "<style scoped>\n",
       "    .dataframe tbody tr th:only-of-type {\n",
       "        vertical-align: middle;\n",
       "    }\n",
       "\n",
       "    .dataframe tbody tr th {\n",
       "        vertical-align: top;\n",
       "    }\n",
       "\n",
       "    .dataframe thead th {\n",
       "        text-align: right;\n",
       "    }\n",
       "</style>\n",
       "<table border=\"1\" class=\"dataframe\">\n",
       "  <thead>\n",
       "    <tr style=\"text-align: right;\">\n",
       "      <th></th>\n",
       "      <th>qid</th>\n",
       "      <th>question_text</th>\n",
       "      <th>target</th>\n",
       "      <th>preproc</th>\n",
       "    </tr>\n",
       "  </thead>\n",
       "  <tbody>\n",
       "    <tr>\n",
       "      <th>0</th>\n",
       "      <td>00002165364db923c7e6</td>\n",
       "      <td>How did Quebec nationalists see their province...</td>\n",
       "      <td>0</td>\n",
       "      <td>[how, do, Quebec, nationalist, see, their, pro...</td>\n",
       "    </tr>\n",
       "    <tr>\n",
       "      <th>1</th>\n",
       "      <td>000032939017120e6e44</td>\n",
       "      <td>Do you have an adopted dog, how would you enco...</td>\n",
       "      <td>0</td>\n",
       "      <td>[do, you, have, an, adopt, dog, how, would, yo...</td>\n",
       "    </tr>\n",
       "    <tr>\n",
       "      <th>2</th>\n",
       "      <td>0000412ca6e4628ce2cf</td>\n",
       "      <td>Why does velocity affect time? Does velocity a...</td>\n",
       "      <td>0</td>\n",
       "      <td>[why, do, velocity, affect, time, do, velocity...</td>\n",
       "    </tr>\n",
       "    <tr>\n",
       "      <th>3</th>\n",
       "      <td>000042bf85aa498cd78e</td>\n",
       "      <td>How did Otto von Guericke used the Magdeburg h...</td>\n",
       "      <td>0</td>\n",
       "      <td>[how, do, Otto, von, Guericke, use, the, Magde...</td>\n",
       "    </tr>\n",
       "    <tr>\n",
       "      <th>4</th>\n",
       "      <td>0000455dfa3e01eae3af</td>\n",
       "      <td>Can I convert montra helicon D to a mountain b...</td>\n",
       "      <td>0</td>\n",
       "      <td>[can, I, convert, montra, helicon, d, to, a, m...</td>\n",
       "    </tr>\n",
       "  </tbody>\n",
       "</table>\n",
       "</div>"
      ],
      "text/plain": [
       "                    qid                                      question_text  \\\n",
       "0  00002165364db923c7e6  How did Quebec nationalists see their province...   \n",
       "1  000032939017120e6e44  Do you have an adopted dog, how would you enco...   \n",
       "2  0000412ca6e4628ce2cf  Why does velocity affect time? Does velocity a...   \n",
       "3  000042bf85aa498cd78e  How did Otto von Guericke used the Magdeburg h...   \n",
       "4  0000455dfa3e01eae3af  Can I convert montra helicon D to a mountain b...   \n",
       "\n",
       "   target                                            preproc  \n",
       "0       0  [how, do, Quebec, nationalist, see, their, pro...  \n",
       "1       0  [do, you, have, an, adopt, dog, how, would, yo...  \n",
       "2       0  [why, do, velocity, affect, time, do, velocity...  \n",
       "3       0  [how, do, Otto, von, Guericke, use, the, Magde...  \n",
       "4       0  [can, I, convert, montra, helicon, d, to, a, m...  "
      ]
     },
     "execution_count": 12,
     "metadata": {},
     "output_type": "execute_result"
    }
   ],
   "source": [
    "train_csv.head()"
   ]
  },
  {
   "cell_type": "code",
   "execution_count": 13,
   "metadata": {},
   "outputs": [],
   "source": [
    "%%time\n",
    "#let's assign numeric codes per word \n",
    "num_words = 50000 #let's consider only the top 50000 words \n",
    "keras_tokenizer = Tokenizer(num_words=num_words)\n",
    "\n",
    "keras_tokenizer.fit_on_texts(train_csv[\"preproc\"].values)\n",
    "train_csv[\"num_codes\"] = keras_tokenizer.texts_to_sequences(train_csv[\"preproc\"].values)"
   ]
  },
  {
   "cell_type": "code",
   "execution_count": 14,
   "metadata": {},
   "outputs": [
    {
     "data": {
      "text/html": [
       "<div>\n",
       "<style scoped>\n",
       "    .dataframe tbody tr th:only-of-type {\n",
       "        vertical-align: middle;\n",
       "    }\n",
       "\n",
       "    .dataframe tbody tr th {\n",
       "        vertical-align: top;\n",
       "    }\n",
       "\n",
       "    .dataframe thead th {\n",
       "        text-align: right;\n",
       "    }\n",
       "</style>\n",
       "<table border=\"1\" class=\"dataframe\">\n",
       "  <thead>\n",
       "    <tr style=\"text-align: right;\">\n",
       "      <th></th>\n",
       "      <th>qid</th>\n",
       "      <th>question_text</th>\n",
       "      <th>target</th>\n",
       "      <th>preproc</th>\n",
       "      <th>num_codes</th>\n",
       "    </tr>\n",
       "  </thead>\n",
       "  <tbody>\n",
       "    <tr>\n",
       "      <th>0</th>\n",
       "      <td>00002165364db923c7e6</td>\n",
       "      <td>How did Quebec nationalists see their province...</td>\n",
       "      <td>0</td>\n",
       "      <td>[how, do, Quebec, nationalist, see, their, pro...</td>\n",
       "      <td>[10, 4, 5352, 4049, 109, 52, 4131, 34, 5, 755,...</td>\n",
       "    </tr>\n",
       "    <tr>\n",
       "      <th>1</th>\n",
       "      <td>000032939017120e6e44</td>\n",
       "      <td>Do you have an adopted dog, how would you enco...</td>\n",
       "      <td>0</td>\n",
       "      <td>[do, you, have, an, adopt, dog, how, would, yo...</td>\n",
       "      <td>[4, 13, 16, 29, 1625, 305, 10, 32, 13, 2333, 3...</td>\n",
       "    </tr>\n",
       "    <tr>\n",
       "      <th>2</th>\n",
       "      <td>0000412ca6e4628ce2cf</td>\n",
       "      <td>Why does velocity affect time? Does velocity a...</td>\n",
       "      <td>0</td>\n",
       "      <td>[why, do, velocity, affect, time, do, velocity...</td>\n",
       "      <td>[15, 4, 1835, 267, 61, 4, 1835, 267, 445, 4570]</td>\n",
       "    </tr>\n",
       "    <tr>\n",
       "      <th>3</th>\n",
       "      <td>000042bf85aa498cd78e</td>\n",
       "      <td>How did Otto von Guericke used the Magdeburg h...</td>\n",
       "      <td>0</td>\n",
       "      <td>[how, do, Otto, von, Guericke, use, the, Magde...</td>\n",
       "      <td>[10, 4, 10270, 6775, 41348, 43, 2, 31422, 6733]</td>\n",
       "    </tr>\n",
       "    <tr>\n",
       "      <th>4</th>\n",
       "      <td>0000455dfa3e01eae3af</td>\n",
       "      <td>Can I convert montra helicon D to a mountain b...</td>\n",
       "      <td>0</td>\n",
       "      <td>[can, I, convert, montra, helicon, d, to, a, m...</td>\n",
       "      <td>[14, 9, 781, 33887, 568, 6, 5, 2140, 1232, 46,...</td>\n",
       "    </tr>\n",
       "  </tbody>\n",
       "</table>\n",
       "</div>"
      ],
      "text/plain": [
       "                    qid                                      question_text  \\\n",
       "0  00002165364db923c7e6  How did Quebec nationalists see their province...   \n",
       "1  000032939017120e6e44  Do you have an adopted dog, how would you enco...   \n",
       "2  0000412ca6e4628ce2cf  Why does velocity affect time? Does velocity a...   \n",
       "3  000042bf85aa498cd78e  How did Otto von Guericke used the Magdeburg h...   \n",
       "4  0000455dfa3e01eae3af  Can I convert montra helicon D to a mountain b...   \n",
       "\n",
       "   target                                            preproc  \\\n",
       "0       0  [how, do, Quebec, nationalist, see, their, pro...   \n",
       "1       0  [do, you, have, an, adopt, dog, how, would, yo...   \n",
       "2       0  [why, do, velocity, affect, time, do, velocity...   \n",
       "3       0  [how, do, Otto, von, Guericke, use, the, Magde...   \n",
       "4       0  [can, I, convert, montra, helicon, d, to, a, m...   \n",
       "\n",
       "                                           num_codes  \n",
       "0  [10, 4, 5352, 4049, 109, 52, 4131, 34, 5, 755,...  \n",
       "1  [4, 13, 16, 29, 1625, 305, 10, 32, 13, 2333, 3...  \n",
       "2    [15, 4, 1835, 267, 61, 4, 1835, 267, 445, 4570]  \n",
       "3    [10, 4, 10270, 6775, 41348, 43, 2, 31422, 6733]  \n",
       "4  [14, 9, 781, 33887, 568, 6, 5, 2140, 1232, 46,...  "
      ]
     },
     "execution_count": 14,
     "metadata": {},
     "output_type": "execute_result"
    }
   ],
   "source": [
    "train_csv.head()"
   ]
  },
  {
   "cell_type": "code",
   "execution_count": 16,
   "metadata": {},
   "outputs": [],
   "source": [
    "X_train = pad_sequences(train_csv[\"num_codes\"])"
   ]
  },
  {
   "cell_type": "code",
   "execution_count": null,
   "metadata": {},
   "outputs": [],
   "source": []
  }
 ],
 "metadata": {
  "kernelspec": {
   "display_name": "Python [conda env:nlp_env]",
   "language": "python",
   "name": "conda-env-nlp_env-py"
  },
  "language_info": {
   "codemirror_mode": {
    "name": "ipython",
    "version": 3
   },
   "file_extension": ".py",
   "mimetype": "text/x-python",
   "name": "python",
   "nbconvert_exporter": "python",
   "pygments_lexer": "ipython3",
   "version": "3.5.4"
  }
 },
 "nbformat": 4,
 "nbformat_minor": 2
}

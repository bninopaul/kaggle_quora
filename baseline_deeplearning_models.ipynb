{
 "cells": [
  {
   "cell_type": "code",
   "execution_count": 1,
   "metadata": {},
   "outputs": [
    {
     "name": "stderr",
     "output_type": "stream",
     "text": [
      "Using TensorFlow backend.\n"
     ]
    },
    {
     "data": {
      "text/plain": [
       "['/device:CPU:0', '/device:GPU:0']"
      ]
     },
     "execution_count": 1,
     "metadata": {},
     "output_type": "execute_result"
    }
   ],
   "source": [
    "\n",
    "import pandas as pd\n",
    "import numpy as np \n",
    "import matplotlib.pyplot as plt \n",
    "import seaborn as sns\n",
    "import os\n",
    "import pickle\n",
    "%matplotlib inline\n",
    "import multiprocessing as mp\n",
    "from scipy.sparse import csr_matrix\n",
    "\n",
    "import requests #lets us leverage HTML code\n",
    "from bs4 import BeautifulSoup #Web Scraper\n",
    "import spacy\n",
    "import nltk\n",
    "from nltk.tokenize.toktok import ToktokTokenizer\n",
    "import re\n",
    "import unicodedata\n",
    "from keras.preprocessing.text import Tokenizer\n",
    "\n",
    "\n",
    "from sklearn.ensemble import RandomForestClassifier\n",
    "from sklearn.metrics import f1_score\n",
    "from sklearn import metrics\n",
    "from keras.preprocessing.sequence import pad_sequences\n",
    "from sklearn.model_selection import train_test_split\n",
    "\n",
    "\n",
    "from keras import backend as K\n",
    "from keras.preprocessing.text import Tokenizer\n",
    "from keras.preprocessing.sequence import pad_sequences\n",
    "from keras.layers import Dense, Input, LSTM, Embedding, Dropout, Activation, CuDNNGRU, Conv1D, RNN, SimpleRNN\n",
    "from keras.layers import ConvRNN2D, SpatialDropout1D, Reshape, MaxPool2D, Concatenate, Flatten\n",
    "from keras.layers import Bidirectional, GlobalMaxPool1D, Conv2D\n",
    "from keras.models import Model\n",
    "from keras import initializers, regularizers, constraints, optimizers, layers\n",
    "from tensorflow.python.client import device_lib\n",
    "from keras import Sequential\n",
    "from keras.utils import plot_model\n",
    "\n",
    "import os\n",
    "os.environ[\"PATH\"] += os.pathsep + '/home/nbatanay/.conda/envs/nlp_env/bin/'\n",
    "from PIL import Image\n",
    "\n",
    "#GPU configs\n",
    "os.environ['CUDA_VISIBLE_DEVICES'] = \"2\"\n",
    "\n",
    "gpu_options = K.tf.GPUOptions(per_process_gpu_memory_fraction = 1)\n",
    "config = K.tf.ConfigProto(gpu_options = gpu_options, allow_soft_placement = True)\n",
    "K.set_session(K.tf.Session(config = config))\n",
    "\n",
    "[dev.name for dev in device_lib.list_local_devices()]"
   ]
  },
  {
   "cell_type": "code",
   "execution_count": 2,
   "metadata": {},
   "outputs": [
    {
     "name": "stdout",
     "output_type": "stream",
     "text": [
      "Train shape :  (1306122, 3)\n",
      "Test shape :  (56370, 2)\n"
     ]
    }
   ],
   "source": [
    "base_path = \"/home/nbatanay/.kaggle/quora-insincere-questions-classification/\"\n",
    "train_df = pd.read_csv(base_path+\"train.csv\")\n",
    "test_df = pd.read_csv(base_path+\"test.csv\")\n",
    "print(\"Train shape : \",train_df.shape)\n",
    "print(\"Test shape : \",test_df.shape)"
   ]
  },
  {
   "cell_type": "code",
   "execution_count": 3,
   "metadata": {},
   "outputs": [
    {
     "data": {
      "text/html": [
       "<div>\n",
       "<style scoped>\n",
       "    .dataframe tbody tr th:only-of-type {\n",
       "        vertical-align: middle;\n",
       "    }\n",
       "\n",
       "    .dataframe tbody tr th {\n",
       "        vertical-align: top;\n",
       "    }\n",
       "\n",
       "    .dataframe thead th {\n",
       "        text-align: right;\n",
       "    }\n",
       "</style>\n",
       "<table border=\"1\" class=\"dataframe\">\n",
       "  <thead>\n",
       "    <tr style=\"text-align: right;\">\n",
       "      <th></th>\n",
       "      <th>qid</th>\n",
       "      <th>question_text</th>\n",
       "      <th>target</th>\n",
       "    </tr>\n",
       "  </thead>\n",
       "  <tbody>\n",
       "    <tr>\n",
       "      <th>0</th>\n",
       "      <td>00002165364db923c7e6</td>\n",
       "      <td>How did Quebec nationalists see their province...</td>\n",
       "      <td>0</td>\n",
       "    </tr>\n",
       "    <tr>\n",
       "      <th>1</th>\n",
       "      <td>000032939017120e6e44</td>\n",
       "      <td>Do you have an adopted dog, how would you enco...</td>\n",
       "      <td>0</td>\n",
       "    </tr>\n",
       "    <tr>\n",
       "      <th>2</th>\n",
       "      <td>0000412ca6e4628ce2cf</td>\n",
       "      <td>Why does velocity affect time? Does velocity a...</td>\n",
       "      <td>0</td>\n",
       "    </tr>\n",
       "    <tr>\n",
       "      <th>3</th>\n",
       "      <td>000042bf85aa498cd78e</td>\n",
       "      <td>How did Otto von Guericke used the Magdeburg h...</td>\n",
       "      <td>0</td>\n",
       "    </tr>\n",
       "    <tr>\n",
       "      <th>4</th>\n",
       "      <td>0000455dfa3e01eae3af</td>\n",
       "      <td>Can I convert montra helicon D to a mountain b...</td>\n",
       "      <td>0</td>\n",
       "    </tr>\n",
       "  </tbody>\n",
       "</table>\n",
       "</div>"
      ],
      "text/plain": [
       "                    qid                                      question_text  \\\n",
       "0  00002165364db923c7e6  How did Quebec nationalists see their province...   \n",
       "1  000032939017120e6e44  Do you have an adopted dog, how would you enco...   \n",
       "2  0000412ca6e4628ce2cf  Why does velocity affect time? Does velocity a...   \n",
       "3  000042bf85aa498cd78e  How did Otto von Guericke used the Magdeburg h...   \n",
       "4  0000455dfa3e01eae3af  Can I convert montra helicon D to a mountain b...   \n",
       "\n",
       "   target  \n",
       "0       0  \n",
       "1       0  \n",
       "2       0  \n",
       "3       0  \n",
       "4       0  "
      ]
     },
     "execution_count": 3,
     "metadata": {},
     "output_type": "execute_result"
    }
   ],
   "source": [
    "train_df.head()"
   ]
  },
  {
   "cell_type": "code",
   "execution_count": 4,
   "metadata": {},
   "outputs": [
    {
     "name": "stdout",
     "output_type": "stream",
     "text": [
      "CPU times: user 50 s, sys: 636 ms, total: 50.7 s\n",
      "Wall time: 47.4 s\n"
     ]
    }
   ],
   "source": [
    "%%time\n",
    "## split to train and val\n",
    "train_df, val_df = train_test_split(train_df, test_size=0.1, random_state=2018)\n",
    "\n",
    "## some config values \n",
    "embed_size = 300 # how big is each word vector\n",
    "max_features = 50000 # how many unique words to use (i.e num rows in embedding vector)\n",
    "maxlen = 100 # max number of words in a question to use\n",
    "\n",
    "## fill up the missing values\n",
    "train_X = train_df[\"question_text\"].fillna(\"_na_\").values\n",
    "val_X = val_df[\"question_text\"].fillna(\"_na_\").values\n",
    "test_X = test_df[\"question_text\"].fillna(\"_na_\").values\n",
    "\n",
    "## Tokenize the sentences\n",
    "tokenizer = Tokenizer(num_words=max_features)\n",
    "tokenizer.fit_on_texts(list(train_X))\n",
    "train_X = tokenizer.texts_to_sequences(train_X)\n",
    "val_X = tokenizer.texts_to_sequences(val_X)\n",
    "test_X = tokenizer.texts_to_sequences(test_X)\n",
    "\n",
    "## Pad the sentences \n",
    "train_X = pad_sequences(train_X, maxlen=maxlen)\n",
    "val_X = pad_sequences(val_X, maxlen=maxlen)\n",
    "test_X = pad_sequences(test_X, maxlen=maxlen)\n",
    "\n",
    "## Get the target values\n",
    "train_y = train_df['target'].values\n",
    "val_y = val_df['target'].values"
   ]
  },
  {
   "cell_type": "code",
   "execution_count": 5,
   "metadata": {
    "collapsed": true
   },
   "outputs": [],
   "source": [
    "#let's store the resulting tokens\n",
    "train_df[\"tokens\"] = tokenizer.sequences_to_texts(train_X)\n",
    "train_df[\"tokens\"] = train_df[\"tokens\"].apply(lambda x: x.split(\" \"))\n",
    "\n",
    "val_df[\"tokens\"] = tokenizer.sequences_to_texts(val_X)\n",
    "val_df[\"tokens\"] = val_df[\"tokens\"].apply(lambda x: x.split(\" \"))\n",
    "\n",
    "test_df[\"tokens\"] = tokenizer.sequences_to_texts(test_X)\n",
    "test_df[\"tokens\"] = test_df[\"tokens\"].apply(lambda x: x.split(\" \"))"
   ]
  },
  {
   "cell_type": "code",
   "execution_count": 6,
   "metadata": {},
   "outputs": [
    {
     "data": {
      "text/html": [
       "<div>\n",
       "<style scoped>\n",
       "    .dataframe tbody tr th:only-of-type {\n",
       "        vertical-align: middle;\n",
       "    }\n",
       "\n",
       "    .dataframe tbody tr th {\n",
       "        vertical-align: top;\n",
       "    }\n",
       "\n",
       "    .dataframe thead th {\n",
       "        text-align: right;\n",
       "    }\n",
       "</style>\n",
       "<table border=\"1\" class=\"dataframe\">\n",
       "  <thead>\n",
       "    <tr style=\"text-align: right;\">\n",
       "      <th></th>\n",
       "      <th>qid</th>\n",
       "      <th>question_text</th>\n",
       "      <th>target</th>\n",
       "      <th>tokens</th>\n",
       "    </tr>\n",
       "  </thead>\n",
       "  <tbody>\n",
       "    <tr>\n",
       "      <th>651064</th>\n",
       "      <td>7f8590ef60e30b4344fd</td>\n",
       "      <td>What have been the best exhibits at the Museo ...</td>\n",
       "      <td>0</td>\n",
       "      <td>[what, have, been, the, best, exhibits, at, th...</td>\n",
       "    </tr>\n",
       "    <tr>\n",
       "      <th>1294259</th>\n",
       "      <td>fda9538a2e0a5b2dfc3c</td>\n",
       "      <td>How can I rotate batch image files?</td>\n",
       "      <td>0</td>\n",
       "      <td>[how, can, i, rotate, batch, image, files]</td>\n",
       "    </tr>\n",
       "    <tr>\n",
       "      <th>1205706</th>\n",
       "      <td>ec528b4e3abc3347cd21</td>\n",
       "      <td>Which is the best cable operator in Thane west...</td>\n",
       "      <td>0</td>\n",
       "      <td>[which, is, the, best, cable, operator, in, th...</td>\n",
       "    </tr>\n",
       "    <tr>\n",
       "      <th>460090</th>\n",
       "      <td>5a1a41ea2086f2264eab</td>\n",
       "      <td>How do I expand, factor and simplify in algebra?</td>\n",
       "      <td>0</td>\n",
       "      <td>[how, do, i, expand, factor, and, simplify, in...</td>\n",
       "    </tr>\n",
       "    <tr>\n",
       "      <th>1277213</th>\n",
       "      <td>fa4f394af94b2b094e15</td>\n",
       "      <td>Do you judge people often?</td>\n",
       "      <td>0</td>\n",
       "      <td>[do, you, judge, people, often]</td>\n",
       "    </tr>\n",
       "  </tbody>\n",
       "</table>\n",
       "</div>"
      ],
      "text/plain": [
       "                          qid  \\\n",
       "651064   7f8590ef60e30b4344fd   \n",
       "1294259  fda9538a2e0a5b2dfc3c   \n",
       "1205706  ec528b4e3abc3347cd21   \n",
       "460090   5a1a41ea2086f2264eab   \n",
       "1277213  fa4f394af94b2b094e15   \n",
       "\n",
       "                                             question_text  target  \\\n",
       "651064   What have been the best exhibits at the Museo ...       0   \n",
       "1294259                How can I rotate batch image files?       0   \n",
       "1205706  Which is the best cable operator in Thane west...       0   \n",
       "460090    How do I expand, factor and simplify in algebra?       0   \n",
       "1277213                         Do you judge people often?       0   \n",
       "\n",
       "                                                    tokens  \n",
       "651064   [what, have, been, the, best, exhibits, at, th...  \n",
       "1294259         [how, can, i, rotate, batch, image, files]  \n",
       "1205706  [which, is, the, best, cable, operator, in, th...  \n",
       "460090   [how, do, i, expand, factor, and, simplify, in...  \n",
       "1277213                    [do, you, judge, people, often]  "
      ]
     },
     "execution_count": 6,
     "metadata": {},
     "output_type": "execute_result"
    }
   ],
   "source": [
    "train_df.head()"
   ]
  },
  {
   "cell_type": "markdown",
   "metadata": {},
   "source": [
    "### Without Embeddings\n",
    "\n",
    "#### 1. Fast GRU neural net architecture"
   ]
  },
  {
   "cell_type": "code",
   "execution_count": 7,
   "metadata": {},
   "outputs": [
    {
     "name": "stdout",
     "output_type": "stream",
     "text": [
      "_________________________________________________________________\n",
      "Layer (type)                 Output Shape              Param #   \n",
      "=================================================================\n",
      "input_1 (InputLayer)         (None, 100)               0         \n",
      "_________________________________________________________________\n",
      "embedding_1 (Embedding)      (None, 100, 300)          15000000  \n",
      "_________________________________________________________________\n",
      "bidirectional_1 (Bidirection (None, 100, 256)          330240    \n",
      "_________________________________________________________________\n",
      "global_max_pooling1d_1 (Glob (None, 256)               0         \n",
      "_________________________________________________________________\n",
      "dense_1 (Dense)              (None, 16)                4112      \n",
      "_________________________________________________________________\n",
      "dropout_1 (Dropout)          (None, 16)                0         \n",
      "_________________________________________________________________\n",
      "dense_2 (Dense)              (None, 1)                 17        \n",
      "=================================================================\n",
      "Total params: 15,334,369\n",
      "Trainable params: 15,334,369\n",
      "Non-trainable params: 0\n",
      "_________________________________________________________________\n",
      "None\n",
      "Train on 1175509 samples, validate on 130613 samples\n",
      "Epoch 1/3\n",
      "1175509/1175509 [==============================] - 178s 152us/step - loss: 0.1219 - acc: 0.9534 - val_loss: 0.1074 - val_acc: 0.9565\n",
      "Epoch 2/3\n",
      "1175509/1175509 [==============================] - 178s 151us/step - loss: 0.0978 - acc: 0.9607 - val_loss: 0.1065 - val_acc: 0.9578\n",
      "Epoch 3/3\n",
      "1175509/1175509 [==============================] - 177s 150us/step - loss: 0.0823 - acc: 0.9669 - val_loss: 0.1136 - val_acc: 0.9562\n",
      "130613/130613 [==============================] - 4s 32us/step\n",
      "CPU times: user 6min 51s, sys: 1min 28s, total: 8min 19s\n",
      "Wall time: 9min 3s\n"
     ]
    },
    {
     "data": {
      "image/png": "[encoded data removed]",
      "text/plain": [
       "<Figure size 432x288 with 1 Axes>"
      ]
     },
     "metadata": {},
     "output_type": "display_data"
    }
   ],
   "source": [
    "%%time\n",
    "inp = Input(shape=(maxlen,))\n",
    "x = Embedding(max_features, embed_size)(inp)\n",
    "x = Bidirectional(CuDNNGRU(128, return_sequences=True))(x)\n",
    "x = GlobalMaxPool1D()(x)\n",
    "x = Dense(16, activation=\"relu\")(x)\n",
    "x = Dropout(0.1)(x)\n",
    "x = Dense(1, activation=\"sigmoid\")(x)\n",
    "model = Model(inputs=inp, outputs=x)\n",
    "model.compile(loss='binary_crossentropy', optimizer='adam', metrics=['accuracy'])\n",
    "\n",
    "print(model.summary())\n",
    "## Train the model \n",
    "model.fit(train_X, train_y, batch_size=512, epochs=3, validation_data=(val_X, val_y))\n",
    "\n",
    "#plot the best threshold and metric\n",
    "pred_noemb_val_y = model.predict([val_X], batch_size=1024, verbose=1)\n",
    "f1_scores = []\n",
    "threshs = np.arange(0.1, 0.9, 0.01)\n",
    "for thresh in threshs:\n",
    "    thresh = np.round(thresh, 2)\n",
    "    f1_score = metrics.f1_score(val_y, (pred_noemb_val_y>thresh).astype(int))\n",
    "    f1_scores.append(f1_score)\n",
    "    \n",
    "plt.plot(threshs, f1_scores)\n",
    "max_fscore = np.round(f1_scores[np.argmax(f1_scores)], 3)\n",
    "max_thresh = np.round(threshs[np.argmax(f1_scores)], 3)\n",
    "plt.title(\"F scores at different values of thresholds | Max: {} | Thresh {}\".format(max_fscore, max_thresh))"
   ]
  },
  {
   "cell_type": "markdown",
   "metadata": {},
   "source": [
    "#### 2. LSTM architecture"
   ]
  },
  {
   "cell_type": "code",
   "execution_count": 8,
   "metadata": {},
   "outputs": [
    {
     "name": "stdout",
     "output_type": "stream",
     "text": [
      "_________________________________________________________________\n",
      "Layer (type)                 Output Shape              Param #   \n",
      "=================================================================\n",
      "input_2 (InputLayer)         (None, 100)               0         \n",
      "_________________________________________________________________\n",
      "embedding_2 (Embedding)      (None, 100, 300)          15000000  \n",
      "_________________________________________________________________\n",
      "bidirectional_2 (Bidirection (None, 100, 256)          439296    \n",
      "_________________________________________________________________\n",
      "global_max_pooling1d_2 (Glob (None, 256)               0         \n",
      "_________________________________________________________________\n",
      "dense_3 (Dense)              (None, 16)                4112      \n",
      "_________________________________________________________________\n",
      "dropout_2 (Dropout)          (None, 16)                0         \n",
      "_________________________________________________________________\n",
      "dense_4 (Dense)              (None, 1)                 17        \n",
      "=================================================================\n",
      "Total params: 15,443,425\n",
      "Trainable params: 15,443,425\n",
      "Non-trainable params: 0\n",
      "_________________________________________________________________\n",
      "None\n",
      "Train on 1175509 samples, validate on 130613 samples\n",
      "Epoch 1/3\n",
      "1175509/1175509 [==============================] - 690s 587us/step - loss: 0.1225 - acc: 0.9532 - val_loss: 0.1085 - val_acc: 0.9564\n",
      "Epoch 2/3\n",
      "1175509/1175509 [==============================] - 691s 587us/step - loss: 0.0991 - acc: 0.9602 - val_loss: 0.1064 - val_acc: 0.9572\n",
      "Epoch 3/3\n",
      "1175509/1175509 [==============================] - 725s 617us/step - loss: 0.0851 - acc: 0.9657 - val_loss: 0.1149 - val_acc: 0.9563\n",
      "130613/130613 [==============================] - 14s 105us/step\n",
      "CPU times: user 1h 10min 33s, sys: 9min 1s, total: 1h 19min 34s\n",
      "Wall time: 35min 23s\n"
     ]
    },
    {
     "data": {
      "image/png": "[encoded data removed]",
      "text/plain": [
       "<Figure size 432x288 with 1 Axes>"
      ]
     },
     "metadata": {},
     "output_type": "display_data"
    }
   ],
   "source": [
    "%%time\n",
    "inp = Input(shape=(maxlen,))\n",
    "x = Embedding(max_features, embed_size)(inp)\n",
    "x = Bidirectional(LSTM(128, return_sequences=True))(x)\n",
    "x = GlobalMaxPool1D()(x)\n",
    "x = Dense(16, activation=\"relu\")(x)\n",
    "x = Dropout(0.1)(x)\n",
    "x = Dense(1, activation=\"sigmoid\")(x)\n",
    "model = Model(inputs=inp, outputs=x)\n",
    "model.compile(loss='binary_crossentropy', optimizer='adam', metrics=['accuracy'])\n",
    "\n",
    "print(model.summary())\n",
    "## Train the model \n",
    "model.fit(train_X, train_y, batch_size=512, epochs=3, validation_data=(val_X, val_y))\n",
    "\n",
    "#plot the best threshold and metric\n",
    "pred_noemb_val_y = model.predict([val_X], batch_size=1024, verbose=1)\n",
    "f1_scores = []\n",
    "threshs = np.arange(0.1, 0.9, 0.01)\n",
    "for thresh in threshs:\n",
    "    thresh = np.round(thresh, 2)\n",
    "    f1_score = metrics.f1_score(val_y, (pred_noemb_val_y>thresh).astype(int))\n",
    "    f1_scores.append(f1_score)\n",
    "    \n",
    "plt.plot(threshs, f1_scores)\n",
    "max_fscore = np.round(f1_scores[np.argmax(f1_scores)], 3)\n",
    "max_thresh = np.round(threshs[np.argmax(f1_scores)], 3)\n",
    "plt.title(\"F scores at different values of thresholds | Max: {} | Thresh {}\".format(max_fscore, max_thresh))"
   ]
  },
  {
   "cell_type": "code",
   "execution_count": 9,
   "metadata": {},
   "outputs": [
    {
     "data": {
      "image/png": "[encoded data removed]",
      "text/plain": [
       "<PIL.PngImagePlugin.PngImageFile image mode=RGB size=389x644 at 0x7F8E11032198>"
      ]
     },
     "execution_count": 9,
     "metadata": {},
     "output_type": "execute_result"
    }
   ],
   "source": [
    "plot_model(model, to_file=\"model.png\")\n",
    "image = Image.open(\"model.png\")\n",
    "image"
   ]
  },
  {
   "cell_type": "markdown",
   "metadata": {},
   "source": [
    "#### 3.  Recurrent Neural Net Architecture"
   ]
  },
  {
   "cell_type": "code",
   "execution_count": 10,
   "metadata": {
    "scrolled": false
   },
   "outputs": [
    {
     "name": "stdout",
     "output_type": "stream",
     "text": [
      "_________________________________________________________________\n",
      "Layer (type)                 Output Shape              Param #   \n",
      "=================================================================\n",
      "input_3 (InputLayer)         (None, 100)               0         \n",
      "_________________________________________________________________\n",
      "embedding_3 (Embedding)      (None, 100, 300)          15000000  \n",
      "_________________________________________________________________\n",
      "bidirectional_3 (Bidirection (None, 100, 256)          109824    \n",
      "_________________________________________________________________\n",
      "global_max_pooling1d_3 (Glob (None, 256)               0         \n",
      "_________________________________________________________________\n",
      "dense_5 (Dense)              (None, 16)                4112      \n",
      "_________________________________________________________________\n",
      "dropout_3 (Dropout)          (None, 16)                0         \n",
      "_________________________________________________________________\n",
      "dense_6 (Dense)              (None, 1)                 17        \n",
      "=================================================================\n",
      "Total params: 15,113,953\n",
      "Trainable params: 15,113,953\n",
      "Non-trainable params: 0\n",
      "_________________________________________________________________\n",
      "None\n",
      "Train on 1175509 samples, validate on 130613 samples\n",
      "Epoch 1/3\n",
      "1175509/1175509 [==============================] - 261s 222us/step - loss: 0.1250 - acc: 0.9517 - val_loss: 0.1109 - val_acc: 0.9555\n",
      "Epoch 2/3\n",
      "1175509/1175509 [==============================] - 261s 222us/step - loss: 0.1031 - acc: 0.9585 - val_loss: 0.1107 - val_acc: 0.9559\n",
      "Epoch 3/3\n",
      "1175509/1175509 [==============================] - 260s 221us/step - loss: 0.0898 - acc: 0.9639 - val_loss: 0.1110 - val_acc: 0.9553\n",
      "130613/130613 [==============================] - 5s 42us/step\n"
     ]
    },
    {
     "name": "stderr",
     "output_type": "stream",
     "text": [
      "/home/nbatanay/.conda/envs/nlp_env/lib/python3.5/site-packages/sklearn/metrics/classification.py:1143: UndefinedMetricWarning: F-score is ill-defined and being set to 0.0 due to no predicted samples.\n",
      "  'precision', 'predicted', average, warn_for)\n",
      "/home/nbatanay/.conda/envs/nlp_env/lib/python3.5/site-packages/sklearn/metrics/classification.py:1143: UndefinedMetricWarning: F-score is ill-defined and being set to 0.0 due to no predicted samples.\n",
      "  'precision', 'predicted', average, warn_for)\n",
      "/home/nbatanay/.conda/envs/nlp_env/lib/python3.5/site-packages/sklearn/metrics/classification.py:1143: UndefinedMetricWarning: F-score is ill-defined and being set to 0.0 due to no predicted samples.\n",
      "  'precision', 'predicted', average, warn_for)\n",
      "/home/nbatanay/.conda/envs/nlp_env/lib/python3.5/site-packages/sklearn/metrics/classification.py:1143: UndefinedMetricWarning: F-score is ill-defined and being set to 0.0 due to no predicted samples.\n",
      "  'precision', 'predicted', average, warn_for)\n",
      "/home/nbatanay/.conda/envs/nlp_env/lib/python3.5/site-packages/sklearn/metrics/classification.py:1143: UndefinedMetricWarning: F-score is ill-defined and being set to 0.0 due to no predicted samples.\n",
      "  'precision', 'predicted', average, warn_for)\n",
      "/home/nbatanay/.conda/envs/nlp_env/lib/python3.5/site-packages/sklearn/metrics/classification.py:1143: UndefinedMetricWarning: F-score is ill-defined and being set to 0.0 due to no predicted samples.\n",
      "  'precision', 'predicted', average, warn_for)\n",
      "/home/nbatanay/.conda/envs/nlp_env/lib/python3.5/site-packages/sklearn/metrics/classification.py:1143: UndefinedMetricWarning: F-score is ill-defined and being set to 0.0 due to no predicted samples.\n",
      "  'precision', 'predicted', average, warn_for)\n",
      "/home/nbatanay/.conda/envs/nlp_env/lib/python3.5/site-packages/sklearn/metrics/classification.py:1143: UndefinedMetricWarning: F-score is ill-defined and being set to 0.0 due to no predicted samples.\n",
      "  'precision', 'predicted', average, warn_for)\n",
      "/home/nbatanay/.conda/envs/nlp_env/lib/python3.5/site-packages/sklearn/metrics/classification.py:1143: UndefinedMetricWarning: F-score is ill-defined and being set to 0.0 due to no predicted samples.\n",
      "  'precision', 'predicted', average, warn_for)\n",
      "/home/nbatanay/.conda/envs/nlp_env/lib/python3.5/site-packages/sklearn/metrics/classification.py:1143: UndefinedMetricWarning: F-score is ill-defined and being set to 0.0 due to no predicted samples.\n",
      "  'precision', 'predicted', average, warn_for)\n",
      "/home/nbatanay/.conda/envs/nlp_env/lib/python3.5/site-packages/sklearn/metrics/classification.py:1143: UndefinedMetricWarning: F-score is ill-defined and being set to 0.0 due to no predicted samples.\n",
      "  'precision', 'predicted', average, warn_for)\n",
      "/home/nbatanay/.conda/envs/nlp_env/lib/python3.5/site-packages/sklearn/metrics/classification.py:1143: UndefinedMetricWarning: F-score is ill-defined and being set to 0.0 due to no predicted samples.\n",
      "  'precision', 'predicted', average, warn_for)\n",
      "/home/nbatanay/.conda/envs/nlp_env/lib/python3.5/site-packages/sklearn/metrics/classification.py:1143: UndefinedMetricWarning: F-score is ill-defined and being set to 0.0 due to no predicted samples.\n",
      "  'precision', 'predicted', average, warn_for)\n"
     ]
    },
    {
     "name": "stdout",
     "output_type": "stream",
     "text": [
      "CPU times: user 26min 5s, sys: 2min 57s, total: 29min 2s\n",
      "Wall time: 13min 9s\n"
     ]
    },
    {
     "data": {
      "image/png": "[encoded data removed]",
      "text/plain": [
       "<Figure size 432x288 with 1 Axes>"
      ]
     },
     "metadata": {},
     "output_type": "display_data"
    }
   ],
   "source": [
    "%%time\n",
    "inp = Input(shape=(maxlen,))\n",
    "x = Embedding(max_features, embed_size)(inp)\n",
    "x = Bidirectional(SimpleRNN(128, return_sequences=True))(x)\n",
    "x = GlobalMaxPool1D()(x)\n",
    "x = Dense(16, activation=\"relu\")(x)\n",
    "x = Dropout(0.1)(x)\n",
    "x = Dense(1, activation=\"sigmoid\")(x)\n",
    "model = Model(inputs=inp, outputs=x)\n",
    "model.compile(loss='binary_crossentropy', optimizer='adam', metrics=['accuracy'])\n",
    "\n",
    "print(model.summary())\n",
    "## Train the model \n",
    "model.fit(train_X, train_y, batch_size=512, epochs=3, validation_data=(val_X, val_y))\n",
    "\n",
    "#plot the best threshold and metric\n",
    "pred_noemb_val_y = model.predict([val_X], batch_size=1024, verbose=1)\n",
    "f1_scores = []\n",
    "threshs = np.arange(0.1, 0.9, 0.01)\n",
    "for thresh in threshs:\n",
    "    thresh = np.round(thresh, 2)\n",
    "    f1_score = metrics.f1_score(val_y, (pred_noemb_val_y>thresh).astype(int))\n",
    "    f1_scores.append(f1_score)\n",
    "    \n",
    "plt.plot(threshs, f1_scores)\n",
    "max_fscore = np.round(f1_scores[np.argmax(f1_scores)], 3)\n",
    "max_thresh = np.round(threshs[np.argmax(f1_scores)], 3)\n",
    "plt.title(\"F scores at different values of thresholds | Max: {} | Thresh {}\".format(max_fscore, max_thresh))"
   ]
  },
  {
   "cell_type": "markdown",
   "metadata": {},
   "source": [
    "#### 4. CNN"
   ]
  },
  {
   "cell_type": "code",
   "execution_count": 11,
   "metadata": {},
   "outputs": [
    {
     "name": "stdout",
     "output_type": "stream",
     "text": [
      "__________________________________________________________________________________________________\n",
      "Layer (type)                    Output Shape         Param #     Connected to                     \n",
      "==================================================================================================\n",
      "input_4 (InputLayer)            (None, 100)          0                                            \n",
      "__________________________________________________________________________________________________\n",
      "embedding_4 (Embedding)         (None, 100, 300)     15000000    input_4[0][0]                    \n",
      "__________________________________________________________________________________________________\n",
      "spatial_dropout1d_1 (SpatialDro (None, 100, 300)     0           embedding_4[0][0]                \n",
      "__________________________________________________________________________________________________\n",
      "reshape_1 (Reshape)             (None, 100, 300, 1)  0           spatial_dropout1d_1[0][0]        \n",
      "__________________________________________________________________________________________________\n",
      "conv2d_1 (Conv2D)               (None, 100, 1, 128)  38528       reshape_1[0][0]                  \n",
      "__________________________________________________________________________________________________\n",
      "conv2d_2 (Conv2D)               (None, 99, 1, 128)   76928       reshape_1[0][0]                  \n",
      "__________________________________________________________________________________________________\n",
      "conv2d_3 (Conv2D)               (None, 98, 1, 128)   115328      reshape_1[0][0]                  \n",
      "__________________________________________________________________________________________________\n",
      "conv2d_4 (Conv2D)               (None, 96, 1, 128)   192128      reshape_1[0][0]                  \n",
      "__________________________________________________________________________________________________\n",
      "max_pooling2d_1 (MaxPooling2D)  (None, 1, 1, 128)    0           conv2d_1[0][0]                   \n",
      "__________________________________________________________________________________________________\n",
      "max_pooling2d_2 (MaxPooling2D)  (None, 1, 1, 128)    0           conv2d_2[0][0]                   \n",
      "__________________________________________________________________________________________________\n",
      "max_pooling2d_3 (MaxPooling2D)  (None, 1, 1, 128)    0           conv2d_3[0][0]                   \n",
      "__________________________________________________________________________________________________\n",
      "max_pooling2d_4 (MaxPooling2D)  (None, 1, 1, 128)    0           conv2d_4[0][0]                   \n",
      "__________________________________________________________________________________________________\n",
      "concatenate_1 (Concatenate)     (None, 4, 1, 128)    0           max_pooling2d_1[0][0]            \n",
      "                                                                 max_pooling2d_2[0][0]            \n",
      "                                                                 max_pooling2d_3[0][0]            \n",
      "                                                                 max_pooling2d_4[0][0]            \n",
      "__________________________________________________________________________________________________\n",
      "flatten_1 (Flatten)             (None, 512)          0           concatenate_1[0][0]              \n",
      "__________________________________________________________________________________________________\n",
      "dense_7 (Dense)                 (None, 16)           8208        flatten_1[0][0]                  \n",
      "__________________________________________________________________________________________________\n",
      "dropout_4 (Dropout)             (None, 16)           0           dense_7[0][0]                    \n",
      "__________________________________________________________________________________________________\n",
      "dense_8 (Dense)                 (None, 1)            17          dropout_4[0][0]                  \n",
      "==================================================================================================\n",
      "Total params: 15,431,137\n",
      "Trainable params: 15,431,137\n",
      "Non-trainable params: 0\n",
      "__________________________________________________________________________________________________\n",
      "None\n",
      "Train on 1175509 samples, validate on 130613 samples\n",
      "Epoch 1/3\n",
      "1175509/1175509 [==============================] - 226s 192us/step - loss: 0.1234 - acc: 0.9513 - val_loss: 0.1090 - val_acc: 0.9568\n",
      "Epoch 2/3\n",
      "1175509/1175509 [==============================] - 224s 191us/step - loss: 0.0978 - acc: 0.9609 - val_loss: 0.1115 - val_acc: 0.9578\n",
      "Epoch 3/3\n",
      "1175509/1175509 [==============================] - 224s 191us/step - loss: 0.0785 - acc: 0.9688 - val_loss: 0.1152 - val_acc: 0.9560\n",
      "130613/130613 [==============================] - 6s 49us/step\n"
     ]
    },
    {
     "data": {
      "text/plain": [
       "Text(0.5,1,'F scores at different values of thresholds | Max: 0.648 | Thresh 0.41')"
      ]
     },
     "execution_count": 11,
     "metadata": {},
     "output_type": "execute_result"
    },
    {
     "data": {
      "image/png": "[encoded data removed]",
      "text/plain": [
       "<Figure size 432x288 with 1 Axes>"
      ]
     },
     "metadata": {},
     "output_type": "display_data"
    }
   ],
   "source": [
    "#%%time\n",
    "inp = Input(shape=(maxlen,))\n",
    "x = Embedding(max_features, embed_size)(inp)\n",
    "x = SpatialDropout1D(0.2)(x)\n",
    "x = Reshape((maxlen, embed_size, 1))(x)\n",
    "\n",
    "filt_sizes = [1,2,3,5]\n",
    "max_pools = []\n",
    "for i in range(len(filt_sizes)):\n",
    "    conv = Conv2D(128, kernel_size=(filt_sizes[i], embed_size),\n",
    "                  kernel_initializer=\"he_normal\", activation=\"elu\")(x)\n",
    "    max_pools.append(MaxPool2D(pool_size=(maxlen-filt_sizes[i]+1, 1))(conv))\n",
    "    \n",
    "x = Concatenate(axis=1)(max_pools)\n",
    "x = Flatten()(x)\n",
    "x = Dense(16, activation=\"relu\")(x)\n",
    "x = Dropout(0.1)(x)\n",
    "x = Dense(1, activation=\"sigmoid\")(x)\n",
    "model = Model(inputs=inp, outputs=x)\n",
    "model.compile(loss='binary_crossentropy', optimizer='adam', metrics=['accuracy'])\n",
    "\n",
    "print(model.summary())\n",
    "#\"\"\"\n",
    "## Train the model \n",
    "model.fit(train_X, train_y, batch_size=512, epochs=3, validation_data=(val_X, val_y))\n",
    "\n",
    "#plot the best threshold and metric\n",
    "pred_noemb_val_y = model.predict([val_X], batch_size=1024, verbose=1)\n",
    "f1_scores = []\n",
    "threshs = np.arange(0.1, 0.9, 0.01)\n",
    "for thresh in threshs:\n",
    "    thresh = np.round(thresh, 2)\n",
    "    f1_score = metrics.f1_score(val_y, (pred_noemb_val_y>thresh).astype(int))\n",
    "    f1_scores.append(f1_score)\n",
    "    \n",
    "plt.plot(threshs, f1_scores)\n",
    "max_fscore = np.round(f1_scores[np.argmax(f1_scores)], 3)\n",
    "max_thresh = np.round(threshs[np.argmax(f1_scores)], 3)\n",
    "plt.title(\"F scores at different values of thresholds | Max: {} | Thresh {}\".format(max_fscore, max_thresh))\n",
    "\n",
    "#\"\"\""
   ]
  },
  {
   "cell_type": "code",
   "execution_count": null,
   "metadata": {
    "collapsed": true
   },
   "outputs": [],
   "source": []
  }
 ],
 "metadata": {
  "kernelspec": {
   "display_name": "Python [conda env:nlp_env]",
   "language": "python",
   "name": "conda-env-nlp_env-py"
  },
  "language_info": {
   "codemirror_mode": {
    "name": "ipython",
    "version": 3
   },
   "file_extension": ".py",
   "mimetype": "text/x-python",
   "name": "python",
   "nbconvert_exporter": "python",
   "pygments_lexer": "ipython3",
   "version": "3.5.4"
  }
 },
 "nbformat": 4,
 "nbformat_minor": 2
}
